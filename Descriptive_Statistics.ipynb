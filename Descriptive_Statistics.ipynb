{
  "nbformat": 4,
  "nbformat_minor": 0,
  "metadata": {
    "colab": {
      "name": "Descriptive Statistics.ipynb",
      "provenance": [],
      "collapsed_sections": [],
      "toc_visible": true,
      "authorship_tag": "ABX9TyPHfSpI9f6Pt/mdfLsY7u2P",
      "include_colab_link": true
    },
    "kernelspec": {
      "name": "python3",
      "display_name": "Python 3"
    }
  },
  "cells": [
    {
      "cell_type": "markdown",
      "metadata": {
        "id": "view-in-github",
        "colab_type": "text"
      },
      "source": [
        "<a href=\"https://colab.research.google.com/github/rraminnall/Airline/blob/main/Descriptive_Statistics.ipynb\" target=\"_parent\"><img src=\"https://colab.research.google.com/assets/colab-badge.svg\" alt=\"Open In Colab\"/></a>"
      ]
    },
    {
      "cell_type": "code",
      "metadata": {
        "id": "skYDl3oFfrUJ"
      },
      "source": [
        "import numpy as np\n",
        "import pandas as pd\n",
        "import datetime as dt\n",
        "import matplotlib.pyplot as plt"
      ],
      "execution_count": null,
      "outputs": []
    },
    {
      "cell_type": "code",
      "metadata": {
        "id": "TQ5eTWR3Flyw"
      },
      "source": [
        "from google.colab import drive\n",
        "drive.mount('/content/gdrive')"
      ],
      "execution_count": null,
      "outputs": []
    },
    {
      "cell_type": "code",
      "metadata": {
        "colab": {
          "base_uri": "https://localhost:8080/"
        },
        "id": "4EMxUVlsnIOu",
        "outputId": "05ccbca9-8745-4c31-af64-7f3528a57bde"
      },
      "source": [
        "%cd /content/gdrive/My\\ Drive/"
      ],
      "execution_count": null,
      "outputs": [
        {
          "output_type": "stream",
          "text": [
            "/content/gdrive/My Drive\n"
          ],
          "name": "stdout"
        }
      ]
    },
    {
      "cell_type": "code",
      "metadata": {
        "id": "_v740Wq0q0Ji"
      },
      "source": [
        "flight17=pd.read_csv('flight17.csv',na_values='-')"
      ],
      "execution_count": null,
      "outputs": []
    },
    {
      "cell_type": "code",
      "metadata": {
        "id": "WviB24vnpMeN"
      },
      "source": [
        "flight18=pd.read_csv('flight18.csv', na_values='-')"
      ],
      "execution_count": null,
      "outputs": []
    },
    {
      "cell_type": "code",
      "metadata": {
        "id": "fgPFxfxU2QSo"
      },
      "source": [
        "flight19=pd.read_csv('flight19.csv', na_values='-')"
      ],
      "execution_count": null,
      "outputs": []
    },
    {
      "cell_type": "code",
      "metadata": {
        "id": "hRFivwe02pcQ"
      },
      "source": [
        "flight=pd.concat([flight17,flight18,flight19], ignore_index=True)"
      ],
      "execution_count": null,
      "outputs": []
    },
    {
      "cell_type": "code",
      "metadata": {
        "id": "2kTulpKxocwZ"
      },
      "source": [
        "load=pd.read_csv('2015-2020 load factor.csv',na_values='-')"
      ],
      "execution_count": null,
      "outputs": []
    },
    {
      "cell_type": "code",
      "metadata": {
        "id": "kK7ZmmXtDGZV"
      },
      "source": [
        "load15=pd.read_csv('2015 load factor.csv', na_values='-')\n",
        "load16=pd.read_csv('2016 load factor.csv', na_values='-')\n",
        "load17=pd.read_csv('2017 load factor.csv', na_values='-')\n",
        "load18=pd.read_csv('2018 load factor.csv', na_values='-')\n",
        "load19=pd.read_csv('2019 load factor.csv', na_values='-')\n",
        "load20=pd.read_csv('2020 load factor.csv', na_values='-')"
      ],
      "execution_count": null,
      "outputs": []
    },
    {
      "cell_type": "code",
      "metadata": {
        "id": "63AF3odPFtBW"
      },
      "source": [
        "load = pd.concat([load15,load16,load17,load18,load19,load20], ignore_index=True)"
      ],
      "execution_count": null,
      "outputs": []
    },
    {
      "cell_type": "code",
      "metadata": {
        "id": "UE_hwClOTg4D"
      },
      "source": [
        "load.to_csv('2015-2020 load factor.csv')"
      ],
      "execution_count": null,
      "outputs": []
    },
    {
      "cell_type": "code",
      "metadata": {
        "id": "JIniEpkOXkAe"
      },
      "source": [
        "jan = pd.read_csv('1.csv', na_values='-')\n",
        "feb = pd.read_csv('2.csv', na_values='-')\n",
        "mar = pd.read_csv('3.csv', na_values='-')\n",
        "apr = pd.read_csv('4.csv', na_values='-')\n",
        "may = pd.read_csv('5.csv', na_values='-')\n",
        "jun = pd.read_csv('6.csv', na_values='-')\n",
        "jul = pd.read_csv('7.csv', na_values='-')\n",
        "aug = pd.read_csv('8.csv', na_values='-')\n",
        "sep = pd.read_csv('9.csv', na_values='-')\n",
        "oct = pd.read_csv('10.csv', na_values='-')\n",
        "nov = pd.read_csv('11.csv', na_values='-')\n",
        "dec = pd.read_csv('12.csv', na_values='-')"
      ],
      "execution_count": null,
      "outputs": []
    },
    {
      "cell_type": "code",
      "metadata": {
        "id": "Xk3y4NrQdLGx"
      },
      "source": [
        "flight19=pd.concat([jan,feb,mar,apr,may,jun,jul,aug,sep,oct,nov,dec],ignore_index=True)"
      ],
      "execution_count": null,
      "outputs": []
    },
    {
      "cell_type": "code",
      "metadata": {
        "id": "joE8SKUTdM11"
      },
      "source": [
        "flight19.to_csv('flight19.csv')"
      ],
      "execution_count": null,
      "outputs": []
    },
    {
      "cell_type": "code",
      "metadata": {
        "colab": {
          "base_uri": "https://localhost:8080/",
          "height": 334
        },
        "id": "OjxzhImzqqO9",
        "outputId": "ebc1f0da-ea9f-4e1c-d0d1-4503a58a86a7"
      },
      "source": [
        "flight19.describe()"
      ],
      "execution_count": null,
      "outputs": [
        {
          "output_type": "execute_result",
          "data": {
            "text/html": [
              "<div>\n",
              "<style scoped>\n",
              "    .dataframe tbody tr th:only-of-type {\n",
              "        vertical-align: middle;\n",
              "    }\n",
              "\n",
              "    .dataframe tbody tr th {\n",
              "        vertical-align: top;\n",
              "    }\n",
              "\n",
              "    .dataframe thead th {\n",
              "        text-align: right;\n",
              "    }\n",
              "</style>\n",
              "<table border=\"1\" class=\"dataframe\">\n",
              "  <thead>\n",
              "    <tr style=\"text-align: right;\">\n",
              "      <th></th>\n",
              "      <th>YEAR</th>\n",
              "      <th>MONTH</th>\n",
              "      <th>DAY_OF_MONTH</th>\n",
              "      <th>DAY_OF_WEEK</th>\n",
              "      <th>OP_CARRIER_FL_NUM</th>\n",
              "      <th>CRS_DEP_TIME</th>\n",
              "      <th>DEP_TIME</th>\n",
              "      <th>DEP_DELAY</th>\n",
              "      <th>TAXI_OUT</th>\n",
              "      <th>WHEELS_OFF</th>\n",
              "      <th>WHEELS_ON</th>\n",
              "      <th>TAXI_IN</th>\n",
              "      <th>CRS_ARR_TIME</th>\n",
              "      <th>ARR_TIME</th>\n",
              "      <th>ARR_DELAY</th>\n",
              "      <th>CANCELLED</th>\n",
              "      <th>DIVERTED</th>\n",
              "      <th>CRS_ELAPSED_TIME</th>\n",
              "      <th>ACTUAL_ELAPSED_TIME</th>\n",
              "      <th>AIR_TIME</th>\n",
              "      <th>DISTANCE</th>\n",
              "      <th>CARRIER_DELAY</th>\n",
              "      <th>WEATHER_DELAY</th>\n",
              "      <th>NAS_DELAY</th>\n",
              "      <th>SECURITY_DELAY</th>\n",
              "      <th>LATE_AIRCRAFT_DELAY</th>\n",
              "      <th>Unnamed: 30</th>\n",
              "    </tr>\n",
              "  </thead>\n",
              "  <tbody>\n",
              "    <tr>\n",
              "      <th>count</th>\n",
              "      <td>7422037.0</td>\n",
              "      <td>7.422037e+06</td>\n",
              "      <td>7.422037e+06</td>\n",
              "      <td>7.422037e+06</td>\n",
              "      <td>7.422037e+06</td>\n",
              "      <td>7.422037e+06</td>\n",
              "      <td>7.291951e+06</td>\n",
              "      <td>7.291927e+06</td>\n",
              "      <td>7.288060e+06</td>\n",
              "      <td>7.288060e+06</td>\n",
              "      <td>7.284390e+06</td>\n",
              "      <td>7.284390e+06</td>\n",
              "      <td>7.422037e+06</td>\n",
              "      <td>7.284391e+06</td>\n",
              "      <td>7.268232e+06</td>\n",
              "      <td>7.422037e+06</td>\n",
              "      <td>7.422037e+06</td>\n",
              "      <td>7.421902e+06</td>\n",
              "      <td>7.268232e+06</td>\n",
              "      <td>7.268232e+06</td>\n",
              "      <td>7.422037e+06</td>\n",
              "      <td>1.389253e+06</td>\n",
              "      <td>1.389253e+06</td>\n",
              "      <td>1.389253e+06</td>\n",
              "      <td>1.389253e+06</td>\n",
              "      <td>1.389253e+06</td>\n",
              "      <td>0.0</td>\n",
              "    </tr>\n",
              "    <tr>\n",
              "      <th>mean</th>\n",
              "      <td>2019.0</td>\n",
              "      <td>6.578750e+00</td>\n",
              "      <td>1.573196e+01</td>\n",
              "      <td>3.937155e+00</td>\n",
              "      <td>2.557196e+03</td>\n",
              "      <td>1.330259e+03</td>\n",
              "      <td>1.334606e+03</td>\n",
              "      <td>1.092327e+01</td>\n",
              "      <td>1.738935e+01</td>\n",
              "      <td>1.358264e+03</td>\n",
              "      <td>1.459032e+03</td>\n",
              "      <td>7.740776e+00</td>\n",
              "      <td>1.485790e+03</td>\n",
              "      <td>1.462955e+03</td>\n",
              "      <td>5.414849e+00</td>\n",
              "      <td>1.817897e-02</td>\n",
              "      <td>2.543776e-03</td>\n",
              "      <td>1.419022e+02</td>\n",
              "      <td>1.366903e+02</td>\n",
              "      <td>1.115734e+02</td>\n",
              "      <td>8.005437e+02</td>\n",
              "      <td>2.112859e+01</td>\n",
              "      <td>3.802404e+00</td>\n",
              "      <td>1.658795e+01</td>\n",
              "      <td>9.608329e-02</td>\n",
              "      <td>2.740748e+01</td>\n",
              "      <td>NaN</td>\n",
              "    </tr>\n",
              "    <tr>\n",
              "      <th>std</th>\n",
              "      <td>0.0</td>\n",
              "      <td>3.402585e+00</td>\n",
              "      <td>8.762183e+00</td>\n",
              "      <td>1.995814e+00</td>\n",
              "      <td>1.799413e+03</td>\n",
              "      <td>4.929855e+02</td>\n",
              "      <td>5.071998e+02</td>\n",
              "      <td>4.895964e+01</td>\n",
              "      <td>1.000398e+01</td>\n",
              "      <td>5.088109e+02</td>\n",
              "      <td>5.378414e+02</td>\n",
              "      <td>6.194340e+00</td>\n",
              "      <td>5.214659e+02</td>\n",
              "      <td>5.424542e+02</td>\n",
              "      <td>5.106666e+01</td>\n",
              "      <td>1.335983e-01</td>\n",
              "      <td>5.037167e-02</td>\n",
              "      <td>7.234685e+01</td>\n",
              "      <td>7.261274e+01</td>\n",
              "      <td>7.056123e+01</td>\n",
              "      <td>5.925118e+02</td>\n",
              "      <td>6.610465e+01</td>\n",
              "      <td>3.236297e+01</td>\n",
              "      <td>3.966440e+01</td>\n",
              "      <td>3.358346e+00</td>\n",
              "      <td>5.345620e+01</td>\n",
              "      <td>NaN</td>\n",
              "    </tr>\n",
              "    <tr>\n",
              "      <th>min</th>\n",
              "      <td>2019.0</td>\n",
              "      <td>1.000000e+00</td>\n",
              "      <td>1.000000e+00</td>\n",
              "      <td>1.000000e+00</td>\n",
              "      <td>1.000000e+00</td>\n",
              "      <td>1.000000e+00</td>\n",
              "      <td>1.000000e+00</td>\n",
              "      <td>-8.200000e+01</td>\n",
              "      <td>1.000000e+00</td>\n",
              "      <td>1.000000e+00</td>\n",
              "      <td>1.000000e+00</td>\n",
              "      <td>1.000000e+00</td>\n",
              "      <td>1.000000e+00</td>\n",
              "      <td>1.000000e+00</td>\n",
              "      <td>-9.900000e+01</td>\n",
              "      <td>0.000000e+00</td>\n",
              "      <td>0.000000e+00</td>\n",
              "      <td>1.000000e+00</td>\n",
              "      <td>1.500000e+01</td>\n",
              "      <td>4.000000e+00</td>\n",
              "      <td>3.100000e+01</td>\n",
              "      <td>0.000000e+00</td>\n",
              "      <td>0.000000e+00</td>\n",
              "      <td>0.000000e+00</td>\n",
              "      <td>0.000000e+00</td>\n",
              "      <td>0.000000e+00</td>\n",
              "      <td>NaN</td>\n",
              "    </tr>\n",
              "    <tr>\n",
              "      <th>25%</th>\n",
              "      <td>2019.0</td>\n",
              "      <td>4.000000e+00</td>\n",
              "      <td>8.000000e+00</td>\n",
              "      <td>2.000000e+00</td>\n",
              "      <td>1.025000e+03</td>\n",
              "      <td>9.130000e+02</td>\n",
              "      <td>9.140000e+02</td>\n",
              "      <td>-5.000000e+00</td>\n",
              "      <td>1.100000e+01</td>\n",
              "      <td>9.300000e+02</td>\n",
              "      <td>1.042000e+03</td>\n",
              "      <td>4.000000e+00</td>\n",
              "      <td>1.100000e+03</td>\n",
              "      <td>1.046000e+03</td>\n",
              "      <td>-1.500000e+01</td>\n",
              "      <td>0.000000e+00</td>\n",
              "      <td>0.000000e+00</td>\n",
              "      <td>9.000000e+01</td>\n",
              "      <td>8.400000e+01</td>\n",
              "      <td>6.000000e+01</td>\n",
              "      <td>3.690000e+02</td>\n",
              "      <td>0.000000e+00</td>\n",
              "      <td>0.000000e+00</td>\n",
              "      <td>0.000000e+00</td>\n",
              "      <td>0.000000e+00</td>\n",
              "      <td>0.000000e+00</td>\n",
              "      <td>NaN</td>\n",
              "    </tr>\n",
              "    <tr>\n",
              "      <th>50%</th>\n",
              "      <td>2019.0</td>\n",
              "      <td>7.000000e+00</td>\n",
              "      <td>1.600000e+01</td>\n",
              "      <td>4.000000e+00</td>\n",
              "      <td>2.158000e+03</td>\n",
              "      <td>1.321000e+03</td>\n",
              "      <td>1.327000e+03</td>\n",
              "      <td>-2.000000e+00</td>\n",
              "      <td>1.500000e+01</td>\n",
              "      <td>1.340000e+03</td>\n",
              "      <td>1.500000e+03</td>\n",
              "      <td>6.000000e+00</td>\n",
              "      <td>1.515000e+03</td>\n",
              "      <td>1.504000e+03</td>\n",
              "      <td>-6.000000e+00</td>\n",
              "      <td>0.000000e+00</td>\n",
              "      <td>0.000000e+00</td>\n",
              "      <td>1.240000e+02</td>\n",
              "      <td>1.190000e+02</td>\n",
              "      <td>9.300000e+01</td>\n",
              "      <td>6.400000e+02</td>\n",
              "      <td>0.000000e+00</td>\n",
              "      <td>0.000000e+00</td>\n",
              "      <td>2.000000e+00</td>\n",
              "      <td>0.000000e+00</td>\n",
              "      <td>3.000000e+00</td>\n",
              "      <td>NaN</td>\n",
              "    </tr>\n",
              "    <tr>\n",
              "      <th>75%</th>\n",
              "      <td>2019.0</td>\n",
              "      <td>1.000000e+01</td>\n",
              "      <td>2.300000e+01</td>\n",
              "      <td>6.000000e+00</td>\n",
              "      <td>3.917000e+03</td>\n",
              "      <td>1.736000e+03</td>\n",
              "      <td>1.746000e+03</td>\n",
              "      <td>7.000000e+00</td>\n",
              "      <td>2.000000e+01</td>\n",
              "      <td>1.801000e+03</td>\n",
              "      <td>1.912000e+03</td>\n",
              "      <td>9.000000e+00</td>\n",
              "      <td>1.921000e+03</td>\n",
              "      <td>1.917000e+03</td>\n",
              "      <td>7.000000e+00</td>\n",
              "      <td>0.000000e+00</td>\n",
              "      <td>0.000000e+00</td>\n",
              "      <td>1.710000e+02</td>\n",
              "      <td>1.670000e+02</td>\n",
              "      <td>1.410000e+02</td>\n",
              "      <td>1.034000e+03</td>\n",
              "      <td>1.800000e+01</td>\n",
              "      <td>0.000000e+00</td>\n",
              "      <td>2.000000e+01</td>\n",
              "      <td>0.000000e+00</td>\n",
              "      <td>3.300000e+01</td>\n",
              "      <td>NaN</td>\n",
              "    </tr>\n",
              "    <tr>\n",
              "      <th>max</th>\n",
              "      <td>2019.0</td>\n",
              "      <td>1.200000e+01</td>\n",
              "      <td>3.100000e+01</td>\n",
              "      <td>7.000000e+00</td>\n",
              "      <td>7.933000e+03</td>\n",
              "      <td>2.359000e+03</td>\n",
              "      <td>2.400000e+03</td>\n",
              "      <td>2.710000e+03</td>\n",
              "      <td>2.270000e+02</td>\n",
              "      <td>2.400000e+03</td>\n",
              "      <td>2.400000e+03</td>\n",
              "      <td>3.160000e+02</td>\n",
              "      <td>2.400000e+03</td>\n",
              "      <td>2.400000e+03</td>\n",
              "      <td>2.695000e+03</td>\n",
              "      <td>1.000000e+00</td>\n",
              "      <td>1.000000e+00</td>\n",
              "      <td>9.480000e+02</td>\n",
              "      <td>1.604000e+03</td>\n",
              "      <td>1.557000e+03</td>\n",
              "      <td>5.095000e+03</td>\n",
              "      <td>2.695000e+03</td>\n",
              "      <td>1.847000e+03</td>\n",
              "      <td>1.741000e+03</td>\n",
              "      <td>1.078000e+03</td>\n",
              "      <td>2.206000e+03</td>\n",
              "      <td>NaN</td>\n",
              "    </tr>\n",
              "  </tbody>\n",
              "</table>\n",
              "</div>"
            ],
            "text/plain": [
              "            YEAR         MONTH  ...  LATE_AIRCRAFT_DELAY  Unnamed: 30\n",
              "count  7422037.0  7.422037e+06  ...         1.389253e+06          0.0\n",
              "mean      2019.0  6.578750e+00  ...         2.740748e+01          NaN\n",
              "std          0.0  3.402585e+00  ...         5.345620e+01          NaN\n",
              "min       2019.0  1.000000e+00  ...         0.000000e+00          NaN\n",
              "25%       2019.0  4.000000e+00  ...         0.000000e+00          NaN\n",
              "50%       2019.0  7.000000e+00  ...         3.000000e+00          NaN\n",
              "75%       2019.0  1.000000e+01  ...         3.300000e+01          NaN\n",
              "max       2019.0  1.200000e+01  ...         2.206000e+03          NaN\n",
              "\n",
              "[8 rows x 27 columns]"
            ]
          },
          "metadata": {
            "tags": []
          },
          "execution_count": 7
        }
      ]
    },
    {
      "cell_type": "markdown",
      "metadata": {
        "id": "5GLBbWJYp8mQ"
      },
      "source": [
        "#Data Visualization\n"
      ]
    },
    {
      "cell_type": "markdown",
      "metadata": {
        "id": "Y79JrpKUS8oe"
      },
      "source": [
        "##delays"
      ]
    },
    {
      "cell_type": "code",
      "metadata": {
        "colab": {
          "base_uri": "https://localhost:8080/",
          "height": 290
        },
        "id": "9tuuTkAeqGo-",
        "outputId": "c245351b-2ac5-4bbd-cc47-0f3143e16409"
      },
      "source": [
        "plt.hist(flight19['DEP_DELAY'], bins=100, range=(-50,200))\n",
        "plt.xlabel('2019 departure delay')\n",
        "plt.show()"
      ],
      "execution_count": null,
      "outputs": [
        {
          "output_type": "display_data",
          "data": {
            "image/png": "[encoded data removed]",
            "text/plain": [
              "<Figure size 432x288 with 1 Axes>"
            ]
          },
          "metadata": {
            "tags": [],
            "needs_background": "light"
          }
        }
      ]
    },
    {
      "cell_type": "markdown",
      "metadata": {
        "id": "A2F4HZSI_QIG"
      },
      "source": [
        "###Seasonality effect"
      ]
    },
    {
      "cell_type": "code",
      "metadata": {
        "colab": {
          "base_uri": "https://localhost:8080/",
          "height": 372
        },
        "id": "IlEKt5ylrdPW",
        "outputId": "446c8790-100e-4c76-9c83-cb1f67824209"
      },
      "source": [
        "flight19.boxplot(column='DEP_DELAY', by='MONTH', showfliers=False)"
      ],
      "execution_count": null,
      "outputs": [
        {
          "output_type": "stream",
          "text": [
            "/usr/local/lib/python3.6/dist-packages/numpy/core/_asarray.py:83: VisibleDeprecationWarning: Creating an ndarray from ragged nested sequences (which is a list-or-tuple of lists-or-tuples-or ndarrays with different lengths or shapes) is deprecated. If you meant to do this, you must specify 'dtype=object' when creating the ndarray\n",
            "  return array(a, dtype, copy=False, order=order)\n"
          ],
          "name": "stderr"
        },
        {
          "output_type": "execute_result",
          "data": {
            "text/plain": [
              "<matplotlib.axes._subplots.AxesSubplot at 0x7f1c297a6fd0>"
            ]
          },
          "metadata": {
            "tags": []
          },
          "execution_count": 9
        },
        {
          "output_type": "display_data",
          "data": {
            "image/png": "[encoded data removed]",
            "text/plain": [
              "<Figure size 432x288 with 1 Axes>"
            ]
          },
          "metadata": {
            "tags": [],
            "needs_background": "light"
          }
        }
      ]
    },
    {
      "cell_type": "markdown",
      "metadata": {
        "id": "Qu3Wtp1E3pX0"
      },
      "source": [
        "higher delays in summer<br>\n",
        "weather and number of flights "
      ]
    },
    {
      "cell_type": "markdown",
      "metadata": {
        "id": "vhRJVfiRwphm"
      },
      "source": [
        "number of flights\n"
      ]
    },
    {
      "cell_type": "code",
      "metadata": {
        "colab": {
          "base_uri": "https://localhost:8080/",
          "height": 279
        },
        "id": "h_8kPFPSuShf",
        "outputId": "891e5ab0-dcf9-4e7e-e0a9-9411f1d69f16"
      },
      "source": [
        "height=[len(flight19[flight19['MONTH']==1]), len(flight19[flight19['MONTH']==2]),len(flight19[flight19['MONTH']==3]),len(flight19[flight19['MONTH']==4]),len(flight19[flight19['MONTH']==5]),len(flight19[flight19['MONTH']==6]),len(flight19[flight19['MONTH']==7]),len(flight19[flight19['MONTH']==8]),len(flight19[flight19['MONTH']==9]),len(flight19[flight19['MONTH']==10]),len(flight19[flight19['MONTH']==11]),len(flight19[flight19['MONTH']==12])]\n",
        "bars=('1', '2','3','4','5','6','7','8','9','10','11','12')\n",
        "y_pos = np.arange(len(bars))\n",
        "plt.bar(y_pos, height)\n",
        "plt.xticks(y_pos, bars)\n",
        "plt.ylabel('number of flights')\n",
        "plt.xlabel('Month')\n",
        "plt.show()"
      ],
      "execution_count": null,
      "outputs": [
        {
          "output_type": "display_data",
          "data": {
            "image/png": "[encoded data removed]",
            "text/plain": [
              "<Figure size 432x288 with 1 Axes>"
            ]
          },
          "metadata": {
            "tags": [],
            "needs_background": "light"
          }
        }
      ]
    },
    {
      "cell_type": "code",
      "metadata": {
        "id": "vrGN0iv86BXh"
      },
      "source": [
        "winter=flight19[flight19['MONTH'].isin([12,1,2])].YEAR.count()\n",
        "spring=flight19[flight19['MONTH'].isin([3,4,5])].YEAR.count()\n",
        "summer=flight19[flight19['MONTH'].isin([6,7,8])].YEAR.count()\n",
        "fall=flight19[flight19['MONTH'].isin([9,10,11])].YEAR.count()"
      ],
      "execution_count": null,
      "outputs": []
    },
    {
      "cell_type": "markdown",
      "metadata": {
        "id": "JCG8TgDE7juq"
      },
      "source": [
        "winter flights:1742923<br>\n",
        "spring flights:1880487<br>\n",
        "summer flights:1954181<br>\n",
        "fall flishts:1844446"
      ]
    },
    {
      "cell_type": "code",
      "metadata": {
        "colab": {
          "base_uri": "https://localhost:8080/",
          "height": 276
        },
        "id": "KbY9Grr88IKd",
        "outputId": "1e1487a2-885a-4a8c-d2d1-e4e1abeef738"
      },
      "source": [
        "height=[winter, spring,summer,fall]\n",
        "bars=('winter','spring','summer','fall')\n",
        "y_pos = np.arange(len(bars))\n",
        "plt.bar(y_pos, height)\n",
        "plt.xticks(y_pos, bars)\n",
        "plt.ylim([1500000,2000000])\n",
        "plt.ylabel('number of flights')\n",
        "plt.show()"
      ],
      "execution_count": null,
      "outputs": [
        {
          "output_type": "display_data",
          "data": {
            "image/png": "[encoded data removed]",
            "text/plain": [
              "<Figure size 432x288 with 1 Axes>"
            ]
          },
          "metadata": {
            "tags": [],
            "needs_background": "light"
          }
        }
      ]
    },
    {
      "cell_type": "code",
      "metadata": {
        "colab": {
          "base_uri": "https://localhost:8080/",
          "height": 279
        },
        "id": "MmQs9cDx9Ikh",
        "outputId": "e49735d4-f3dc-464e-9192-da7678be4c4a"
      },
      "source": [
        "height=[flight19[flight19['MONTH']==1].WEATHER_DELAY.mean(), flight19[flight19['MONTH']==2].WEATHER_DELAY.mean(),flight19[flight19['MONTH']==3].WEATHER_DELAY.mean(),flight19[flight19['MONTH']==4].WEATHER_DELAY.mean(),flight19[flight19['MONTH']==5].WEATHER_DELAY.mean(),flight19[flight19['MONTH']==6].WEATHER_DELAY.mean(),flight19[flight19['MONTH']==7].WEATHER_DELAY.mean(),flight19[flight19['MONTH']==8].WEATHER_DELAY.mean(),flight19[flight19['MONTH']==9].WEATHER_DELAY.mean(),flight19[flight19['MONTH']==10].WEATHER_DELAY.mean(),flight19[flight19['MONTH']==11].WEATHER_DELAY.mean(),flight19[flight19['MONTH']==12].WEATHER_DELAY.mean()]\n",
        "bars=('1', '2','3','4','5','6','7','8','9','10','11','12')\n",
        "y_pos = np.arange(len(bars))\n",
        "plt.bar(y_pos, height)\n",
        "plt.xticks(y_pos, bars)\n",
        "plt.ylabel('weather delay mean')\n",
        "plt.xlabel('Month')\n",
        "plt.show()"
      ],
      "execution_count": null,
      "outputs": [
        {
          "output_type": "display_data",
          "data": {
            "image/png": "[encoded data removed]",
            "text/plain": [
              "<Figure size 432x288 with 1 Axes>"
            ]
          },
          "metadata": {
            "tags": [],
            "needs_background": "light"
          }
        }
      ]
    },
    {
      "cell_type": "code",
      "metadata": {
        "colab": {
          "base_uri": "https://localhost:8080/",
          "height": 265
        },
        "id": "nd08frA3976z",
        "outputId": "a4898633-2b1e-47cd-8fe8-c319ee84333c"
      },
      "source": [
        "height=[flight19[flight19['MONTH'].isin([12,1,2])].WEATHER_DELAY.mean(), flight19[flight19['MONTH'].isin([3,4,5])].WEATHER_DELAY.mean(),flight19[flight19['MONTH'].isin([6,7,8])].WEATHER_DELAY.mean(),flight19[flight19['MONTH'].isin([9,10,11])].WEATHER_DELAY.mean()]\n",
        "bars=('winter','spring','summer','fall')\n",
        "y_pos = np.arange(len(bars))\n",
        "plt.bar(y_pos, height)\n",
        "plt.xticks(y_pos, bars)\n",
        "plt.ylabel('weather delay mean')\n",
        "plt.show()"
      ],
      "execution_count": null,
      "outputs": [
        {
          "output_type": "display_data",
          "data": {
            "image/png": "[encoded data removed]",
            "text/plain": [
              "<Figure size 432x288 with 1 Axes>"
            ]
          },
          "metadata": {
            "tags": [],
            "needs_background": "light"
          }
        }
      ]
    },
    {
      "cell_type": "markdown",
      "metadata": {
        "id": "VDcIqWQI3_G_"
      },
      "source": [
        "##cancellations"
      ]
    },
    {
      "cell_type": "markdown",
      "metadata": {
        "id": "jlRdfuKhD511"
      },
      "source": [
        "###2019"
      ]
    },
    {
      "cell_type": "code",
      "metadata": {
        "colab": {
          "base_uri": "https://localhost:8080/",
          "height": 276
        },
        "id": "FolHNqLB3_HE",
        "outputId": "9909160f-a323-4943-f9a4-a038715620fb"
      },
      "source": [
        "height=[len(flight19[flight19['CANCELLED']==1]), len(flight19[flight19['CANCELLED']==0])]\n",
        "bars=('cancelled','not cancelled')\n",
        "y_pos = np.arange(len(bars))\n",
        "plt.bar(y_pos, height)\n",
        "plt.xticks(y_pos, bars)\n",
        "plt.ylabel('number of flights')\n",
        "plt.show()"
      ],
      "execution_count": null,
      "outputs": [
        {
          "output_type": "display_data",
          "data": {
            "image/png": "[encoded data removed]",
            "text/plain": [
              "<Figure size 432x288 with 1 Axes>"
            ]
          },
          "metadata": {
            "tags": [],
            "needs_background": "light"
          }
        }
      ]
    },
    {
      "cell_type": "code",
      "metadata": {
        "colab": {
          "base_uri": "https://localhost:8080/"
        },
        "id": "cPLvnVJ93_HF",
        "outputId": "7d693640-e188-4604-c66c-5ad148e513cf"
      },
      "source": [
        "len(flight19[flight19['CANCELLED']==1])/ len(flight19[flight19['CANCELLED']==0])"
      ],
      "execution_count": null,
      "outputs": [
        {
          "output_type": "execute_result",
          "data": {
            "text/plain": [
              "0.018515565562873194"
            ]
          },
          "metadata": {
            "tags": []
          },
          "execution_count": 98
        }
      ]
    },
    {
      "cell_type": "code",
      "metadata": {
        "colab": {
          "base_uri": "https://localhost:8080/",
          "height": 295
        },
        "id": "Zzf0QOR53_HG",
        "outputId": "f9fddcac-e85d-4ecc-d7f1-3c457e2e6485"
      },
      "source": [
        "height=[flight19[flight19['MONTH']==1].CANCELLED.mean(), flight19[flight19['MONTH']==2].CANCELLED.mean(),flight19[flight19['MONTH']==3].CANCELLED.mean(),flight19[flight19['MONTH']==4].CANCELLED.mean(),flight19[flight19['MONTH']==5].CANCELLED.mean(),flight19[flight19['MONTH']==6].CANCELLED.mean(),flight19[flight19['MONTH']==7].CANCELLED.mean(),flight19[flight19['MONTH']==8].CANCELLED.mean(),flight19[flight19['MONTH']==9].CANCELLED.mean(),flight19[flight19['MONTH']==10].CANCELLED.mean(),flight19[flight19['MONTH']==11].CANCELLED.mean(),flight19[flight19['MONTH']==1].CANCELLED.mean()]\n",
        "bars=('1', '2','3','4','5','6','7','8','9','10','11','12')\n",
        "y_pos = np.arange(len(bars))\n",
        "plt.bar(y_pos, height)\n",
        "plt.xticks(y_pos, bars)\n",
        "plt.ylabel('cancellation probability')\n",
        "plt.xlabel('Month')\n",
        "plt.title('2019 cancellation')\n",
        "plt.show()"
      ],
      "execution_count": null,
      "outputs": [
        {
          "output_type": "display_data",
          "data": {
            "image/png": "[encoded data removed]",
            "text/plain": [
              "<Figure size 432x288 with 1 Axes>"
            ]
          },
          "metadata": {
            "tags": [],
            "needs_background": "light"
          }
        }
      ]
    },
    {
      "cell_type": "markdown",
      "metadata": {
        "id": "nGadXx-QD-JW"
      },
      "source": [
        "###2018"
      ]
    },
    {
      "cell_type": "code",
      "metadata": {
        "colab": {
          "base_uri": "https://localhost:8080/",
          "height": 276
        },
        "id": "P2ieM_SSECpa",
        "outputId": "532e23d0-deb9-4984-c6d7-19997e78c235"
      },
      "source": [
        "height=[len(flight18[flight18['CANCELLED']==1]), len(flight18[flight18['CANCELLED']==0])]\n",
        "bars=('cancelled','not cancelled')\n",
        "y_pos = np.arange(len(bars))\n",
        "plt.bar(y_pos, height)\n",
        "plt.xticks(y_pos, bars)\n",
        "plt.ylabel('number of flights')\n",
        "plt.show()"
      ],
      "execution_count": null,
      "outputs": [
        {
          "output_type": "display_data",
          "data": {
            "image/png": "[encoded data removed]",
            "text/plain": [
              "<Figure size 432x288 with 1 Axes>"
            ]
          },
          "metadata": {
            "tags": [],
            "needs_background": "light"
          }
        }
      ]
    },
    {
      "cell_type": "code",
      "metadata": {
        "colab": {
          "base_uri": "https://localhost:8080/"
        },
        "id": "cKWpZceCECpc",
        "outputId": "34a72347-d8f2-4320-dc41-c93517b0eaca"
      },
      "source": [
        "len(flight18[flight18['CANCELLED']==1])/ len(flight18[flight18['CANCELLED']==0])"
      ],
      "execution_count": null,
      "outputs": [
        {
          "output_type": "execute_result",
          "data": {
            "text/plain": [
              "0.01642754220104604"
            ]
          },
          "metadata": {
            "tags": []
          },
          "execution_count": 7
        }
      ]
    },
    {
      "cell_type": "code",
      "metadata": {
        "colab": {
          "base_uri": "https://localhost:8080/",
          "height": 295
        },
        "id": "jhH8PmNaECpc",
        "outputId": "dba71247-0829-4206-ad74-7189f71937f1"
      },
      "source": [
        "height=[flight18[flight18['MONTH']==1].CANCELLED.mean(), flight18[flight18['MONTH']==2].CANCELLED.mean(),flight18[flight18['MONTH']==3].CANCELLED.mean(),flight18[flight18['MONTH']==4].CANCELLED.mean(),flight18[flight18['MONTH']==5].CANCELLED.mean(),flight18[flight18['MONTH']==6].CANCELLED.mean(),flight18[flight18['MONTH']==7].CANCELLED.mean(),flight18[flight18['MONTH']==8].CANCELLED.mean(),flight18[flight18['MONTH']==9].CANCELLED.mean(),flight18[flight18['MONTH']==10].CANCELLED.mean(),flight18[flight18['MONTH']==11].CANCELLED.mean(),flight18[flight18['MONTH']==1].CANCELLED.mean()]\n",
        "bars=('1', '2','3','4','5','6','7','8','9','10','11','12')\n",
        "y_pos = np.arange(len(bars))\n",
        "plt.bar(y_pos, height)\n",
        "plt.xticks(y_pos, bars)\n",
        "plt.ylabel('cancellation probability')\n",
        "plt.xlabel('Month')\n",
        "plt.title('2018 cancellation')\n",
        "plt.show()"
      ],
      "execution_count": null,
      "outputs": [
        {
          "output_type": "display_data",
          "data": {
            "image/png": "[encoded data removed]",
            "text/plain": [
              "<Figure size 432x288 with 1 Axes>"
            ]
          },
          "metadata": {
            "tags": [],
            "needs_background": "light"
          }
        }
      ]
    },
    {
      "cell_type": "markdown",
      "metadata": {
        "id": "y19jS3rdFq__"
      },
      "source": [
        "###2017"
      ]
    },
    {
      "cell_type": "code",
      "metadata": {
        "colab": {
          "base_uri": "https://localhost:8080/",
          "height": 276
        },
        "id": "eeOtEQf_FrAC",
        "outputId": "73851627-d39c-4193-a286-68306c16da6d"
      },
      "source": [
        "height=[len(flight17[flight17['CANCELLED']==1]), len(flight17[flight17['CANCELLED']==0])]\n",
        "bars=('cancelled','not cancelled')\n",
        "y_pos = np.arange(len(bars))\n",
        "plt.bar(y_pos, height)\n",
        "plt.xticks(y_pos, bars)\n",
        "plt.ylabel('number of flights')\n",
        "plt.show()"
      ],
      "execution_count": null,
      "outputs": [
        {
          "output_type": "display_data",
          "data": {
            "image/png": "[encoded data removed]",
            "text/plain": [
              "<Figure size 432x288 with 1 Axes>"
            ]
          },
          "metadata": {
            "tags": [],
            "needs_background": "light"
          }
        }
      ]
    },
    {
      "cell_type": "code",
      "metadata": {
        "colab": {
          "base_uri": "https://localhost:8080/"
        },
        "id": "TcH6ZaDRFrAD",
        "outputId": "31f77171-31de-40fb-a3c8-698eb900508e"
      },
      "source": [
        "len(flight17[flight17['CANCELLED']==1])/ len(flight17[flight17['CANCELLED']==0])"
      ],
      "execution_count": null,
      "outputs": [
        {
          "output_type": "execute_result",
          "data": {
            "text/plain": [
              "0.014787922877404717"
            ]
          },
          "metadata": {
            "tags": []
          },
          "execution_count": 10
        }
      ]
    },
    {
      "cell_type": "code",
      "metadata": {
        "colab": {
          "base_uri": "https://localhost:8080/",
          "height": 295
        },
        "id": "zXO1ws9WN9Lk",
        "outputId": "6c63a7ba-d29b-43af-91b4-9ad6f9648dfe"
      },
      "source": [
        "height=[flight17[flight17['MONTH']==1].CANCELLED.mean(), flight17[flight17['MONTH']==2].CANCELLED.mean(),flight17[flight17['MONTH']==3].CANCELLED.mean(),flight17[flight17['MONTH']==4].CANCELLED.mean(),flight17[flight17['MONTH']==5].CANCELLED.mean(),flight17[flight17['MONTH']==6].CANCELLED.mean(),flight17[flight17['MONTH']==7].CANCELLED.mean(),flight17[flight17['MONTH']==8].CANCELLED.mean(),flight17[flight17['MONTH']==9].CANCELLED.mean(),flight17[flight17['MONTH']==10].CANCELLED.mean(),flight17[flight17['MONTH']==11].CANCELLED.mean(),flight17[flight17['MONTH']==1].CANCELLED.mean()]\n",
        "bars=('1', '2','3','4','5','6','7','8','9','10','11','12')\n",
        "y_pos = np.arange(len(bars))\n",
        "plt.bar(y_pos, height)\n",
        "plt.xticks(y_pos, bars)\n",
        "plt.ylabel('cancellation probability')\n",
        "plt.xlabel('Month')\n",
        "plt.title('2017 cancellation')\n",
        "plt.show()"
      ],
      "execution_count": null,
      "outputs": [
        {
          "output_type": "display_data",
          "data": {
            "image/png": "[encoded data removed]",
            "text/plain": [
              "<Figure size 432x288 with 1 Axes>"
            ]
          },
          "metadata": {
            "tags": [],
            "needs_background": "light"
          }
        }
      ]
    },
    {
      "cell_type": "markdown",
      "metadata": {
        "id": "pe2wStCW_Y6Q"
      },
      "source": [
        "##Airlines"
      ]
    },
    {
      "cell_type": "code",
      "metadata": {
        "colab": {
          "base_uri": "https://localhost:8080/",
          "height": 373
        },
        "id": "YURJK2yn22v8",
        "outputId": "fb10c6dd-f4c4-4e65-8dbb-a02c93ff3798"
      },
      "source": [
        "flight19.boxplot(column='DEP_DELAY', by='OP_UNIQUE_CARRIER', showfliers=False)"
      ],
      "execution_count": null,
      "outputs": [
        {
          "output_type": "stream",
          "text": [
            "/usr/local/lib/python3.6/dist-packages/numpy/core/_asarray.py:83: VisibleDeprecationWarning: Creating an ndarray from ragged nested sequences (which is a list-or-tuple of lists-or-tuples-or ndarrays with different lengths or shapes) is deprecated. If you meant to do this, you must specify 'dtype=object' when creating the ndarray\n",
            "  return array(a, dtype, copy=False, order=order)\n"
          ],
          "name": "stderr"
        },
        {
          "output_type": "execute_result",
          "data": {
            "text/plain": [
              "<matplotlib.axes._subplots.AxesSubplot at 0x7f1c295cc940>"
            ]
          },
          "metadata": {
            "tags": []
          },
          "execution_count": 17
        },
        {
          "output_type": "display_data",
          "data": {
            "image/png": "[encoded data removed]",
            "text/plain": [
              "<Figure size 432x288 with 1 Axes>"
            ]
          },
          "metadata": {
            "tags": [],
            "needs_background": "light"
          }
        }
      ]
    },
    {
      "cell_type": "markdown",
      "metadata": {
        "id": "NOkz2E_U3GdT"
      },
      "source": [
        "F9: Frontier Airlines <br>\n",
        "B6:JetBlue Airways"
      ]
    },
    {
      "cell_type": "code",
      "metadata": {
        "id": "DhAlurrjGAoo"
      },
      "source": [
        "columns=['airline','cancellation rate','average delay']\n",
        "A=pd.DataFrame(columns=columns)\n",
        "airlines=flight19['OP_UNIQUE_CARRIER'].unique()\n",
        "A['airline']=airlines\n",
        "for index, x in enumerate(A['cancellation rate']):\n",
        "  A['cancellation rate'].iloc[index]=flight19[flight19['OP_UNIQUE_CARRIER']==A['airline'].iloc[index]].CANCELLED.mean()\n",
        "for index, x in enumerate(A['average delay']):\n",
        "  A['average delay'].iloc[index]=flight19[flight19['OP_UNIQUE_CARRIER']==A['airline'].iloc[index]].DEP_DELAY.mean()\n",
        "A.insert(2, \"number of flights\",np.nan) \n",
        "for index, x in enumerate(A['number of flights']):\n",
        "  A['number of flights'].iloc[index]=flight19[flight19['OP_UNIQUE_CARRIER']==A['airline'].iloc[index]].YEAR.count()"
      ],
      "execution_count": null,
      "outputs": []
    },
    {
      "cell_type": "code",
      "metadata": {
        "colab": {
          "base_uri": "https://localhost:8080/",
          "height": 576
        },
        "id": "912PfTXba-tL",
        "outputId": "f8ee61e4-d9f4-4084-ef95-a2db312cd430"
      },
      "source": [
        "A"
      ],
      "execution_count": null,
      "outputs": [
        {
          "output_type": "execute_result",
          "data": {
            "text/html": [
              "<div>\n",
              "<style scoped>\n",
              "    .dataframe tbody tr th:only-of-type {\n",
              "        vertical-align: middle;\n",
              "    }\n",
              "\n",
              "    .dataframe tbody tr th {\n",
              "        vertical-align: top;\n",
              "    }\n",
              "\n",
              "    .dataframe thead th {\n",
              "        text-align: right;\n",
              "    }\n",
              "</style>\n",
              "<table border=\"1\" class=\"dataframe\">\n",
              "  <thead>\n",
              "    <tr style=\"text-align: right;\">\n",
              "      <th></th>\n",
              "      <th>airline</th>\n",
              "      <th>cancellation rate</th>\n",
              "      <th>number of flights</th>\n",
              "      <th>average delay</th>\n",
              "    </tr>\n",
              "  </thead>\n",
              "  <tbody>\n",
              "    <tr>\n",
              "      <th>0</th>\n",
              "      <td>9E</td>\n",
              "      <td>0.0165557</td>\n",
              "      <td>257132.0</td>\n",
              "      <td>10.2458</td>\n",
              "    </tr>\n",
              "    <tr>\n",
              "      <th>1</th>\n",
              "      <td>WN</td>\n",
              "      <td>0.0246505</td>\n",
              "      <td>1363946.0</td>\n",
              "      <td>10.1788</td>\n",
              "    </tr>\n",
              "    <tr>\n",
              "      <th>2</th>\n",
              "      <td>OO</td>\n",
              "      <td>0.0208657</td>\n",
              "      <td>836445.0</td>\n",
              "      <td>12.5641</td>\n",
              "    </tr>\n",
              "    <tr>\n",
              "      <th>3</th>\n",
              "      <td>AA</td>\n",
              "      <td>0.0212838</td>\n",
              "      <td>946776.0</td>\n",
              "      <td>12.1149</td>\n",
              "    </tr>\n",
              "    <tr>\n",
              "      <th>4</th>\n",
              "      <td>MQ</td>\n",
              "      <td>0.0349534</td>\n",
              "      <td>327007.0</td>\n",
              "      <td>9.27298</td>\n",
              "    </tr>\n",
              "    <tr>\n",
              "      <th>5</th>\n",
              "      <td>G4</td>\n",
              "      <td>0.00592564</td>\n",
              "      <td>105305.0</td>\n",
              "      <td>10.1229</td>\n",
              "    </tr>\n",
              "    <tr>\n",
              "      <th>6</th>\n",
              "      <td>OH</td>\n",
              "      <td>0.0235946</td>\n",
              "      <td>289304.0</td>\n",
              "      <td>10.7047</td>\n",
              "    </tr>\n",
              "    <tr>\n",
              "      <th>7</th>\n",
              "      <td>B6</td>\n",
              "      <td>0.0126559</td>\n",
              "      <td>297411.0</td>\n",
              "      <td>17.7455</td>\n",
              "    </tr>\n",
              "    <tr>\n",
              "      <th>8</th>\n",
              "      <td>AS</td>\n",
              "      <td>0.0116194</td>\n",
              "      <td>264816.0</td>\n",
              "      <td>5.03464</td>\n",
              "    </tr>\n",
              "    <tr>\n",
              "      <th>9</th>\n",
              "      <td>DL</td>\n",
              "      <td>0.00185688</td>\n",
              "      <td>991986.0</td>\n",
              "      <td>8.15575</td>\n",
              "    </tr>\n",
              "    <tr>\n",
              "      <th>10</th>\n",
              "      <td>YV</td>\n",
              "      <td>0.0294399</td>\n",
              "      <td>227888.0</td>\n",
              "      <td>13.8032</td>\n",
              "    </tr>\n",
              "    <tr>\n",
              "      <th>11</th>\n",
              "      <td>EV</td>\n",
              "      <td>0.0451876</td>\n",
              "      <td>134683.0</td>\n",
              "      <td>17.214</td>\n",
              "    </tr>\n",
              "    <tr>\n",
              "      <th>12</th>\n",
              "      <td>F9</td>\n",
              "      <td>0.0168286</td>\n",
              "      <td>135543.0</td>\n",
              "      <td>14.577</td>\n",
              "    </tr>\n",
              "    <tr>\n",
              "      <th>13</th>\n",
              "      <td>YX</td>\n",
              "      <td>0.0233694</td>\n",
              "      <td>329149.0</td>\n",
              "      <td>8.54406</td>\n",
              "    </tr>\n",
              "    <tr>\n",
              "      <th>14</th>\n",
              "      <td>UA</td>\n",
              "      <td>0.00860188</td>\n",
              "      <td>625910.0</td>\n",
              "      <td>13.0046</td>\n",
              "    </tr>\n",
              "    <tr>\n",
              "      <th>15</th>\n",
              "      <td>HA</td>\n",
              "      <td>0.00163307</td>\n",
              "      <td>83891.0</td>\n",
              "      <td>1.2964</td>\n",
              "    </tr>\n",
              "    <tr>\n",
              "      <th>16</th>\n",
              "      <td>NK</td>\n",
              "      <td>0.0175254</td>\n",
              "      <td>204845.0</td>\n",
              "      <td>10.941</td>\n",
              "    </tr>\n",
              "  </tbody>\n",
              "</table>\n",
              "</div>"
            ],
            "text/plain": [
              "   airline cancellation rate  number of flights average delay\n",
              "0       9E         0.0165557           257132.0       10.2458\n",
              "1       WN         0.0246505          1363946.0       10.1788\n",
              "2       OO         0.0208657           836445.0       12.5641\n",
              "3       AA         0.0212838           946776.0       12.1149\n",
              "4       MQ         0.0349534           327007.0       9.27298\n",
              "5       G4        0.00592564           105305.0       10.1229\n",
              "6       OH         0.0235946           289304.0       10.7047\n",
              "7       B6         0.0126559           297411.0       17.7455\n",
              "8       AS         0.0116194           264816.0       5.03464\n",
              "9       DL        0.00185688           991986.0       8.15575\n",
              "10      YV         0.0294399           227888.0       13.8032\n",
              "11      EV         0.0451876           134683.0        17.214\n",
              "12      F9         0.0168286           135543.0        14.577\n",
              "13      YX         0.0233694           329149.0       8.54406\n",
              "14      UA        0.00860188           625910.0       13.0046\n",
              "15      HA        0.00163307            83891.0        1.2964\n",
              "16      NK         0.0175254           204845.0        10.941"
            ]
          },
          "metadata": {
            "tags": []
          },
          "execution_count": 21
        }
      ]
    },
    {
      "cell_type": "code",
      "metadata": {
        "id": "NflTcWXLmZfc"
      },
      "source": [
        "A['log']=np.log(A['number of flights'])"
      ],
      "execution_count": null,
      "outputs": []
    },
    {
      "cell_type": "code",
      "metadata": {
        "colab": {
          "base_uri": "https://localhost:8080/",
          "height": 576
        },
        "id": "tR_WNyVDml1R",
        "outputId": "0c88b90c-021c-4539-acb8-f3abd6884dcd"
      },
      "source": [
        "A"
      ],
      "execution_count": null,
      "outputs": [
        {
          "output_type": "execute_result",
          "data": {
            "text/html": [
              "<div>\n",
              "<style scoped>\n",
              "    .dataframe tbody tr th:only-of-type {\n",
              "        vertical-align: middle;\n",
              "    }\n",
              "\n",
              "    .dataframe tbody tr th {\n",
              "        vertical-align: top;\n",
              "    }\n",
              "\n",
              "    .dataframe thead th {\n",
              "        text-align: right;\n",
              "    }\n",
              "</style>\n",
              "<table border=\"1\" class=\"dataframe\">\n",
              "  <thead>\n",
              "    <tr style=\"text-align: right;\">\n",
              "      <th></th>\n",
              "      <th>airline</th>\n",
              "      <th>cancellation rate</th>\n",
              "      <th>number of flights</th>\n",
              "      <th>average delay</th>\n",
              "      <th>log</th>\n",
              "    </tr>\n",
              "  </thead>\n",
              "  <tbody>\n",
              "    <tr>\n",
              "      <th>0</th>\n",
              "      <td>9E</td>\n",
              "      <td>0.0165557</td>\n",
              "      <td>257132.0</td>\n",
              "      <td>10.2458</td>\n",
              "      <td>12.457345</td>\n",
              "    </tr>\n",
              "    <tr>\n",
              "      <th>1</th>\n",
              "      <td>WN</td>\n",
              "      <td>0.0246505</td>\n",
              "      <td>1363946.0</td>\n",
              "      <td>10.1788</td>\n",
              "      <td>14.125893</td>\n",
              "    </tr>\n",
              "    <tr>\n",
              "      <th>2</th>\n",
              "      <td>OO</td>\n",
              "      <td>0.0208657</td>\n",
              "      <td>836445.0</td>\n",
              "      <td>12.5641</td>\n",
              "      <td>13.636916</td>\n",
              "    </tr>\n",
              "    <tr>\n",
              "      <th>3</th>\n",
              "      <td>AA</td>\n",
              "      <td>0.0212838</td>\n",
              "      <td>946776.0</td>\n",
              "      <td>12.1149</td>\n",
              "      <td>13.760818</td>\n",
              "    </tr>\n",
              "    <tr>\n",
              "      <th>4</th>\n",
              "      <td>MQ</td>\n",
              "      <td>0.0349534</td>\n",
              "      <td>327007.0</td>\n",
              "      <td>9.27298</td>\n",
              "      <td>12.697737</td>\n",
              "    </tr>\n",
              "    <tr>\n",
              "      <th>5</th>\n",
              "      <td>G4</td>\n",
              "      <td>0.00592564</td>\n",
              "      <td>105305.0</td>\n",
              "      <td>10.1229</td>\n",
              "      <td>11.564616</td>\n",
              "    </tr>\n",
              "    <tr>\n",
              "      <th>6</th>\n",
              "      <td>OH</td>\n",
              "      <td>0.0235946</td>\n",
              "      <td>289304.0</td>\n",
              "      <td>10.7047</td>\n",
              "      <td>12.575233</td>\n",
              "    </tr>\n",
              "    <tr>\n",
              "      <th>7</th>\n",
              "      <td>B6</td>\n",
              "      <td>0.0126559</td>\n",
              "      <td>297411.0</td>\n",
              "      <td>17.7455</td>\n",
              "      <td>12.602870</td>\n",
              "    </tr>\n",
              "    <tr>\n",
              "      <th>8</th>\n",
              "      <td>AS</td>\n",
              "      <td>0.0116194</td>\n",
              "      <td>264816.0</td>\n",
              "      <td>5.03464</td>\n",
              "      <td>12.486791</td>\n",
              "    </tr>\n",
              "    <tr>\n",
              "      <th>9</th>\n",
              "      <td>DL</td>\n",
              "      <td>0.00185688</td>\n",
              "      <td>991986.0</td>\n",
              "      <td>8.15575</td>\n",
              "      <td>13.807464</td>\n",
              "    </tr>\n",
              "    <tr>\n",
              "      <th>10</th>\n",
              "      <td>YV</td>\n",
              "      <td>0.0294399</td>\n",
              "      <td>227888.0</td>\n",
              "      <td>13.8032</td>\n",
              "      <td>12.336610</td>\n",
              "    </tr>\n",
              "    <tr>\n",
              "      <th>11</th>\n",
              "      <td>EV</td>\n",
              "      <td>0.0451876</td>\n",
              "      <td>134683.0</td>\n",
              "      <td>17.214</td>\n",
              "      <td>11.810679</td>\n",
              "    </tr>\n",
              "    <tr>\n",
              "      <th>12</th>\n",
              "      <td>F9</td>\n",
              "      <td>0.0168286</td>\n",
              "      <td>135543.0</td>\n",
              "      <td>14.577</td>\n",
              "      <td>11.817044</td>\n",
              "    </tr>\n",
              "    <tr>\n",
              "      <th>13</th>\n",
              "      <td>YX</td>\n",
              "      <td>0.0233694</td>\n",
              "      <td>329149.0</td>\n",
              "      <td>8.54406</td>\n",
              "      <td>12.704266</td>\n",
              "    </tr>\n",
              "    <tr>\n",
              "      <th>14</th>\n",
              "      <td>UA</td>\n",
              "      <td>0.00860188</td>\n",
              "      <td>625910.0</td>\n",
              "      <td>13.0046</td>\n",
              "      <td>13.346962</td>\n",
              "    </tr>\n",
              "    <tr>\n",
              "      <th>15</th>\n",
              "      <td>HA</td>\n",
              "      <td>0.00163307</td>\n",
              "      <td>83891.0</td>\n",
              "      <td>1.2964</td>\n",
              "      <td>11.337274</td>\n",
              "    </tr>\n",
              "    <tr>\n",
              "      <th>16</th>\n",
              "      <td>NK</td>\n",
              "      <td>0.0175254</td>\n",
              "      <td>204845.0</td>\n",
              "      <td>10.941</td>\n",
              "      <td>12.230009</td>\n",
              "    </tr>\n",
              "  </tbody>\n",
              "</table>\n",
              "</div>"
            ],
            "text/plain": [
              "   airline cancellation rate  number of flights average delay        log\n",
              "0       9E         0.0165557           257132.0       10.2458  12.457345\n",
              "1       WN         0.0246505          1363946.0       10.1788  14.125893\n",
              "2       OO         0.0208657           836445.0       12.5641  13.636916\n",
              "3       AA         0.0212838           946776.0       12.1149  13.760818\n",
              "4       MQ         0.0349534           327007.0       9.27298  12.697737\n",
              "5       G4        0.00592564           105305.0       10.1229  11.564616\n",
              "6       OH         0.0235946           289304.0       10.7047  12.575233\n",
              "7       B6         0.0126559           297411.0       17.7455  12.602870\n",
              "8       AS         0.0116194           264816.0       5.03464  12.486791\n",
              "9       DL        0.00185688           991986.0       8.15575  13.807464\n",
              "10      YV         0.0294399           227888.0       13.8032  12.336610\n",
              "11      EV         0.0451876           134683.0        17.214  11.810679\n",
              "12      F9         0.0168286           135543.0        14.577  11.817044\n",
              "13      YX         0.0233694           329149.0       8.54406  12.704266\n",
              "14      UA        0.00860188           625910.0       13.0046  13.346962\n",
              "15      HA        0.00163307            83891.0        1.2964  11.337274\n",
              "16      NK         0.0175254           204845.0        10.941  12.230009"
            ]
          },
          "metadata": {
            "tags": []
          },
          "execution_count": 10
        }
      ]
    },
    {
      "cell_type": "code",
      "metadata": {
        "colab": {
          "base_uri": "https://localhost:8080/",
          "height": 279
        },
        "id": "jupkbu4Pbgcf",
        "outputId": "6bd0ef29-4ff7-4326-bb32-2fca7b27d9b6"
      },
      "source": [
        "A.plot(x='number of flights', y='cancellation rate', kind='scatter')\n",
        "plt.xlabel('annual number of flights by an airline')\n",
        "plt.ylabel('cancellation rate')\n",
        "plt.show()"
      ],
      "execution_count": null,
      "outputs": [
        {
          "output_type": "display_data",
          "data": {
            "image/png": "[encoded data removed]",
            "text/plain": [
              "<Figure size 432x288 with 1 Axes>"
            ]
          },
          "metadata": {
            "tags": [],
            "needs_background": "light"
          }
        }
      ]
    },
    {
      "cell_type": "code",
      "metadata": {
        "colab": {
          "base_uri": "https://localhost:8080/",
          "height": 279
        },
        "id": "_nF5J__TdNdX",
        "outputId": "766b7154-be46-4b5e-9d91-e0fc4e19bbd8"
      },
      "source": [
        "A.plot(x='number of flights', y='average delay', kind='scatter')\n",
        "plt.xlabel('annual number of flights by an airline')\n",
        "plt.ylabel('average delay')\n",
        "plt.show()"
      ],
      "execution_count": null,
      "outputs": [
        {
          "output_type": "display_data",
          "data": {
            "image/png": "[encoded data removed]",
            "text/plain": [
              "<Figure size 432x288 with 1 Axes>"
            ]
          },
          "metadata": {
            "tags": [],
            "needs_background": "light"
          }
        }
      ]
    },
    {
      "cell_type": "markdown",
      "metadata": {
        "id": "MA6K1YE96_mr"
      },
      "source": [
        "##distance"
      ]
    },
    {
      "cell_type": "code",
      "metadata": {
        "colab": {
          "base_uri": "https://localhost:8080/",
          "height": 278
        },
        "id": "c7009eWddt0N",
        "outputId": "ff7726d5-d219-4bfd-9014-47ba772ade3b"
      },
      "source": [
        "height=[flight19[(flight19['DISTANCE']>0) & (flight19['DISTANCE']<500)].CANCELLED.mean(), flight19[(flight19['DISTANCE']>500) & (flight19['DISTANCE']<1000)].CANCELLED.mean(), flight19[(flight19['DISTANCE']>1000) & (flight19['DISTANCE']<1500)].CANCELLED.mean(), flight19[(flight19['DISTANCE']>1500) & (flight19['DISTANCE']<2000)].CANCELLED.mean(), flight19[(flight19['DISTANCE']>2000) & (flight19['DISTANCE']<2500)].CANCELLED.mean(), flight19[(flight19['DISTANCE']>2500) & (flight19['DISTANCE']<3000)].CANCELLED.mean(), flight19[(flight19['DISTANCE']>3000) & (flight19['DISTANCE']<3500)].CANCELLED.mean(), flight19[(flight19['DISTANCE']>3500) & (flight19['DISTANCE']<4000)].CANCELLED.mean(),flight19[(flight19['DISTANCE']>4000) & (flight19['DISTANCE']<4500)].CANCELLED.mean(), flight19[(flight19['DISTANCE']>4500) & (flight19['DISTANCE']<5000)].CANCELLED.mean()]\n",
        "bars=('1', '2','3','4','5','6','7','8','9','10')\n",
        "y_pos = np.arange(len(bars))\n",
        "plt.bar(y_pos, height)\n",
        "plt.xticks(y_pos, bars)\n",
        "plt.ylabel('cancellation probability')\n",
        "plt.xlabel('distance')\n",
        "plt.show()"
      ],
      "execution_count": null,
      "outputs": [
        {
          "output_type": "display_data",
          "data": {
            "image/png": "[encoded data removed]",
            "text/plain": [
              "<Figure size 432x288 with 1 Axes>"
            ]
          },
          "metadata": {
            "tags": [],
            "needs_background": "light"
          }
        }
      ]
    },
    {
      "cell_type": "markdown",
      "metadata": {
        "id": "u93RsK82eRdi"
      },
      "source": [
        "connections<br>\n",
        "less alternatives"
      ]
    },
    {
      "cell_type": "code",
      "metadata": {
        "colab": {
          "base_uri": "https://localhost:8080/",
          "height": 278
        },
        "id": "MoyKylP74G0H",
        "outputId": "7a6fa352-af28-4df9-f622-bae40bda9e6d"
      },
      "source": [
        "plt.hist(flight19['DISTANCE'], bins=100)\n",
        "plt.xlabel('distance')\n",
        "plt.show()"
      ],
      "execution_count": null,
      "outputs": [
        {
          "output_type": "display_data",
          "data": {
            "image/png": "[encoded data removed]",
            "text/plain": [
              "<Figure size 432x288 with 1 Axes>"
            ]
          },
          "metadata": {
            "tags": [],
            "needs_background": "light"
          }
        }
      ]
    },
    {
      "cell_type": "code",
      "metadata": {
        "colab": {
          "base_uri": "https://localhost:8080/",
          "height": 279
        },
        "id": "9CTf0fI4jfmU",
        "outputId": "3ce245ea-76b3-43ee-cea8-069d9571aaa9"
      },
      "source": [
        "height=[flight19[(flight19['DISTANCE']>0) & (flight19['DISTANCE']<500)].DEP_DELAY.mean(), flight19[(flight19['DISTANCE']>500) & (flight19['DISTANCE']<1000)].DEP_DELAY.mean(), flight19[(flight19['DISTANCE']>1000) & (flight19['DISTANCE']<1500)].DEP_DELAY.mean(), flight19[(flight19['DISTANCE']>1500) & (flight19['DISTANCE']<2000)].DEP_DELAY.mean(), flight19[(flight19['DISTANCE']>2000) & (flight19['DISTANCE']<2500)].DEP_DELAY.mean(), flight19[(flight19['DISTANCE']>2500) & (flight19['DISTANCE']<3000)].DEP_DELAY.mean(), flight19[(flight19['DISTANCE']>3000) & (flight19['DISTANCE']<3500)].DEP_DELAY.mean(), flight19[(flight19['DISTANCE']>3500) & (flight19['DISTANCE']<4000)].DEP_DELAY.mean(),flight19[(flight19['DISTANCE']>4000) & (flight19['DISTANCE']<4500)].DEP_DELAY.mean(), flight19[(flight19['DISTANCE']>4500) & (flight19['DISTANCE']<5000)].DEP_DELAY.mean()]\n",
        "bars=('1', '2','3','4','5','6','7','8','9','10')\n",
        "y_pos = np.arange(len(bars))\n",
        "plt.bar(y_pos, height)\n",
        "plt.xticks(y_pos, bars)\n",
        "plt.ylabel('average delay')\n",
        "plt.xlabel('distance')\n",
        "plt.show()"
      ],
      "execution_count": null,
      "outputs": [
        {
          "output_type": "display_data",
          "data": {
            "image/png": "[encoded data removed]",
            "text/plain": [
              "<Figure size 432x288 with 1 Axes>"
            ]
          },
          "metadata": {
            "tags": [],
            "needs_background": "light"
          }
        }
      ]
    },
    {
      "cell_type": "markdown",
      "metadata": {
        "id": "KshLGw-P7M22"
      },
      "source": [
        "##types of delay"
      ]
    },
    {
      "cell_type": "code",
      "metadata": {
        "colab": {
          "base_uri": "https://localhost:8080/",
          "height": 279
        },
        "id": "ylUcpOa82tPS",
        "outputId": "4ea0cbcb-34dd-4e80-97dc-4d9523402c08"
      },
      "source": [
        "height=[flight19['CARRIER_DELAY'].mean(),flight19['WEATHER_DELAY'].mean(),flight19['NAS_DELAY'].mean(),flight19['SECURITY_DELAY'].mean(),flight19['LATE_AIRCRAFT_DELAY'].mean()]\n",
        "bars=('carrier', 'weather','air','security','aircraft')\n",
        "y_pos = np.arange(len(bars))\n",
        "plt.bar(y_pos, height)\n",
        "plt.xticks(y_pos, bars)\n",
        "plt.ylabel('average delay')\n",
        "plt.xlabel('delay type')\n",
        "plt.show()"
      ],
      "execution_count": null,
      "outputs": [
        {
          "output_type": "display_data",
          "data": {
            "image/png": "[encoded data removed]",
            "text/plain": [
              "<Figure size 432x288 with 1 Axes>"
            ]
          },
          "metadata": {
            "tags": [],
            "needs_background": "light"
          }
        }
      ]
    },
    {
      "cell_type": "code",
      "metadata": {
        "colab": {
          "base_uri": "https://localhost:8080/",
          "height": 279
        },
        "id": "bewu2u_bubuC",
        "outputId": "e7cd75ac-71c8-4744-a430-83ec58f16364"
      },
      "source": [
        "plt.hist(flight19['CARRIER_DELAY'], bins=100, range=(0,200))\n",
        "plt.xlabel('carrier delay')\n",
        "plt.show()"
      ],
      "execution_count": null,
      "outputs": [
        {
          "output_type": "display_data",
          "data": {
            "image/png": "[encoded data removed]",
            "text/plain": [
              "<Figure size 432x288 with 1 Axes>"
            ]
          },
          "metadata": {
            "tags": [],
            "needs_background": "light"
          }
        }
      ]
    },
    {
      "cell_type": "code",
      "metadata": {
        "colab": {
          "base_uri": "https://localhost:8080/",
          "height": 281
        },
        "id": "G1HSUvpW1036",
        "outputId": "63431671-e6bb-422f-ddbe-ffbda03558c1"
      },
      "source": [
        "plt.hist(flight19['NAS_DELAY'], bins=100, range=(0,200))\n",
        "plt.xlabel('air delay')\n",
        "plt.show()"
      ],
      "execution_count": null,
      "outputs": [
        {
          "output_type": "display_data",
          "data": {
            "image/png": "[encoded data removed]",
            "text/plain": [
              "<Figure size 432x288 with 1 Axes>"
            ]
          },
          "metadata": {
            "tags": [],
            "needs_background": "light"
          }
        }
      ]
    },
    {
      "cell_type": "code",
      "metadata": {
        "colab": {
          "base_uri": "https://localhost:8080/",
          "height": 279
        },
        "id": "3GnZPKR-u9Xf",
        "outputId": "b5691ec1-7313-466e-f534-32edea0ac0ed"
      },
      "source": [
        "plt.hist(flight19['LATE_AIRCRAFT_DELAY'], bins=100, range=(0,500))\n",
        "plt.xlabel('late aircraft delay')\n",
        "plt.show()"
      ],
      "execution_count": null,
      "outputs": [
        {
          "output_type": "display_data",
          "data": {
            "image/png": "[encoded data removed]",
            "text/plain": [
              "<Figure size 432x288 with 1 Axes>"
            ]
          },
          "metadata": {
            "tags": [],
            "needs_background": "light"
          }
        }
      ]
    },
    {
      "cell_type": "code",
      "metadata": {
        "colab": {
          "base_uri": "https://localhost:8080/",
          "height": 291
        },
        "id": "-cbfsks52dgL",
        "outputId": "4b68d7ef-a5a5-4b53-bd13-a24b70e30108"
      },
      "source": [
        "plt.hist(flight19['WEATHER_DELAY'], bins=100, range=(0,50))\n",
        "plt.xlabel('WEATHER_DELAY')\n",
        "plt.show()"
      ],
      "execution_count": null,
      "outputs": [
        {
          "output_type": "display_data",
          "data": {
            "image/png": "[encoded data removed]",
            "text/plain": [
              "<Figure size 432x288 with 1 Axes>"
            ]
          },
          "metadata": {
            "tags": [],
            "needs_background": "light"
          }
        }
      ]
    },
    {
      "cell_type": "code",
      "metadata": {
        "colab": {
          "base_uri": "https://localhost:8080/",
          "height": 279
        },
        "id": "94asTFCJvhkd",
        "outputId": "e0919bba-ea68-4c6a-9e44-0244022302ce"
      },
      "source": [
        "height=[flight19[(flight19['DISTANCE']>0) & (flight19['DISTANCE']<500)].CARRIER_DELAY.mean(), flight19[(flight19['DISTANCE']>500) & (flight19['DISTANCE']<1000)].CARRIER_DELAY.mean(), flight19[(flight19['DISTANCE']>1000) & (flight19['DISTANCE']<1500)].CARRIER_DELAY.mean(), flight19[(flight19['DISTANCE']>1500) & (flight19['DISTANCE']<2000)].CARRIER_DELAY.mean(), flight19[(flight19['DISTANCE']>2000) & (flight19['DISTANCE']<2500)].CARRIER_DELAY.mean(), flight19[(flight19['DISTANCE']>2500) & (flight19['DISTANCE']<3000)].CARRIER_DELAY.mean(), flight19[(flight19['DISTANCE']>3000) & (flight19['DISTANCE']<3500)].CARRIER_DELAY.mean(), flight19[(flight19['DISTANCE']>3500) & (flight19['DISTANCE']<4000)].CARRIER_DELAY.mean(),flight19[(flight19['DISTANCE']>4000) & (flight19['DISTANCE']<4500)].CARRIER_DELAY.mean(), flight19[(flight19['DISTANCE']>4500) & (flight19['DISTANCE']<5000)].CARRIER_DELAY.mean()]\n",
        "bars=('1', '2','3','4','5','6','7','8','9','10')\n",
        "y_pos = np.arange(len(bars))\n",
        "plt.bar(y_pos, height)\n",
        "plt.xticks(y_pos, bars)\n",
        "plt.ylabel('average carrierdelay')\n",
        "plt.xlabel('distance')\n",
        "plt.show()"
      ],
      "execution_count": null,
      "outputs": [
        {
          "output_type": "display_data",
          "data": {
            "image/png": "[encoded data removed]",
            "text/plain": [
              "<Figure size 432x288 with 1 Axes>"
            ]
          },
          "metadata": {
            "tags": [],
            "needs_background": "light"
          }
        }
      ]
    },
    {
      "cell_type": "code",
      "metadata": {
        "colab": {
          "base_uri": "https://localhost:8080/",
          "height": 279
        },
        "id": "hd2puIYtzAxC",
        "outputId": "69c25306-44da-45cd-8437-16a650b76a44"
      },
      "source": [
        "height=[flight19[(flight19['DISTANCE']>0) & (flight19['DISTANCE']<500)].LATE_AIRCRAFT_DELAY.mean(), flight19[(flight19['DISTANCE']>500) & (flight19['DISTANCE']<1000)].LATE_AIRCRAFT_DELAY.mean(), flight19[(flight19['DISTANCE']>1000) & (flight19['DISTANCE']<1500)].LATE_AIRCRAFT_DELAY.mean(), flight19[(flight19['DISTANCE']>1500) & (flight19['DISTANCE']<2000)].LATE_AIRCRAFT_DELAY.mean(), flight19[(flight19['DISTANCE']>2000) & (flight19['DISTANCE']<2500)].LATE_AIRCRAFT_DELAY.mean(), flight19[(flight19['DISTANCE']>2500) & (flight19['DISTANCE']<3000)].LATE_AIRCRAFT_DELAY.mean(), flight19[(flight19['DISTANCE']>3000) & (flight19['DISTANCE']<3500)].LATE_AIRCRAFT_DELAY.mean(), flight19[(flight19['DISTANCE']>3500) & (flight19['DISTANCE']<4000)].LATE_AIRCRAFT_DELAY.mean(),flight19[(flight19['DISTANCE']>4000) & (flight19['DISTANCE']<4500)].LATE_AIRCRAFT_DELAY.mean(), flight19[(flight19['DISTANCE']>4500) & (flight19['DISTANCE']<5000)].LATE_AIRCRAFT_DELAY.mean()]\n",
        "bars=('1', '2','3','4','5','6','7','8','9','10')\n",
        "y_pos = np.arange(len(bars))\n",
        "plt.bar(y_pos, height)\n",
        "plt.xticks(y_pos, bars)\n",
        "plt.ylabel('average late aircraft delay')\n",
        "plt.xlabel('distance')\n",
        "plt.show()"
      ],
      "execution_count": null,
      "outputs": [
        {
          "output_type": "display_data",
          "data": {
            "image/png": "[encoded data removed]",
            "text/plain": [
              "<Figure size 432x288 with 1 Axes>"
            ]
          },
          "metadata": {
            "tags": [],
            "needs_background": "light"
          }
        }
      ]
    },
    {
      "cell_type": "code",
      "metadata": {
        "colab": {
          "base_uri": "https://localhost:8080/",
          "height": 279
        },
        "id": "eYbQTGS_wvt6",
        "outputId": "c24b96b2-eaf5-4ec2-969b-fbc31c7a5cc0"
      },
      "source": [
        "height=[flight19[(flight19['DISTANCE']>0) & (flight19['DISTANCE']<500)].SECURITY_DELAY.mean(), flight19[(flight19['DISTANCE']>500) & (flight19['DISTANCE']<1000)].SECURITY_DELAY.mean(), flight19[(flight19['DISTANCE']>1000) & (flight19['DISTANCE']<1500)].SECURITY_DELAY.mean(), flight19[(flight19['DISTANCE']>1500) & (flight19['DISTANCE']<2000)].SECURITY_DELAY.mean(), flight19[(flight19['DISTANCE']>2000) & (flight19['DISTANCE']<2500)].SECURITY_DELAY.mean(), flight19[(flight19['DISTANCE']>2500) & (flight19['DISTANCE']<3000)].SECURITY_DELAY.mean(), flight19[(flight19['DISTANCE']>3000) & (flight19['DISTANCE']<3500)].SECURITY_DELAY.mean(), flight19[(flight19['DISTANCE']>3500) & (flight19['DISTANCE']<4000)].SECURITY_DELAY.mean(),flight19[(flight19['DISTANCE']>4000) & (flight19['DISTANCE']<4500)].SECURITY_DELAY.mean(), flight19[(flight19['DISTANCE']>4500) & (flight19['DISTANCE']<5000)].SECURITY_DELAY.mean()]\n",
        "bars=('1', '2','3','4','5','6','7','8','9','10')\n",
        "y_pos = np.arange(len(bars))\n",
        "plt.bar(y_pos, height)\n",
        "plt.xticks(y_pos, bars)\n",
        "plt.ylabel('average security delay')\n",
        "plt.xlabel('distance')\n",
        "plt.show()"
      ],
      "execution_count": null,
      "outputs": [
        {
          "output_type": "display_data",
          "data": {
            "image/png": "[encoded data removed]",
            "text/plain": [
              "<Figure size 432x288 with 1 Axes>"
            ]
          },
          "metadata": {
            "tags": [],
            "needs_background": "light"
          }
        }
      ]
    },
    {
      "cell_type": "markdown",
      "metadata": {
        "id": "QhKzU1dm-4QE"
      },
      "source": [
        "##airports"
      ]
    },
    {
      "cell_type": "code",
      "metadata": {
        "id": "WxqpnHag0yfu"
      },
      "source": [
        "columns2=['airport','number of flights','cancellation rate','average delay']\n",
        "C=pd.DataFrame(columns=columns2)\n",
        "airports=flight19['DEST'].unique()\n",
        "C['airport']=airports\n",
        "for index, x in enumerate(C['cancellation rate']):\n",
        "  C['cancellation rate'].iloc[index]=flight19[flight19['DEST']==C['airport'].iloc[index]].CANCELLED.mean()"
      ],
      "execution_count": null,
      "outputs": []
    },
    {
      "cell_type": "code",
      "metadata": {
        "id": "PCubhJdk05qS"
      },
      "source": [
        "for index, x in enumerate(C['average delay']):\n",
        "  C['average delay'].iloc[index]=flight19[flight19['DEST']==C['airport'].iloc[index]].DEP_DELAY.mean()"
      ],
      "execution_count": null,
      "outputs": []
    },
    {
      "cell_type": "code",
      "metadata": {
        "id": "wUjkPVo1039_"
      },
      "source": [
        "for index, x in enumerate(C['number of flights']):\n",
        "  C['number of flights'].iloc[index]=flight19[flight19['DEST']==C['airport'].iloc[index]].YEAR.count()"
      ],
      "execution_count": null,
      "outputs": []
    },
    {
      "cell_type": "code",
      "metadata": {
        "colab": {
          "base_uri": "https://localhost:8080/",
          "height": 419
        },
        "id": "RxcnZa8X0yrp",
        "outputId": "12b09677-0352-4dd1-82c0-97270a2db8fe"
      },
      "source": [
        "C"
      ],
      "execution_count": null,
      "outputs": [
        {
          "output_type": "execute_result",
          "data": {
            "text/html": [
              "<div>\n",
              "<style scoped>\n",
              "    .dataframe tbody tr th:only-of-type {\n",
              "        vertical-align: middle;\n",
              "    }\n",
              "\n",
              "    .dataframe tbody tr th {\n",
              "        vertical-align: top;\n",
              "    }\n",
              "\n",
              "    .dataframe thead th {\n",
              "        text-align: right;\n",
              "    }\n",
              "</style>\n",
              "<table border=\"1\" class=\"dataframe\">\n",
              "  <thead>\n",
              "    <tr style=\"text-align: right;\">\n",
              "      <th></th>\n",
              "      <th>airport</th>\n",
              "      <th>number of flights</th>\n",
              "      <th>cancellation rate</th>\n",
              "      <th>average delay</th>\n",
              "      <th>log_number</th>\n",
              "      <th>log_cancel</th>\n",
              "      <th>log_delay</th>\n",
              "    </tr>\n",
              "  </thead>\n",
              "  <tbody>\n",
              "    <tr>\n",
              "      <th>0</th>\n",
              "      <td>CSG</td>\n",
              "      <td>1274.0</td>\n",
              "      <td>0.003925</td>\n",
              "      <td>6.679275</td>\n",
              "      <td>7.149917</td>\n",
              "      <td>-5.540479</td>\n",
              "      <td>1.899009</td>\n",
              "    </tr>\n",
              "    <tr>\n",
              "      <th>1</th>\n",
              "      <td>XNA</td>\n",
              "      <td>14134.0</td>\n",
              "      <td>0.018961</td>\n",
              "      <td>9.161637</td>\n",
              "      <td>9.556339</td>\n",
              "      <td>-3.965352</td>\n",
              "      <td>2.215025</td>\n",
              "    </tr>\n",
              "    <tr>\n",
              "      <th>2</th>\n",
              "      <td>ATL</td>\n",
              "      <td>395026.0</td>\n",
              "      <td>0.006331</td>\n",
              "      <td>7.499212</td>\n",
              "      <td>12.886707</td>\n",
              "      <td>-5.062261</td>\n",
              "      <td>2.014798</td>\n",
              "    </tr>\n",
              "    <tr>\n",
              "      <th>3</th>\n",
              "      <td>ORD</td>\n",
              "      <td>339569.0</td>\n",
              "      <td>0.032412</td>\n",
              "      <td>15.455186</td>\n",
              "      <td>12.735432</td>\n",
              "      <td>-3.429237</td>\n",
              "      <td>2.737945</td>\n",
              "    </tr>\n",
              "    <tr>\n",
              "      <th>4</th>\n",
              "      <td>CVG</td>\n",
              "      <td>48247.0</td>\n",
              "      <td>0.015711</td>\n",
              "      <td>11.096652</td>\n",
              "      <td>10.784089</td>\n",
              "      <td>-4.153406</td>\n",
              "      <td>2.406643</td>\n",
              "    </tr>\n",
              "    <tr>\n",
              "      <th>...</th>\n",
              "      <td>...</td>\n",
              "      <td>...</td>\n",
              "      <td>...</td>\n",
              "      <td>...</td>\n",
              "      <td>...</td>\n",
              "      <td>...</td>\n",
              "      <td>...</td>\n",
              "    </tr>\n",
              "    <tr>\n",
              "      <th>355</th>\n",
              "      <td>DLG</td>\n",
              "      <td>82.0</td>\n",
              "      <td>0.000000</td>\n",
              "      <td>-1.353659</td>\n",
              "      <td>4.406719</td>\n",
              "      <td>-inf</td>\n",
              "      <td>NaN</td>\n",
              "    </tr>\n",
              "    <tr>\n",
              "      <th>356</th>\n",
              "      <td>AKN</td>\n",
              "      <td>61.0</td>\n",
              "      <td>0.000000</td>\n",
              "      <td>-7.081967</td>\n",
              "      <td>4.110874</td>\n",
              "      <td>-inf</td>\n",
              "      <td>NaN</td>\n",
              "    </tr>\n",
              "    <tr>\n",
              "      <th>357</th>\n",
              "      <td>HYA</td>\n",
              "      <td>83.0</td>\n",
              "      <td>0.000000</td>\n",
              "      <td>16.915663</td>\n",
              "      <td>4.418841</td>\n",
              "      <td>-inf</td>\n",
              "      <td>2.828240</td>\n",
              "    </tr>\n",
              "    <tr>\n",
              "      <th>358</th>\n",
              "      <td>PGV</td>\n",
              "      <td>80.0</td>\n",
              "      <td>0.037500</td>\n",
              "      <td>0.653846</td>\n",
              "      <td>4.382027</td>\n",
              "      <td>-3.283414</td>\n",
              "      <td>-0.424883</td>\n",
              "    </tr>\n",
              "    <tr>\n",
              "      <th>359</th>\n",
              "      <td>XWA</td>\n",
              "      <td>209.0</td>\n",
              "      <td>0.009569</td>\n",
              "      <td>14.381643</td>\n",
              "      <td>5.342334</td>\n",
              "      <td>-4.649187</td>\n",
              "      <td>2.665953</td>\n",
              "    </tr>\n",
              "  </tbody>\n",
              "</table>\n",
              "<p>360 rows × 7 columns</p>\n",
              "</div>"
            ],
            "text/plain": [
              "    airport  number of flights  ...  log_cancel  log_delay\n",
              "0       CSG             1274.0  ...   -5.540479   1.899009\n",
              "1       XNA            14134.0  ...   -3.965352   2.215025\n",
              "2       ATL           395026.0  ...   -5.062261   2.014798\n",
              "3       ORD           339569.0  ...   -3.429237   2.737945\n",
              "4       CVG            48247.0  ...   -4.153406   2.406643\n",
              "..      ...                ...  ...         ...        ...\n",
              "355     DLG               82.0  ...        -inf        NaN\n",
              "356     AKN               61.0  ...        -inf        NaN\n",
              "357     HYA               83.0  ...        -inf   2.828240\n",
              "358     PGV               80.0  ...   -3.283414  -0.424883\n",
              "359     XWA              209.0  ...   -4.649187   2.665953\n",
              "\n",
              "[360 rows x 7 columns]"
            ]
          },
          "metadata": {
            "tags": []
          },
          "execution_count": 16
        }
      ]
    },
    {
      "cell_type": "code",
      "metadata": {
        "id": "mFRSFgr_wpyC"
      },
      "source": [
        "C['number of flights']=C['number of flights'].astype(float)\n",
        "C['cancellation rate']=C['cancellation rate'].astype(float)\n",
        "C['average delay']=C['average delay'].astype(float)"
      ],
      "execution_count": null,
      "outputs": []
    },
    {
      "cell_type": "code",
      "metadata": {
        "id": "vGTWLbnYGRec"
      },
      "source": [
        "C['log_number']=np.log(C['number of flights'])\n",
        "C['log_cancel']=np.log(C['cancellation rate'])\n",
        "C['log_delay']=np.log(C['average delay'])"
      ],
      "execution_count": null,
      "outputs": []
    },
    {
      "cell_type": "code",
      "metadata": {
        "colab": {
          "base_uri": "https://localhost:8080/",
          "height": 279
        },
        "id": "LtjoG0zy0ywN",
        "outputId": "c27596e4-23d0-4eb6-c083-0cba6fd85007"
      },
      "source": [
        "C.plot(x='log_number', y='cancellation rate', kind='scatter')\n",
        "plt.xlabel('annual log number of flights to an airport')\n",
        "plt.ylabel('cancellation rate')\n",
        "plt.xlim([6,13])\n",
        "plt.show()"
      ],
      "execution_count": null,
      "outputs": [
        {
          "output_type": "display_data",
          "data": {
            "image/png": "[encoded data removed]",
            "text/plain": [
              "<Figure size 432x288 with 1 Axes>"
            ]
          },
          "metadata": {
            "tags": [],
            "needs_background": "light"
          }
        }
      ]
    },
    {
      "cell_type": "code",
      "metadata": {
        "colab": {
          "base_uri": "https://localhost:8080/",
          "height": 279
        },
        "id": "EjPdzjqNwyzJ",
        "outputId": "deee3a6c-87f4-4a1d-9147-166d207f3d57"
      },
      "source": [
        "C.plot(x='number of flights', y='cancellation rate', kind='scatter')\n",
        "plt.xlabel('annual number of flights to an airport')\n",
        "plt.ylabel('cancellation rate')\n",
        "plt.ylim([0,0.125])\n",
        "plt.show()"
      ],
      "execution_count": null,
      "outputs": [
        {
          "output_type": "display_data",
          "data": {
            "image/png": "[encoded data removed]",
            "text/plain": [
              "<Figure size 432x288 with 1 Axes>"
            ]
          },
          "metadata": {
            "tags": [],
            "needs_background": "light"
          }
        }
      ]
    },
    {
      "cell_type": "code",
      "metadata": {
        "colab": {
          "base_uri": "https://localhost:8080/",
          "height": 279
        },
        "id": "oEnFywDj0yy6",
        "outputId": "64a8901e-ccf0-4f25-f5b2-9b7bc4d75169"
      },
      "source": [
        "C.plot(x='log_number', y='average delay', kind='scatter')\n",
        "plt.xlabel('annual log number of flights to an airport')\n",
        "plt.ylabel('average delay')\n",
        "plt.show()"
      ],
      "execution_count": null,
      "outputs": [
        {
          "output_type": "display_data",
          "data": {
            "image/png": "[encoded data removed]",
            "text/plain": [
              "<Figure size 432x288 with 1 Axes>"
            ]
          },
          "metadata": {
            "tags": [],
            "needs_background": "light"
          }
        }
      ]
    },
    {
      "cell_type": "code",
      "metadata": {
        "colab": {
          "base_uri": "https://localhost:8080/",
          "height": 279
        },
        "id": "ItLrRydeEwsg",
        "outputId": "fb4f54c7-5402-4da7-f367-01b4c4940e5c"
      },
      "source": [
        "C.plot(x='number of flights', y='average delay', kind='scatter')\n",
        "plt.xlabel('annual number of flights to an airport')\n",
        "plt.ylabel('average delay')\n",
        "plt.show()"
      ],
      "execution_count": null,
      "outputs": [
        {
          "output_type": "display_data",
          "data": {
            "image/png": "[encoded data removed]",
            "text/plain": [
              "<Figure size 432x288 with 1 Axes>"
            ]
          },
          "metadata": {
            "tags": [],
            "needs_background": "light"
          }
        }
      ]
    },
    {
      "cell_type": "code",
      "metadata": {
        "colab": {
          "base_uri": "https://localhost:8080/",
          "height": 279
        },
        "id": "QHFA4XftAwgI",
        "outputId": "3fca1d10-fbc6-4e5e-d9d3-40f063aea618"
      },
      "source": [
        "C.plot(x='average delay', y='cancellation rate', kind='scatter')\n",
        "plt.xlabel('average delay')\n",
        "plt.ylabel('cancellation rate')\n",
        "\n",
        "plt.show()"
      ],
      "execution_count": null,
      "outputs": [
        {
          "output_type": "display_data",
          "data": {
            "image/png": "[encoded data removed]",
            "text/plain": [
              "<Figure size 432x288 with 1 Axes>"
            ]
          },
          "metadata": {
            "tags": [],
            "needs_background": "light"
          }
        }
      ]
    },
    {
      "cell_type": "markdown",
      "metadata": {
        "id": "jvdd9MyhbQ-M"
      },
      "source": [
        "##load factor"
      ]
    },
    {
      "cell_type": "markdown",
      "metadata": {
        "id": "1h0H2X2vKStY"
      },
      "source": [
        "### load factor monthly distribution"
      ]
    },
    {
      "cell_type": "code",
      "metadata": {
        "colab": {
          "base_uri": "https://localhost:8080/",
          "height": 372
        },
        "id": "vpysRVIwKZlO",
        "outputId": "d70ef4cd-7efa-47d6-a317-8b3b6845d331"
      },
      "source": [
        "loadF19.boxplot(column='load factor', by='MONTH', showfliers=False)\n",
        "plt.title('2019 load factor')"
      ],
      "execution_count": null,
      "outputs": [
        {
          "output_type": "stream",
          "text": [
            "/usr/local/lib/python3.7/dist-packages/numpy/core/_asarray.py:83: VisibleDeprecationWarning: Creating an ndarray from ragged nested sequences (which is a list-or-tuple of lists-or-tuples-or ndarrays with different lengths or shapes) is deprecated. If you meant to do this, you must specify 'dtype=object' when creating the ndarray\n",
            "  return array(a, dtype, copy=False, order=order)\n"
          ],
          "name": "stderr"
        },
        {
          "output_type": "execute_result",
          "data": {
            "text/plain": [
              "Text(0.5, 1.0, '2019 load factor')"
            ]
          },
          "metadata": {
            "tags": []
          },
          "execution_count": 27
        },
        {
          "output_type": "display_data",
          "data": {
            "image/png": "[encoded data removed]",
            "text/plain": [
              "<Figure size 432x288 with 1 Axes>"
            ]
          },
          "metadata": {
            "tags": [],
            "needs_background": "light"
          }
        }
      ]
    },
    {
      "cell_type": "code",
      "metadata": {
        "colab": {
          "base_uri": "https://localhost:8080/",
          "height": 372
        },
        "id": "ojVPeup9NWNw",
        "outputId": "09131081-1063-4743-d832-9949214c0e7c"
      },
      "source": [
        "loadF18.boxplot(column='load factor', by='MONTH', showfliers=False)\n",
        "plt.title('2018 load factor')"
      ],
      "execution_count": null,
      "outputs": [
        {
          "output_type": "stream",
          "text": [
            "/usr/local/lib/python3.7/dist-packages/numpy/core/_asarray.py:83: VisibleDeprecationWarning: Creating an ndarray from ragged nested sequences (which is a list-or-tuple of lists-or-tuples-or ndarrays with different lengths or shapes) is deprecated. If you meant to do this, you must specify 'dtype=object' when creating the ndarray\n",
            "  return array(a, dtype, copy=False, order=order)\n"
          ],
          "name": "stderr"
        },
        {
          "output_type": "execute_result",
          "data": {
            "text/plain": [
              "Text(0.5, 1.0, '2018 load factor')"
            ]
          },
          "metadata": {
            "tags": []
          },
          "execution_count": 28
        },
        {
          "output_type": "display_data",
          "data": {
            "image/png": "[encoded data removed]",
            "text/plain": [
              "<Figure size 432x288 with 1 Axes>"
            ]
          },
          "metadata": {
            "tags": [],
            "needs_background": "light"
          }
        }
      ]
    },
    {
      "cell_type": "code",
      "metadata": {
        "colab": {
          "base_uri": "https://localhost:8080/",
          "height": 372
        },
        "id": "J-N3kO_3NyoM",
        "outputId": "89e76fed-8c5a-4045-abcc-404eee9631bd"
      },
      "source": [
        "loadF17.boxplot(column='load factor', by='MONTH', showfliers=False)\n",
        "plt.title('2017 load factor')"
      ],
      "execution_count": null,
      "outputs": [
        {
          "output_type": "stream",
          "text": [
            "/usr/local/lib/python3.7/dist-packages/numpy/core/_asarray.py:83: VisibleDeprecationWarning: Creating an ndarray from ragged nested sequences (which is a list-or-tuple of lists-or-tuples-or ndarrays with different lengths or shapes) is deprecated. If you meant to do this, you must specify 'dtype=object' when creating the ndarray\n",
            "  return array(a, dtype, copy=False, order=order)\n"
          ],
          "name": "stderr"
        },
        {
          "output_type": "execute_result",
          "data": {
            "text/plain": [
              "Text(0.5, 1.0, '2017 load factor')"
            ]
          },
          "metadata": {
            "tags": []
          },
          "execution_count": 32
        },
        {
          "output_type": "display_data",
          "data": {
            "image/png": "[encoded data removed]",
            "text/plain": [
              "<Figure size 432x288 with 1 Axes>"
            ]
          },
          "metadata": {
            "tags": [],
            "needs_background": "light"
          }
        }
      ]
    },
    {
      "cell_type": "markdown",
      "metadata": {
        "id": "g1ouYkjeJAYN"
      },
      "source": [
        "###load factor airline"
      ]
    },
    {
      "cell_type": "code",
      "metadata": {
        "id": "5pIf4iSUda1-"
      },
      "source": [
        "loadfactor=pd.read_csv('loadfactors.csv', na_values='-')"
      ],
      "execution_count": null,
      "outputs": []
    },
    {
      "cell_type": "code",
      "metadata": {
        "id": "Md5u8Oz-Ewva"
      },
      "source": [
        "columns3=['airline','load factor','cancellation rate','average delay']\n",
        "D=pd.DataFrame(columns=columns3)\n",
        "airlines=flight19['OP_UNIQUE_CARRIER'].unique()\n",
        "D['airline']=airlines"
      ],
      "execution_count": null,
      "outputs": []
    },
    {
      "cell_type": "code",
      "metadata": {
        "colab": {
          "base_uri": "https://localhost:8080/",
          "height": 419
        },
        "id": "uPeUmRcuBMcU",
        "outputId": "fc8f8fdf-8531-4e53-abaf-bcb2d175d5a4"
      },
      "source": [
        "loadfactor"
      ],
      "execution_count": null,
      "outputs": [
        {
          "output_type": "execute_result",
          "data": {
            "text/html": [
              "<div>\n",
              "<style scoped>\n",
              "    .dataframe tbody tr th:only-of-type {\n",
              "        vertical-align: middle;\n",
              "    }\n",
              "\n",
              "    .dataframe tbody tr th {\n",
              "        vertical-align: top;\n",
              "    }\n",
              "\n",
              "    .dataframe thead th {\n",
              "        text-align: right;\n",
              "    }\n",
              "</style>\n",
              "<table border=\"1\" class=\"dataframe\">\n",
              "  <thead>\n",
              "    <tr style=\"text-align: right;\">\n",
              "      <th></th>\n",
              "      <th>Airline</th>\n",
              "      <th>Year</th>\n",
              "      <th>Month</th>\n",
              "      <th>Domestic</th>\n",
              "    </tr>\n",
              "  </thead>\n",
              "  <tbody>\n",
              "    <tr>\n",
              "      <th>0</th>\n",
              "      <td>AS</td>\n",
              "      <td>2019</td>\n",
              "      <td>1</td>\n",
              "      <td>76.90</td>\n",
              "    </tr>\n",
              "    <tr>\n",
              "      <th>1</th>\n",
              "      <td>AS</td>\n",
              "      <td>2019</td>\n",
              "      <td>2</td>\n",
              "      <td>79.11</td>\n",
              "    </tr>\n",
              "    <tr>\n",
              "      <th>2</th>\n",
              "      <td>AS</td>\n",
              "      <td>2019</td>\n",
              "      <td>3</td>\n",
              "      <td>84.38</td>\n",
              "    </tr>\n",
              "    <tr>\n",
              "      <th>3</th>\n",
              "      <td>AS</td>\n",
              "      <td>2019</td>\n",
              "      <td>4</td>\n",
              "      <td>85.01</td>\n",
              "    </tr>\n",
              "    <tr>\n",
              "      <th>4</th>\n",
              "      <td>AS</td>\n",
              "      <td>2019</td>\n",
              "      <td>5</td>\n",
              "      <td>86.01</td>\n",
              "    </tr>\n",
              "    <tr>\n",
              "      <th>...</th>\n",
              "      <td>...</td>\n",
              "      <td>...</td>\n",
              "      <td>...</td>\n",
              "      <td>...</td>\n",
              "    </tr>\n",
              "    <tr>\n",
              "      <th>151</th>\n",
              "      <td>UA</td>\n",
              "      <td>2019</td>\n",
              "      <td>8</td>\n",
              "      <td>87.73</td>\n",
              "    </tr>\n",
              "    <tr>\n",
              "      <th>152</th>\n",
              "      <td>UA</td>\n",
              "      <td>2019</td>\n",
              "      <td>9</td>\n",
              "      <td>81.76</td>\n",
              "    </tr>\n",
              "    <tr>\n",
              "      <th>153</th>\n",
              "      <td>UA</td>\n",
              "      <td>2019</td>\n",
              "      <td>10</td>\n",
              "      <td>83.86</td>\n",
              "    </tr>\n",
              "    <tr>\n",
              "      <th>154</th>\n",
              "      <td>UA</td>\n",
              "      <td>2019</td>\n",
              "      <td>11</td>\n",
              "      <td>81.52</td>\n",
              "    </tr>\n",
              "    <tr>\n",
              "      <th>155</th>\n",
              "      <td>UA</td>\n",
              "      <td>2019</td>\n",
              "      <td>12</td>\n",
              "      <td>87.00</td>\n",
              "    </tr>\n",
              "  </tbody>\n",
              "</table>\n",
              "<p>156 rows × 4 columns</p>\n",
              "</div>"
            ],
            "text/plain": [
              "    Airline  Year  Month  Domestic\n",
              "0        AS  2019      1     76.90\n",
              "1        AS  2019      2     79.11\n",
              "2        AS  2019      3     84.38\n",
              "3        AS  2019      4     85.01\n",
              "4        AS  2019      5     86.01\n",
              "..      ...   ...    ...       ...\n",
              "151      UA  2019      8     87.73\n",
              "152      UA  2019      9     81.76\n",
              "153      UA  2019     10     83.86\n",
              "154      UA  2019     11     81.52\n",
              "155      UA  2019     12     87.00\n",
              "\n",
              "[156 rows x 4 columns]"
            ]
          },
          "metadata": {
            "tags": []
          },
          "execution_count": 27
        }
      ]
    },
    {
      "cell_type": "code",
      "metadata": {
        "id": "P5W-oJ3_36hz"
      },
      "source": [
        "D['cancellation rate']=A['cancellation rate']\n",
        "D['average delay']=A['average delay']\n",
        "for index, x in enumerate(D['load factor']):\n",
        "  D['load factor'].iloc[index]=loadfactor[loadfactor['Airline']==D['airline'].iloc[index]].Domestic.mean()"
      ],
      "execution_count": null,
      "outputs": []
    },
    {
      "cell_type": "code",
      "metadata": {
        "id": "SXxpaRtp0y8w",
        "colab": {
          "base_uri": "https://localhost:8080/",
          "height": 279
        },
        "outputId": "dfa4a46e-3be5-4167-c3f2-7f8e83e6dd42"
      },
      "source": [
        "D.plot(x='load factor', y='cancellation rate', kind='scatter')\n",
        "plt.xlabel('load factor')\n",
        "plt.ylabel('cancellation rate')\n",
        "plt.show()"
      ],
      "execution_count": null,
      "outputs": [
        {
          "output_type": "display_data",
          "data": {
            "image/png": "[encoded data removed]",
            "text/plain": [
              "<Figure size 432x288 with 1 Axes>"
            ]
          },
          "metadata": {
            "tags": [],
            "needs_background": "light"
          }
        }
      ]
    },
    {
      "cell_type": "code",
      "metadata": {
        "id": "lmYQ84lL0y-_",
        "colab": {
          "base_uri": "https://localhost:8080/",
          "height": 279
        },
        "outputId": "84601992-8ff8-4df6-f698-6c8021be5c68"
      },
      "source": [
        "D.plot(x='load factor', y='average delay', kind='scatter')\n",
        "plt.xlabel('load factor')\n",
        "plt.ylabel('average delay')\n",
        "plt.show()"
      ],
      "execution_count": null,
      "outputs": [
        {
          "output_type": "display_data",
          "data": {
            "image/png": "[encoded data removed]",
            "text/plain": [
              "<Figure size 432x288 with 1 Axes>"
            ]
          },
          "metadata": {
            "tags": [],
            "needs_background": "light"
          }
        }
      ]
    },
    {
      "cell_type": "markdown",
      "metadata": {
        "id": "tbbPsLjoJIGQ"
      },
      "source": [
        "### load factor airport"
      ]
    },
    {
      "cell_type": "code",
      "metadata": {
        "id": "3QrmYrSudebc"
      },
      "source": [
        "loadfactor2=pd.read_csv('loadfactor_airport.csv', encoding='unicode_escape')"
      ],
      "execution_count": null,
      "outputs": []
    },
    {
      "cell_type": "code",
      "metadata": {
        "id": "3jn6FkWW0zBt"
      },
      "source": [
        "loadfactor2['cancellation rate']=np.nan"
      ],
      "execution_count": null,
      "outputs": []
    },
    {
      "cell_type": "code",
      "metadata": {
        "id": "tWErDtgq5Vka"
      },
      "source": [
        "load19=loadfactor2[loadfactor2['Year']==2019]"
      ],
      "execution_count": null,
      "outputs": []
    },
    {
      "cell_type": "code",
      "metadata": {
        "id": "diaJiU-FJV7F"
      },
      "source": [
        "load19=load19[load19['Month']!='TOTAL']\n",
        "load19['Month']=load19['Month'].astype(float)"
      ],
      "execution_count": null,
      "outputs": []
    },
    {
      "cell_type": "code",
      "metadata": {
        "id": "AQJUQi9bEvdw"
      },
      "source": [
        "for index, x in enumerate(load19['cancellation rate']):\n",
        "    load19['cancellation rate'].iloc[index]=flight19[(flight19['ORIGIN']==load19['code'].iloc[index])&(flight19['MONTH']==load19['Month'].iloc[index])].CANCELLED.mean()"
      ],
      "execution_count": null,
      "outputs": []
    },
    {
      "cell_type": "code",
      "metadata": {
        "colab": {
          "base_uri": "https://localhost:8080/",
          "height": 419
        },
        "id": "WyBf38MSKQ2Z",
        "outputId": "de40aef7-a349-407e-9aa8-28f68617617e"
      },
      "source": [
        "load19"
      ],
      "execution_count": null,
      "outputs": [
        {
          "output_type": "execute_result",
          "data": {
            "text/html": [
              "<div>\n",
              "<style scoped>\n",
              "    .dataframe tbody tr th:only-of-type {\n",
              "        vertical-align: middle;\n",
              "    }\n",
              "\n",
              "    .dataframe tbody tr th {\n",
              "        vertical-align: top;\n",
              "    }\n",
              "\n",
              "    .dataframe thead th {\n",
              "        text-align: right;\n",
              "    }\n",
              "</style>\n",
              "<table border=\"1\" class=\"dataframe\">\n",
              "  <thead>\n",
              "    <tr style=\"text-align: right;\">\n",
              "      <th></th>\n",
              "      <th>Origin Airport</th>\n",
              "      <th>code</th>\n",
              "      <th>Year</th>\n",
              "      <th>Month</th>\n",
              "      <th>DOMESTIC</th>\n",
              "      <th>INTERNATIONAL</th>\n",
              "      <th>TOTAL</th>\n",
              "      <th>cancellation rate</th>\n",
              "    </tr>\n",
              "  </thead>\n",
              "  <tbody>\n",
              "    <tr>\n",
              "      <th>212</th>\n",
              "      <td>Atlanta, GA: Hartsfield-Jackson Atlanta Intern...</td>\n",
              "      <td>ATL</td>\n",
              "      <td>2019</td>\n",
              "      <td>1.0</td>\n",
              "      <td>80.88</td>\n",
              "      <td>81.42</td>\n",
              "      <td>81.04</td>\n",
              "      <td>0.010047</td>\n",
              "    </tr>\n",
              "    <tr>\n",
              "      <th>213</th>\n",
              "      <td>Atlanta, GA: Hartsfield-Jackson Atlanta Intern...</td>\n",
              "      <td>ATL</td>\n",
              "      <td>2019</td>\n",
              "      <td>2.0</td>\n",
              "      <td>84.45</td>\n",
              "      <td>83.17</td>\n",
              "      <td>84.09</td>\n",
              "      <td>0.006526</td>\n",
              "    </tr>\n",
              "    <tr>\n",
              "      <th>214</th>\n",
              "      <td>Atlanta, GA: Hartsfield-Jackson Atlanta Intern...</td>\n",
              "      <td>ATL</td>\n",
              "      <td>2019</td>\n",
              "      <td>3.0</td>\n",
              "      <td>88.69</td>\n",
              "      <td>88.59</td>\n",
              "      <td>88.66</td>\n",
              "      <td>0.007896</td>\n",
              "    </tr>\n",
              "    <tr>\n",
              "      <th>215</th>\n",
              "      <td>Atlanta, GA: Hartsfield-Jackson Atlanta Intern...</td>\n",
              "      <td>ATL</td>\n",
              "      <td>2019</td>\n",
              "      <td>4.0</td>\n",
              "      <td>87.89</td>\n",
              "      <td>84.88</td>\n",
              "      <td>86.99</td>\n",
              "      <td>0.007954</td>\n",
              "    </tr>\n",
              "    <tr>\n",
              "      <th>216</th>\n",
              "      <td>Atlanta, GA: Hartsfield-Jackson Atlanta Intern...</td>\n",
              "      <td>ATL</td>\n",
              "      <td>2019</td>\n",
              "      <td>5.0</td>\n",
              "      <td>89.85</td>\n",
              "      <td>90.99</td>\n",
              "      <td>90.20</td>\n",
              "      <td>0.005605</td>\n",
              "    </tr>\n",
              "    <tr>\n",
              "      <th>...</th>\n",
              "      <td>...</td>\n",
              "      <td>...</td>\n",
              "      <td>...</td>\n",
              "      <td>...</td>\n",
              "      <td>...</td>\n",
              "      <td>...</td>\n",
              "      <td>...</td>\n",
              "      <td>...</td>\n",
              "    </tr>\n",
              "    <tr>\n",
              "      <th>2115</th>\n",
              "      <td>San Antonio International</td>\n",
              "      <td>SAT</td>\n",
              "      <td>2019</td>\n",
              "      <td>8.0</td>\n",
              "      <td>79.41</td>\n",
              "      <td>63.26</td>\n",
              "      <td>79.35</td>\n",
              "      <td>0.009354</td>\n",
              "    </tr>\n",
              "    <tr>\n",
              "      <th>2116</th>\n",
              "      <td>San Antonio International</td>\n",
              "      <td>SAT</td>\n",
              "      <td>2019</td>\n",
              "      <td>9.0</td>\n",
              "      <td>76.92</td>\n",
              "      <td>NaN</td>\n",
              "      <td>76.92</td>\n",
              "      <td>0.008910</td>\n",
              "    </tr>\n",
              "    <tr>\n",
              "      <th>2117</th>\n",
              "      <td>San Antonio International</td>\n",
              "      <td>SAT</td>\n",
              "      <td>2019</td>\n",
              "      <td>10.0</td>\n",
              "      <td>81.56</td>\n",
              "      <td>NaN</td>\n",
              "      <td>81.56</td>\n",
              "      <td>0.010998</td>\n",
              "    </tr>\n",
              "    <tr>\n",
              "      <th>2118</th>\n",
              "      <td>San Antonio International</td>\n",
              "      <td>SAT</td>\n",
              "      <td>2019</td>\n",
              "      <td>11.0</td>\n",
              "      <td>82.40</td>\n",
              "      <td>75.72</td>\n",
              "      <td>82.39</td>\n",
              "      <td>0.004608</td>\n",
              "    </tr>\n",
              "    <tr>\n",
              "      <th>2119</th>\n",
              "      <td>San Antonio International</td>\n",
              "      <td>SAT</td>\n",
              "      <td>2019</td>\n",
              "      <td>12.0</td>\n",
              "      <td>84.82</td>\n",
              "      <td>78.67</td>\n",
              "      <td>84.81</td>\n",
              "      <td>0.002376</td>\n",
              "    </tr>\n",
              "  </tbody>\n",
              "</table>\n",
              "<p>108 rows × 8 columns</p>\n",
              "</div>"
            ],
            "text/plain": [
              "                                         Origin Airport  ... cancellation rate\n",
              "212   Atlanta, GA: Hartsfield-Jackson Atlanta Intern...  ...          0.010047\n",
              "213   Atlanta, GA: Hartsfield-Jackson Atlanta Intern...  ...          0.006526\n",
              "214   Atlanta, GA: Hartsfield-Jackson Atlanta Intern...  ...          0.007896\n",
              "215   Atlanta, GA: Hartsfield-Jackson Atlanta Intern...  ...          0.007954\n",
              "216   Atlanta, GA: Hartsfield-Jackson Atlanta Intern...  ...          0.005605\n",
              "...                                                 ...  ...               ...\n",
              "2115                          San Antonio International  ...          0.009354\n",
              "2116                          San Antonio International  ...          0.008910\n",
              "2117                          San Antonio International  ...          0.010998\n",
              "2118                          San Antonio International  ...          0.004608\n",
              "2119                          San Antonio International  ...          0.002376\n",
              "\n",
              "[108 rows x 8 columns]"
            ]
          },
          "metadata": {
            "tags": []
          },
          "execution_count": 40
        }
      ]
    },
    {
      "cell_type": "code",
      "metadata": {
        "id": "5mnGTDzvvpaA"
      },
      "source": [
        "chicago=load19[load19['code']=='ORD']"
      ],
      "execution_count": null,
      "outputs": []
    },
    {
      "cell_type": "code",
      "metadata": {
        "colab": {
          "base_uri": "https://localhost:8080/",
          "height": 421
        },
        "id": "OomTskL4v1Kl",
        "outputId": "978611dd-af2c-477b-c53b-8e8d10f21f3a"
      },
      "source": [
        "chicago"
      ],
      "execution_count": null,
      "outputs": [
        {
          "output_type": "execute_result",
          "data": {
            "text/html": [
              "<div>\n",
              "<style scoped>\n",
              "    .dataframe tbody tr th:only-of-type {\n",
              "        vertical-align: middle;\n",
              "    }\n",
              "\n",
              "    .dataframe tbody tr th {\n",
              "        vertical-align: top;\n",
              "    }\n",
              "\n",
              "    .dataframe thead th {\n",
              "        text-align: right;\n",
              "    }\n",
              "</style>\n",
              "<table border=\"1\" class=\"dataframe\">\n",
              "  <thead>\n",
              "    <tr style=\"text-align: right;\">\n",
              "      <th></th>\n",
              "      <th>Origin Airport</th>\n",
              "      <th>code</th>\n",
              "      <th>Year</th>\n",
              "      <th>Month</th>\n",
              "      <th>DOMESTIC</th>\n",
              "      <th>INTERNATIONAL</th>\n",
              "      <th>TOTAL</th>\n",
              "      <th>cancellation rate</th>\n",
              "    </tr>\n",
              "  </thead>\n",
              "  <tbody>\n",
              "    <tr>\n",
              "      <th>686</th>\n",
              "      <td>Chicago O'Hare International</td>\n",
              "      <td>ORD</td>\n",
              "      <td>2019</td>\n",
              "      <td>1.0</td>\n",
              "      <td>76.35</td>\n",
              "      <td>71.21</td>\n",
              "      <td>75.09</td>\n",
              "      <td>0.107415</td>\n",
              "    </tr>\n",
              "    <tr>\n",
              "      <th>687</th>\n",
              "      <td>Chicago O'Hare International</td>\n",
              "      <td>ORD</td>\n",
              "      <td>2019</td>\n",
              "      <td>2.0</td>\n",
              "      <td>80.03</td>\n",
              "      <td>72.87</td>\n",
              "      <td>78.37</td>\n",
              "      <td>0.048790</td>\n",
              "    </tr>\n",
              "    <tr>\n",
              "      <th>688</th>\n",
              "      <td>Chicago O'Hare International</td>\n",
              "      <td>ORD</td>\n",
              "      <td>2019</td>\n",
              "      <td>3.0</td>\n",
              "      <td>87.18</td>\n",
              "      <td>83.36</td>\n",
              "      <td>86.24</td>\n",
              "      <td>0.016740</td>\n",
              "    </tr>\n",
              "    <tr>\n",
              "      <th>689</th>\n",
              "      <td>Chicago O'Hare International</td>\n",
              "      <td>ORD</td>\n",
              "      <td>2019</td>\n",
              "      <td>4.0</td>\n",
              "      <td>83.54</td>\n",
              "      <td>74.95</td>\n",
              "      <td>81.33</td>\n",
              "      <td>0.037907</td>\n",
              "    </tr>\n",
              "    <tr>\n",
              "      <th>690</th>\n",
              "      <td>Chicago O'Hare International</td>\n",
              "      <td>ORD</td>\n",
              "      <td>2019</td>\n",
              "      <td>5.0</td>\n",
              "      <td>87.70</td>\n",
              "      <td>89.66</td>\n",
              "      <td>88.23</td>\n",
              "      <td>0.017667</td>\n",
              "    </tr>\n",
              "    <tr>\n",
              "      <th>691</th>\n",
              "      <td>Chicago O'Hare International</td>\n",
              "      <td>ORD</td>\n",
              "      <td>2019</td>\n",
              "      <td>6.0</td>\n",
              "      <td>89.94</td>\n",
              "      <td>92.46</td>\n",
              "      <td>90.61</td>\n",
              "      <td>0.024831</td>\n",
              "    </tr>\n",
              "    <tr>\n",
              "      <th>692</th>\n",
              "      <td>Chicago O'Hare International</td>\n",
              "      <td>ORD</td>\n",
              "      <td>2019</td>\n",
              "      <td>7.0</td>\n",
              "      <td>90.26</td>\n",
              "      <td>83.25</td>\n",
              "      <td>88.40</td>\n",
              "      <td>0.037294</td>\n",
              "    </tr>\n",
              "    <tr>\n",
              "      <th>693</th>\n",
              "      <td>Chicago O'Hare International</td>\n",
              "      <td>ORD</td>\n",
              "      <td>2019</td>\n",
              "      <td>8.0</td>\n",
              "      <td>87.38</td>\n",
              "      <td>84.29</td>\n",
              "      <td>86.56</td>\n",
              "      <td>0.025777</td>\n",
              "    </tr>\n",
              "    <tr>\n",
              "      <th>694</th>\n",
              "      <td>Chicago O'Hare International</td>\n",
              "      <td>ORD</td>\n",
              "      <td>2019</td>\n",
              "      <td>9.0</td>\n",
              "      <td>83.22</td>\n",
              "      <td>82.62</td>\n",
              "      <td>83.07</td>\n",
              "      <td>0.030395</td>\n",
              "    </tr>\n",
              "    <tr>\n",
              "      <th>695</th>\n",
              "      <td>Chicago O'Hare International</td>\n",
              "      <td>ORD</td>\n",
              "      <td>2019</td>\n",
              "      <td>10.0</td>\n",
              "      <td>85.50</td>\n",
              "      <td>80.01</td>\n",
              "      <td>84.25</td>\n",
              "      <td>0.005477</td>\n",
              "    </tr>\n",
              "    <tr>\n",
              "      <th>696</th>\n",
              "      <td>Chicago O'Hare International</td>\n",
              "      <td>ORD</td>\n",
              "      <td>2019</td>\n",
              "      <td>11.0</td>\n",
              "      <td>81.94</td>\n",
              "      <td>78.67</td>\n",
              "      <td>81.27</td>\n",
              "      <td>0.021196</td>\n",
              "    </tr>\n",
              "    <tr>\n",
              "      <th>697</th>\n",
              "      <td>Chicago O'Hare International</td>\n",
              "      <td>ORD</td>\n",
              "      <td>2019</td>\n",
              "      <td>12.0</td>\n",
              "      <td>87.59</td>\n",
              "      <td>88.33</td>\n",
              "      <td>87.75</td>\n",
              "      <td>0.009436</td>\n",
              "    </tr>\n",
              "  </tbody>\n",
              "</table>\n",
              "</div>"
            ],
            "text/plain": [
              "                   Origin Airport code  ...  TOTAL  cancellation rate\n",
              "686  Chicago O'Hare International  ORD  ...  75.09           0.107415\n",
              "687  Chicago O'Hare International  ORD  ...  78.37           0.048790\n",
              "688  Chicago O'Hare International  ORD  ...  86.24           0.016740\n",
              "689  Chicago O'Hare International  ORD  ...  81.33           0.037907\n",
              "690  Chicago O'Hare International  ORD  ...  88.23           0.017667\n",
              "691  Chicago O'Hare International  ORD  ...  90.61           0.024831\n",
              "692  Chicago O'Hare International  ORD  ...  88.40           0.037294\n",
              "693  Chicago O'Hare International  ORD  ...  86.56           0.025777\n",
              "694  Chicago O'Hare International  ORD  ...  83.07           0.030395\n",
              "695  Chicago O'Hare International  ORD  ...  84.25           0.005477\n",
              "696  Chicago O'Hare International  ORD  ...  81.27           0.021196\n",
              "697  Chicago O'Hare International  ORD  ...  87.75           0.009436\n",
              "\n",
              "[12 rows x 8 columns]"
            ]
          },
          "metadata": {
            "tags": []
          },
          "execution_count": 42
        }
      ]
    },
    {
      "cell_type": "code",
      "metadata": {
        "colab": {
          "base_uri": "https://localhost:8080/",
          "height": 279
        },
        "id": "tCeL8iir_Z-L",
        "outputId": "a7a49913-6fa8-40e7-e8df-44a985ffd5ce"
      },
      "source": [
        "chicago.plot(x='DOMESTIC', y='cancellation rate', kind='scatter')\n",
        "plt.xlabel('Airport Monthly load factor')\n",
        "plt.ylabel('cancellation rate')\n",
        "plt.show()"
      ],
      "execution_count": null,
      "outputs": [
        {
          "output_type": "display_data",
          "data": {
            "image/png": "[encoded data removed]",
            "text/plain": [
              "<Figure size 432x288 with 1 Axes>"
            ]
          },
          "metadata": {
            "tags": [],
            "needs_background": "light"
          }
        }
      ]
    },
    {
      "cell_type": "code",
      "metadata": {
        "colab": {
          "base_uri": "https://localhost:8080/",
          "height": 318
        },
        "id": "GIn5X5VHljqn",
        "outputId": "9bcbdf95-3d3e-4f00-a1fa-c14ac7935d79"
      },
      "source": [
        "load19.boxplot(column='DOMESTIC', by='Month', showfliers=False)"
      ],
      "execution_count": null,
      "outputs": [
        {
          "output_type": "execute_result",
          "data": {
            "text/plain": [
              "<matplotlib.axes._subplots.AxesSubplot at 0x7f3cb67cbf60>"
            ]
          },
          "metadata": {
            "tags": []
          },
          "execution_count": 27
        },
        {
          "output_type": "display_data",
          "data": {
            "image/png": "[encoded data removed]",
            "text/plain": [
              "<Figure size 432x288 with 1 Axes>"
            ]
          },
          "metadata": {
            "tags": [],
            "needs_background": "light"
          }
        }
      ]
    },
    {
      "cell_type": "code",
      "metadata": {
        "id": "vUk84HvlBmAs"
      },
      "source": [
        "load19=loadfactor2[loadfactor2['Year']==2019]\n",
        "columns4=['airport','cancellation rate','load factor']\n",
        "E=pd.DataFrame(columns=columns4)\n",
        "airports=load19['code'].unique()\n",
        "E['airport']=airports"
      ],
      "execution_count": null,
      "outputs": []
    },
    {
      "cell_type": "code",
      "metadata": {
        "id": "QcfcYjQEEuzq"
      },
      "source": [
        "for index, x in enumerate(E['cancellation rate']):\n",
        "  E['cancellation rate'].iloc[index]=flight19[flight19['ORIGIN']==E['airport'].iloc[index]].CANCELLED.mean()"
      ],
      "execution_count": null,
      "outputs": []
    },
    {
      "cell_type": "code",
      "metadata": {
        "id": "aoFQJhdtDUZD"
      },
      "source": [
        "for index, x in enumerate(E['load factor']):\n",
        "  E['load factor'].iloc[index]=load19[(load19['code']==E['airport'].iloc[index])&(load19['Month']=='TOTAL')].DOMESTIC.sum()"
      ],
      "execution_count": null,
      "outputs": []
    },
    {
      "cell_type": "code",
      "metadata": {
        "colab": {
          "base_uri": "https://localhost:8080/",
          "height": 328
        },
        "id": "5uULOrWBKZYv",
        "outputId": "0df045ba-f5ec-4a27-ed20-71cfb8a95a42"
      },
      "source": [
        "E"
      ],
      "execution_count": null,
      "outputs": [
        {
          "output_type": "execute_result",
          "data": {
            "text/html": [
              "<div>\n",
              "<style scoped>\n",
              "    .dataframe tbody tr th:only-of-type {\n",
              "        vertical-align: middle;\n",
              "    }\n",
              "\n",
              "    .dataframe tbody tr th {\n",
              "        vertical-align: top;\n",
              "    }\n",
              "\n",
              "    .dataframe thead th {\n",
              "        text-align: right;\n",
              "    }\n",
              "</style>\n",
              "<table border=\"1\" class=\"dataframe\">\n",
              "  <thead>\n",
              "    <tr style=\"text-align: right;\">\n",
              "      <th></th>\n",
              "      <th>airport</th>\n",
              "      <th>cancellation rate</th>\n",
              "      <th>load factor</th>\n",
              "    </tr>\n",
              "  </thead>\n",
              "  <tbody>\n",
              "    <tr>\n",
              "      <th>0</th>\n",
              "      <td>ATL</td>\n",
              "      <td>0.006091</td>\n",
              "      <td>87.02</td>\n",
              "    </tr>\n",
              "    <tr>\n",
              "      <th>1</th>\n",
              "      <td>LAX</td>\n",
              "      <td>0.0128755</td>\n",
              "      <td>87.84</td>\n",
              "    </tr>\n",
              "    <tr>\n",
              "      <th>2</th>\n",
              "      <td>ORD</td>\n",
              "      <td>0.0310978</td>\n",
              "      <td>85.32</td>\n",
              "    </tr>\n",
              "    <tr>\n",
              "      <th>3</th>\n",
              "      <td>DFW</td>\n",
              "      <td>0.025941</td>\n",
              "      <td>85.43</td>\n",
              "    </tr>\n",
              "    <tr>\n",
              "      <th>4</th>\n",
              "      <td>DEN</td>\n",
              "      <td>0.019248</td>\n",
              "      <td>87.19</td>\n",
              "    </tr>\n",
              "    <tr>\n",
              "      <th>5</th>\n",
              "      <td>PDX</td>\n",
              "      <td>0.00712673</td>\n",
              "      <td>86.89</td>\n",
              "    </tr>\n",
              "    <tr>\n",
              "      <th>6</th>\n",
              "      <td>MCI</td>\n",
              "      <td>0.0204215</td>\n",
              "      <td>82.39</td>\n",
              "    </tr>\n",
              "    <tr>\n",
              "      <th>7</th>\n",
              "      <td>PIT</td>\n",
              "      <td>0.0180552</td>\n",
              "      <td>82.59</td>\n",
              "    </tr>\n",
              "    <tr>\n",
              "      <th>8</th>\n",
              "      <td>SAT</td>\n",
              "      <td>0.014171</td>\n",
              "      <td>82.88</td>\n",
              "    </tr>\n",
              "  </tbody>\n",
              "</table>\n",
              "</div>"
            ],
            "text/plain": [
              "  airport cancellation rate load factor\n",
              "0     ATL          0.006091       87.02\n",
              "1     LAX         0.0128755       87.84\n",
              "2     ORD         0.0310978       85.32\n",
              "3     DFW          0.025941       85.43\n",
              "4     DEN          0.019248       87.19\n",
              "5     PDX        0.00712673       86.89\n",
              "6     MCI         0.0204215       82.39\n",
              "7     PIT         0.0180552       82.59\n",
              "8     SAT          0.014171       82.88"
            ]
          },
          "metadata": {
            "tags": []
          },
          "execution_count": 28
        }
      ]
    },
    {
      "cell_type": "code",
      "metadata": {
        "colab": {
          "base_uri": "https://localhost:8080/",
          "height": 279
        },
        "id": "jcdc8TgYFuT2",
        "outputId": "6d86ccec-7d44-4dcf-853c-fbdf0a6fd4d4"
      },
      "source": [
        "E.plot(x='load factor', y='cancellation rate', kind='scatter')\n",
        "plt.xlabel('Airport annual load factor')\n",
        "plt.ylabel('cancellation rate')\n",
        "plt.show()"
      ],
      "execution_count": null,
      "outputs": [
        {
          "output_type": "display_data",
          "data": {
            "image/png": "[encoded data removed]",
            "text/plain": [
              "<Figure size 432x288 with 1 Axes>"
            ]
          },
          "metadata": {
            "tags": [],
            "needs_background": "light"
          }
        }
      ]
    },
    {
      "cell_type": "markdown",
      "metadata": {
        "id": "NXO7avoPGINl"
      },
      "source": [
        "###airline"
      ]
    },
    {
      "cell_type": "code",
      "metadata": {
        "id": "bdDplX0UIHhZ"
      },
      "source": [
        "loadF=load[load['CLASS']=='F']"
      ],
      "execution_count": null,
      "outputs": []
    },
    {
      "cell_type": "code",
      "metadata": {
        "colab": {
          "base_uri": "https://localhost:8080/"
        },
        "id": "OU3u7iBUIH4j",
        "outputId": "0425ead8-e269-4ef7-a80b-8d6a53293b4a"
      },
      "source": [
        "loadF['load factor']=loadF['PASSENGERS']/loadF['SEATS']"
      ],
      "execution_count": null,
      "outputs": [
        {
          "output_type": "stream",
          "text": [
            "/usr/local/lib/python3.7/dist-packages/ipykernel_launcher.py:1: SettingWithCopyWarning: \n",
            "A value is trying to be set on a copy of a slice from a DataFrame.\n",
            "Try using .loc[row_indexer,col_indexer] = value instead\n",
            "\n",
            "See the caveats in the documentation: https://pandas.pydata.org/pandas-docs/stable/user_guide/indexing.html#returning-a-view-versus-a-copy\n",
            "  \"\"\"Entry point for launching an IPython kernel.\n"
          ],
          "name": "stderr"
        }
      ]
    },
    {
      "cell_type": "code",
      "metadata": {
        "id": "3Db6PebFMnL3"
      },
      "source": [
        "loadF=loadF.reset_index()"
      ],
      "execution_count": null,
      "outputs": []
    },
    {
      "cell_type": "code",
      "metadata": {
        "id": "yHJZvV2yM6KQ"
      },
      "source": [
        "a=loadF[loadF['PASSENGERS']==0]\n",
        "index=a.index\n",
        "loadF=loadF.drop(index)"
      ],
      "execution_count": null,
      "outputs": []
    },
    {
      "cell_type": "code",
      "metadata": {
        "id": "yI8-hJp0BerR"
      },
      "source": [
        "loadF=loadF.drop(['index'], axis=1)"
      ],
      "execution_count": null,
      "outputs": []
    },
    {
      "cell_type": "code",
      "metadata": {
        "colab": {
          "base_uri": "https://localhost:8080/",
          "height": 334
        },
        "id": "Coh28ZDYTG6Y",
        "outputId": "d11cfc99-ffb6-4d5b-cc0a-9016b2c59764"
      },
      "source": [
        "loadF.describe()"
      ],
      "execution_count": null,
      "outputs": [
        {
          "output_type": "execute_result",
          "data": {
            "text/html": [
              "<div>\n",
              "<style scoped>\n",
              "    .dataframe tbody tr th:only-of-type {\n",
              "        vertical-align: middle;\n",
              "    }\n",
              "\n",
              "    .dataframe tbody tr th {\n",
              "        vertical-align: top;\n",
              "    }\n",
              "\n",
              "    .dataframe thead th {\n",
              "        text-align: right;\n",
              "    }\n",
              "</style>\n",
              "<table border=\"1\" class=\"dataframe\">\n",
              "  <thead>\n",
              "    <tr style=\"text-align: right;\">\n",
              "      <th></th>\n",
              "      <th>Unnamed: 0</th>\n",
              "      <th>DEPARTURES_SCHEDULED</th>\n",
              "      <th>DEPARTURES_PERFORMED</th>\n",
              "      <th>SEATS</th>\n",
              "      <th>PASSENGERS</th>\n",
              "      <th>FREIGHT</th>\n",
              "      <th>MAIL</th>\n",
              "      <th>DISTANCE</th>\n",
              "      <th>AIR_TIME</th>\n",
              "      <th>ORIGIN_AIRPORT_ID</th>\n",
              "      <th>DEST_AIRPORT_ID</th>\n",
              "      <th>AIRCRAFT_TYPE</th>\n",
              "      <th>YEAR</th>\n",
              "      <th>MONTH</th>\n",
              "      <th>DISTANCE_GROUP</th>\n",
              "      <th>Unnamed: 23</th>\n",
              "      <th>loadfactor</th>\n",
              "    </tr>\n",
              "  </thead>\n",
              "  <tbody>\n",
              "    <tr>\n",
              "      <th>count</th>\n",
              "      <td>1.569174e+06</td>\n",
              "      <td>1.569174e+06</td>\n",
              "      <td>1.569174e+06</td>\n",
              "      <td>1.569174e+06</td>\n",
              "      <td>1.569174e+06</td>\n",
              "      <td>1.569174e+06</td>\n",
              "      <td>1.569174e+06</td>\n",
              "      <td>1.569174e+06</td>\n",
              "      <td>1.569174e+06</td>\n",
              "      <td>1.569174e+06</td>\n",
              "      <td>1.569174e+06</td>\n",
              "      <td>1.569174e+06</td>\n",
              "      <td>1.569174e+06</td>\n",
              "      <td>1.569174e+06</td>\n",
              "      <td>1.569174e+06</td>\n",
              "      <td>0.0</td>\n",
              "      <td>1.569174e+06</td>\n",
              "    </tr>\n",
              "    <tr>\n",
              "      <th>mean</th>\n",
              "      <td>1.102036e+06</td>\n",
              "      <td>2.904592e+01</td>\n",
              "      <td>2.935099e+01</td>\n",
              "      <td>3.285089e+03</td>\n",
              "      <td>2.611988e+03</td>\n",
              "      <td>4.626838e+03</td>\n",
              "      <td>2.444817e+03</td>\n",
              "      <td>7.423020e+02</td>\n",
              "      <td>2.972978e+03</td>\n",
              "      <td>1.273357e+04</td>\n",
              "      <td>1.272433e+04</td>\n",
              "      <td>6.164515e+02</td>\n",
              "      <td>2.017382e+03</td>\n",
              "      <td>6.404244e+00</td>\n",
              "      <td>2.026492e+00</td>\n",
              "      <td>NaN</td>\n",
              "      <td>7.308539e-01</td>\n",
              "    </tr>\n",
              "    <tr>\n",
              "      <th>std</th>\n",
              "      <td>6.172099e+05</td>\n",
              "      <td>4.441399e+01</td>\n",
              "      <td>4.134373e+01</td>\n",
              "      <td>5.387849e+03</td>\n",
              "      <td>4.460160e+03</td>\n",
              "      <td>3.746580e+04</td>\n",
              "      <td>1.286973e+04</td>\n",
              "      <td>5.975609e+02</td>\n",
              "      <td>4.839707e+03</td>\n",
              "      <td>1.552369e+03</td>\n",
              "      <td>1.550949e+03</td>\n",
              "      <td>1.468532e+02</td>\n",
              "      <td>1.639394e+00</td>\n",
              "      <td>3.442963e+00</td>\n",
              "      <td>1.182833e+00</td>\n",
              "      <td>NaN</td>\n",
              "      <td>2.206833e-01</td>\n",
              "    </tr>\n",
              "    <tr>\n",
              "      <th>min</th>\n",
              "      <td>1.400000e+01</td>\n",
              "      <td>0.000000e+00</td>\n",
              "      <td>1.000000e+00</td>\n",
              "      <td>1.000000e+00</td>\n",
              "      <td>1.000000e+00</td>\n",
              "      <td>0.000000e+00</td>\n",
              "      <td>0.000000e+00</td>\n",
              "      <td>0.000000e+00</td>\n",
              "      <td>0.000000e+00</td>\n",
              "      <td>1.000500e+04</td>\n",
              "      <td>1.000500e+04</td>\n",
              "      <td>1.000000e+01</td>\n",
              "      <td>2.015000e+03</td>\n",
              "      <td>1.000000e+00</td>\n",
              "      <td>1.000000e+00</td>\n",
              "      <td>NaN</td>\n",
              "      <td>4.651163e-04</td>\n",
              "    </tr>\n",
              "    <tr>\n",
              "      <th>25%</th>\n",
              "      <td>5.746272e+05</td>\n",
              "      <td>2.000000e+00</td>\n",
              "      <td>3.000000e+00</td>\n",
              "      <td>2.000000e+02</td>\n",
              "      <td>1.490000e+02</td>\n",
              "      <td>0.000000e+00</td>\n",
              "      <td>0.000000e+00</td>\n",
              "      <td>2.960000e+02</td>\n",
              "      <td>2.330000e+02</td>\n",
              "      <td>1.129200e+04</td>\n",
              "      <td>1.129200e+04</td>\n",
              "      <td>6.140000e+02</td>\n",
              "      <td>2.016000e+03</td>\n",
              "      <td>3.000000e+00</td>\n",
              "      <td>1.000000e+00</td>\n",
              "      <td>NaN</td>\n",
              "      <td>6.370968e-01</td>\n",
              "    </tr>\n",
              "    <tr>\n",
              "      <th>50%</th>\n",
              "      <td>1.084890e+06</td>\n",
              "      <td>1.300000e+01</td>\n",
              "      <td>1.600000e+01</td>\n",
              "      <td>1.408000e+03</td>\n",
              "      <td>1.040000e+03</td>\n",
              "      <td>0.000000e+00</td>\n",
              "      <td>0.000000e+00</td>\n",
              "      <td>6.060000e+02</td>\n",
              "      <td>1.277000e+03</td>\n",
              "      <td>1.288900e+04</td>\n",
              "      <td>1.288900e+04</td>\n",
              "      <td>6.340000e+02</td>\n",
              "      <td>2.017000e+03</td>\n",
              "      <td>6.000000e+00</td>\n",
              "      <td>2.000000e+00</td>\n",
              "      <td>NaN</td>\n",
              "      <td>8.040000e-01</td>\n",
              "    </tr>\n",
              "    <tr>\n",
              "      <th>75%</th>\n",
              "      <td>1.653741e+06</td>\n",
              "      <td>3.700000e+01</td>\n",
              "      <td>3.800000e+01</td>\n",
              "      <td>4.200000e+03</td>\n",
              "      <td>3.303000e+03</td>\n",
              "      <td>7.590000e+02</td>\n",
              "      <td>0.000000e+00</td>\n",
              "      <td>1.018000e+03</td>\n",
              "      <td>3.911000e+03</td>\n",
              "      <td>1.410000e+04</td>\n",
              "      <td>1.406200e+04</td>\n",
              "      <td>6.940000e+02</td>\n",
              "      <td>2.019000e+03</td>\n",
              "      <td>9.000000e+00</td>\n",
              "      <td>3.000000e+00</td>\n",
              "      <td>NaN</td>\n",
              "      <td>8.906250e-01</td>\n",
              "    </tr>\n",
              "    <tr>\n",
              "      <th>max</th>\n",
              "      <td>2.153813e+06</td>\n",
              "      <td>2.361000e+03</td>\n",
              "      <td>1.108000e+03</td>\n",
              "      <td>1.103360e+05</td>\n",
              "      <td>9.577700e+04</td>\n",
              "      <td>2.580470e+06</td>\n",
              "      <td>6.831530e+05</td>\n",
              "      <td>5.812000e+03</td>\n",
              "      <td>1.800070e+05</td>\n",
              "      <td>1.686900e+04</td>\n",
              "      <td>1.686900e+04</td>\n",
              "      <td>8.890000e+02</td>\n",
              "      <td>2.020000e+03</td>\n",
              "      <td>1.200000e+01</td>\n",
              "      <td>1.200000e+01</td>\n",
              "      <td>NaN</td>\n",
              "      <td>2.000000e+00</td>\n",
              "    </tr>\n",
              "  </tbody>\n",
              "</table>\n",
              "</div>"
            ],
            "text/plain": [
              "         Unnamed: 0  DEPARTURES_SCHEDULED  ...  Unnamed: 23    loadfactor\n",
              "count  1.569174e+06          1.569174e+06  ...          0.0  1.569174e+06\n",
              "mean   1.102036e+06          2.904592e+01  ...          NaN  7.308539e-01\n",
              "std    6.172099e+05          4.441399e+01  ...          NaN  2.206833e-01\n",
              "min    1.400000e+01          0.000000e+00  ...          NaN  4.651163e-04\n",
              "25%    5.746272e+05          2.000000e+00  ...          NaN  6.370968e-01\n",
              "50%    1.084890e+06          1.300000e+01  ...          NaN  8.040000e-01\n",
              "75%    1.653741e+06          3.700000e+01  ...          NaN  8.906250e-01\n",
              "max    2.153813e+06          2.361000e+03  ...          NaN  2.000000e+00\n",
              "\n",
              "[8 rows x 17 columns]"
            ]
          },
          "metadata": {
            "tags": []
          },
          "execution_count": 67
        }
      ]
    },
    {
      "cell_type": "code",
      "metadata": {
        "colab": {
          "base_uri": "https://localhost:8080/",
          "height": 372
        },
        "id": "-dSTuBQgNS_-",
        "outputId": "c4ef4a8b-a98b-4963-da3a-716a642b0f0f"
      },
      "source": [
        "loadF.boxplot(column='load factor', by='YEAR', showfliers=False)\n",
        "plt.ylabel('load factor')"
      ],
      "execution_count": null,
      "outputs": [
        {
          "output_type": "stream",
          "text": [
            "/usr/local/lib/python3.7/dist-packages/numpy/core/_asarray.py:83: VisibleDeprecationWarning: Creating an ndarray from ragged nested sequences (which is a list-or-tuple of lists-or-tuples-or ndarrays with different lengths or shapes) is deprecated. If you meant to do this, you must specify 'dtype=object' when creating the ndarray\n",
            "  return array(a, dtype, copy=False, order=order)\n"
          ],
          "name": "stderr"
        },
        {
          "output_type": "execute_result",
          "data": {
            "text/plain": [
              "Text(0, 0.5, 'load factor')"
            ]
          },
          "metadata": {
            "tags": []
          },
          "execution_count": 34
        },
        {
          "output_type": "display_data",
          "data": {
            "image/png": "[encoded data removed]",
            "text/plain": [
              "<Figure size 432x288 with 1 Axes>"
            ]
          },
          "metadata": {
            "tags": [],
            "needs_background": "light"
          }
        }
      ]
    },
    {
      "cell_type": "code",
      "metadata": {
        "colab": {
          "base_uri": "https://localhost:8080/",
          "height": 372
        },
        "id": "RpFVpHLHNaYf",
        "outputId": "5ce4cc8f-220f-4a43-ba40-365492bd9c1c"
      },
      "source": [
        "loadF[loadF['YEAR']==2019].boxplot(column='load factor', by='MONTH', showfliers=False)"
      ],
      "execution_count": null,
      "outputs": [
        {
          "output_type": "stream",
          "text": [
            "/usr/local/lib/python3.7/dist-packages/numpy/core/_asarray.py:83: VisibleDeprecationWarning: Creating an ndarray from ragged nested sequences (which is a list-or-tuple of lists-or-tuples-or ndarrays with different lengths or shapes) is deprecated. If you meant to do this, you must specify 'dtype=object' when creating the ndarray\n",
            "  return array(a, dtype, copy=False, order=order)\n"
          ],
          "name": "stderr"
        },
        {
          "output_type": "execute_result",
          "data": {
            "text/plain": [
              "<matplotlib.axes._subplots.AxesSubplot at 0x7f90bca2c810>"
            ]
          },
          "metadata": {
            "tags": []
          },
          "execution_count": 77
        },
        {
          "output_type": "display_data",
          "data": {
            "image/png": "[encoded data removed]",
            "text/plain": [
              "<Figure size 432x288 with 1 Axes>"
            ]
          },
          "metadata": {
            "tags": [],
            "needs_background": "light"
          }
        }
      ]
    },
    {
      "cell_type": "code",
      "metadata": {
        "colab": {
          "base_uri": "https://localhost:8080/",
          "height": 283
        },
        "id": "XBovG652Rrin",
        "outputId": "24d484af-aa96-440b-e58c-e3f3bae38ce3"
      },
      "source": [
        "height=[loadF[loadF['YEAR']==2015]['load factor'].mean(), loadF[loadF['YEAR']==2016]['load factor'].mean(), loadF[loadF['YEAR']==2017]['load factor'].mean(), loadF[loadF['YEAR']==2018]['load factor'].mean(), loadF[loadF['YEAR']==2019]['load factor'].mean(), loadF[loadF['YEAR']==2020]['load factor'].mean()]\n",
        "bars=('2015','2016','2017','2018','2019','2020')\n",
        "y_pos = np.arange(len(bars))\n",
        "plt.bar(y_pos, height)\n",
        "plt.xticks(y_pos, bars)\n",
        "plt.ylabel('load factor average')\n",
        "plt.xlabel('Year')\n",
        "plt.ylim([0.45,0.8])\n",
        "plt.show()"
      ],
      "execution_count": null,
      "outputs": [
        {
          "output_type": "display_data",
          "data": {
            "image/png": "[encoded data removed]",
            "text/plain": [
              "<Figure size 432x288 with 1 Axes>"
            ]
          },
          "metadata": {
            "tags": [],
            "needs_background": "light"
          }
        }
      ]
    },
    {
      "cell_type": "markdown",
      "metadata": {
        "id": "AF_LYB-jKQpd"
      },
      "source": [
        "####2019"
      ]
    },
    {
      "cell_type": "code",
      "metadata": {
        "id": "4V4idmfN989t"
      },
      "source": [
        "loadF19=loadF[loadF['YEAR']==2019]"
      ],
      "execution_count": null,
      "outputs": []
    },
    {
      "cell_type": "code",
      "metadata": {
        "id": "elRZRiliBs71"
      },
      "source": [
        "loadF19=loadF19.reset_index()\n",
        "loadF19=loadF19.drop(['index'], axis=1)"
      ],
      "execution_count": null,
      "outputs": []
    },
    {
      "cell_type": "code",
      "metadata": {
        "id": "HhBooGcW4REM"
      },
      "source": [
        "columns=['airline','load factor','cancellation rate']\n",
        "F=pd.DataFrame(columns=columns)\n",
        "airlines=loadF19['UNIQUE_CARRIER'].unique()\n",
        "F['airline']=airlines"
      ],
      "execution_count": null,
      "outputs": []
    },
    {
      "cell_type": "code",
      "metadata": {
        "colab": {
          "base_uri": "https://localhost:8080/",
          "height": 419
        },
        "id": "MncwFTcD4-1w",
        "outputId": "fe6f3d70-2f31-4f06-8bdb-561d317f4210"
      },
      "source": [
        "F"
      ],
      "execution_count": null,
      "outputs": [
        {
          "output_type": "execute_result",
          "data": {
            "text/html": [
              "<div>\n",
              "<style scoped>\n",
              "    .dataframe tbody tr th:only-of-type {\n",
              "        vertical-align: middle;\n",
              "    }\n",
              "\n",
              "    .dataframe tbody tr th {\n",
              "        vertical-align: top;\n",
              "    }\n",
              "\n",
              "    .dataframe thead th {\n",
              "        text-align: right;\n",
              "    }\n",
              "</style>\n",
              "<table border=\"1\" class=\"dataframe\">\n",
              "  <thead>\n",
              "    <tr style=\"text-align: right;\">\n",
              "      <th></th>\n",
              "      <th>airline</th>\n",
              "      <th>load factor</th>\n",
              "      <th>cancellation rate</th>\n",
              "    </tr>\n",
              "  </thead>\n",
              "  <tbody>\n",
              "    <tr>\n",
              "      <th>0</th>\n",
              "      <td>YX</td>\n",
              "      <td>NaN</td>\n",
              "      <td>NaN</td>\n",
              "    </tr>\n",
              "    <tr>\n",
              "      <th>1</th>\n",
              "      <td>3AQ</td>\n",
              "      <td>NaN</td>\n",
              "      <td>NaN</td>\n",
              "    </tr>\n",
              "    <tr>\n",
              "      <th>2</th>\n",
              "      <td>7S</td>\n",
              "      <td>NaN</td>\n",
              "      <td>NaN</td>\n",
              "    </tr>\n",
              "    <tr>\n",
              "      <th>3</th>\n",
              "      <td>8V</td>\n",
              "      <td>NaN</td>\n",
              "      <td>NaN</td>\n",
              "    </tr>\n",
              "    <tr>\n",
              "      <th>4</th>\n",
              "      <td>9E</td>\n",
              "      <td>NaN</td>\n",
              "      <td>NaN</td>\n",
              "    </tr>\n",
              "    <tr>\n",
              "      <th>...</th>\n",
              "      <td>...</td>\n",
              "      <td>...</td>\n",
              "      <td>...</td>\n",
              "    </tr>\n",
              "    <tr>\n",
              "      <th>73</th>\n",
              "      <td>3E</td>\n",
              "      <td>NaN</td>\n",
              "      <td>NaN</td>\n",
              "    </tr>\n",
              "    <tr>\n",
              "      <th>74</th>\n",
              "      <td>WST</td>\n",
              "      <td>NaN</td>\n",
              "      <td>NaN</td>\n",
              "    </tr>\n",
              "    <tr>\n",
              "      <th>75</th>\n",
              "      <td>AAT</td>\n",
              "      <td>NaN</td>\n",
              "      <td>NaN</td>\n",
              "    </tr>\n",
              "    <tr>\n",
              "      <th>76</th>\n",
              "      <td>3BQ</td>\n",
              "      <td>NaN</td>\n",
              "      <td>NaN</td>\n",
              "    </tr>\n",
              "    <tr>\n",
              "      <th>77</th>\n",
              "      <td>1QQ</td>\n",
              "      <td>NaN</td>\n",
              "      <td>NaN</td>\n",
              "    </tr>\n",
              "  </tbody>\n",
              "</table>\n",
              "<p>78 rows × 3 columns</p>\n",
              "</div>"
            ],
            "text/plain": [
              "   airline load factor cancellation rate\n",
              "0       YX         NaN               NaN\n",
              "1      3AQ         NaN               NaN\n",
              "2       7S         NaN               NaN\n",
              "3       8V         NaN               NaN\n",
              "4       9E         NaN               NaN\n",
              "..     ...         ...               ...\n",
              "73      3E         NaN               NaN\n",
              "74     WST         NaN               NaN\n",
              "75     AAT         NaN               NaN\n",
              "76     3BQ         NaN               NaN\n",
              "77     1QQ         NaN               NaN\n",
              "\n",
              "[78 rows x 3 columns]"
            ]
          },
          "metadata": {
            "tags": []
          },
          "execution_count": 39
        }
      ]
    },
    {
      "cell_type": "code",
      "metadata": {
        "id": "lrP7g298_i30"
      },
      "source": [
        "for index, x in enumerate(F['load factor']):\n",
        "  F['load factor'].iloc[index]=loadF19[loadF19['UNIQUE_CARRIER']==F['airline'].iloc[index]]['load factor'].mean()"
      ],
      "execution_count": null,
      "outputs": []
    },
    {
      "cell_type": "code",
      "metadata": {
        "id": "bCf-K2HGFX7u"
      },
      "source": [
        "for index, x in enumerate(F['cancellation rate']):\n",
        "  F['cancellation rate'].iloc[index]=flight19[flight19['OP_UNIQUE_CARRIER']==F['airline'].iloc[index]].CANCELLED.mean()"
      ],
      "execution_count": null,
      "outputs": []
    },
    {
      "cell_type": "code",
      "metadata": {
        "colab": {
          "base_uri": "https://localhost:8080/",
          "height": 279
        },
        "id": "a1ZpXKa4ICao",
        "outputId": "88be62a2-9ef2-4e65-afff-7189c652eaff"
      },
      "source": [
        "F.plot(x='load factor', y='cancellation rate', kind='scatter')\n",
        "plt.xlabel('load factor')\n",
        "plt.ylabel('cancellation rate')\n",
        "plt.show()"
      ],
      "execution_count": null,
      "outputs": [
        {
          "output_type": "display_data",
          "data": {
            "image/png": "[encoded data removed]",
            "text/plain": [
              "<Figure size 432x288 with 1 Axes>"
            ]
          },
          "metadata": {
            "tags": [],
            "needs_background": "light"
          }
        }
      ]
    },
    {
      "cell_type": "markdown",
      "metadata": {
        "id": "LzlZgPemK2JF"
      },
      "source": [
        "####2017"
      ]
    },
    {
      "cell_type": "code",
      "metadata": {
        "id": "EmK-phhDK8xM"
      },
      "source": [
        "loadF17=loadF[loadF['YEAR']==2017]"
      ],
      "execution_count": null,
      "outputs": []
    },
    {
      "cell_type": "code",
      "metadata": {
        "id": "OVALsawyK8xM"
      },
      "source": [
        "loadF17=loadF17.reset_index()\n",
        "loadF17=loadF17.drop(['index'], axis=1)"
      ],
      "execution_count": null,
      "outputs": []
    },
    {
      "cell_type": "code",
      "metadata": {
        "id": "VUUeotDPK8xN"
      },
      "source": [
        "columns=['airline','load factor','cancellation rate']\n",
        "F=pd.DataFrame(columns=columns)\n",
        "airlines=loadF17['UNIQUE_CARRIER'].unique()\n",
        "F['airline']=airlines"
      ],
      "execution_count": null,
      "outputs": []
    },
    {
      "cell_type": "code",
      "metadata": {
        "colab": {
          "base_uri": "https://localhost:8080/",
          "height": 419
        },
        "id": "sIC7dVe1K8xN",
        "outputId": "b43ceb41-b9ac-427b-8de9-c67c0dcf2017"
      },
      "source": [
        "F"
      ],
      "execution_count": null,
      "outputs": [
        {
          "output_type": "execute_result",
          "data": {
            "text/html": [
              "<div>\n",
              "<style scoped>\n",
              "    .dataframe tbody tr th:only-of-type {\n",
              "        vertical-align: middle;\n",
              "    }\n",
              "\n",
              "    .dataframe tbody tr th {\n",
              "        vertical-align: top;\n",
              "    }\n",
              "\n",
              "    .dataframe thead th {\n",
              "        text-align: right;\n",
              "    }\n",
              "</style>\n",
              "<table border=\"1\" class=\"dataframe\">\n",
              "  <thead>\n",
              "    <tr style=\"text-align: right;\">\n",
              "      <th></th>\n",
              "      <th>airline</th>\n",
              "      <th>load factor</th>\n",
              "      <th>cancellation rate</th>\n",
              "    </tr>\n",
              "  </thead>\n",
              "  <tbody>\n",
              "    <tr>\n",
              "      <th>0</th>\n",
              "      <td>B6</td>\n",
              "      <td>NaN</td>\n",
              "      <td>NaN</td>\n",
              "    </tr>\n",
              "    <tr>\n",
              "      <th>1</th>\n",
              "      <td>3F</td>\n",
              "      <td>NaN</td>\n",
              "      <td>NaN</td>\n",
              "    </tr>\n",
              "    <tr>\n",
              "      <th>2</th>\n",
              "      <td>Z3</td>\n",
              "      <td>NaN</td>\n",
              "      <td>NaN</td>\n",
              "    </tr>\n",
              "    <tr>\n",
              "      <th>3</th>\n",
              "      <td>4W</td>\n",
              "      <td>NaN</td>\n",
              "      <td>NaN</td>\n",
              "    </tr>\n",
              "    <tr>\n",
              "      <th>4</th>\n",
              "      <td>5V</td>\n",
              "      <td>NaN</td>\n",
              "      <td>NaN</td>\n",
              "    </tr>\n",
              "    <tr>\n",
              "      <th>...</th>\n",
              "      <td>...</td>\n",
              "      <td>...</td>\n",
              "      <td>...</td>\n",
              "    </tr>\n",
              "    <tr>\n",
              "      <th>82</th>\n",
              "      <td>VI</td>\n",
              "      <td>NaN</td>\n",
              "      <td>NaN</td>\n",
              "    </tr>\n",
              "    <tr>\n",
              "      <th>83</th>\n",
              "      <td>WST</td>\n",
              "      <td>NaN</td>\n",
              "      <td>NaN</td>\n",
              "    </tr>\n",
              "    <tr>\n",
              "      <th>84</th>\n",
              "      <td>1PQ</td>\n",
              "      <td>NaN</td>\n",
              "      <td>NaN</td>\n",
              "    </tr>\n",
              "    <tr>\n",
              "      <th>85</th>\n",
              "      <td>SEB</td>\n",
              "      <td>NaN</td>\n",
              "      <td>NaN</td>\n",
              "    </tr>\n",
              "    <tr>\n",
              "      <th>86</th>\n",
              "      <td>GCH</td>\n",
              "      <td>NaN</td>\n",
              "      <td>NaN</td>\n",
              "    </tr>\n",
              "  </tbody>\n",
              "</table>\n",
              "<p>87 rows × 3 columns</p>\n",
              "</div>"
            ],
            "text/plain": [
              "   airline load factor cancellation rate\n",
              "0       B6         NaN               NaN\n",
              "1       3F         NaN               NaN\n",
              "2       Z3         NaN               NaN\n",
              "3       4W         NaN               NaN\n",
              "4       5V         NaN               NaN\n",
              "..     ...         ...               ...\n",
              "82      VI         NaN               NaN\n",
              "83     WST         NaN               NaN\n",
              "84     1PQ         NaN               NaN\n",
              "85     SEB         NaN               NaN\n",
              "86     GCH         NaN               NaN\n",
              "\n",
              "[87 rows x 3 columns]"
            ]
          },
          "metadata": {
            "tags": []
          },
          "execution_count": 114
        }
      ]
    },
    {
      "cell_type": "code",
      "metadata": {
        "id": "uVALnkdWK8xO"
      },
      "source": [
        "for index, x in enumerate(F['load factor']):\n",
        "  F['load factor'].iloc[index]=loadF17[loadF17['UNIQUE_CARRIER']==F['airline'].iloc[index]]['load factor'].mean()"
      ],
      "execution_count": null,
      "outputs": []
    },
    {
      "cell_type": "code",
      "metadata": {
        "id": "aVB9PVdiK8xO"
      },
      "source": [
        "for index, x in enumerate(F['cancellation rate']):\n",
        "  F['cancellation rate'].iloc[index]=flight17[flight17['OP_UNIQUE_CARRIER']==F['airline'].iloc[index]].CANCELLED.mean()"
      ],
      "execution_count": null,
      "outputs": []
    },
    {
      "cell_type": "code",
      "metadata": {
        "colab": {
          "base_uri": "https://localhost:8080/",
          "height": 279
        },
        "id": "qgJEAqScK8xO",
        "outputId": "c1ec774f-6a07-4f56-ff2c-e23f3a257dbf"
      },
      "source": [
        "F.plot(x='load factor', y='cancellation rate', kind='scatter')\n",
        "plt.xlabel('load factor')\n",
        "plt.ylabel('cancellation rate')\n",
        "plt.show()"
      ],
      "execution_count": null,
      "outputs": [
        {
          "output_type": "display_data",
          "data": {
            "image/png": "[encoded data removed]",
            "text/plain": [
              "<Figure size 432x288 with 1 Axes>"
            ]
          },
          "metadata": {
            "tags": [],
            "needs_background": "light"
          }
        }
      ]
    },
    {
      "cell_type": "markdown",
      "metadata": {
        "id": "G5jtvLztLwrN"
      },
      "source": [
        "####2018"
      ]
    },
    {
      "cell_type": "code",
      "metadata": {
        "id": "pFB5ekIkL1cG"
      },
      "source": [
        "loadF18=loadF[loadF['YEAR']==2018]"
      ],
      "execution_count": null,
      "outputs": []
    },
    {
      "cell_type": "code",
      "metadata": {
        "id": "CbdDzYmgL1cH"
      },
      "source": [
        "loadF18=loadF18.reset_index()\n",
        "loadF18=loadF18.drop(['index'], axis=1)"
      ],
      "execution_count": null,
      "outputs": []
    },
    {
      "cell_type": "code",
      "metadata": {
        "id": "ic_R946aL1cH"
      },
      "source": [
        "columns=['airline','load factor','cancellation rate']\n",
        "F=pd.DataFrame(columns=columns)\n",
        "airlines=loadF18['UNIQUE_CARRIER'].unique()\n",
        "F['airline']=airlines"
      ],
      "execution_count": null,
      "outputs": []
    },
    {
      "cell_type": "code",
      "metadata": {
        "colab": {
          "base_uri": "https://localhost:8080/",
          "height": 419
        },
        "id": "pOuktWq2L1cH",
        "outputId": "ec15669a-8b4a-4201-8a65-f5e08915b106"
      },
      "source": [
        "F"
      ],
      "execution_count": null,
      "outputs": [
        {
          "output_type": "execute_result",
          "data": {
            "text/html": [
              "<div>\n",
              "<style scoped>\n",
              "    .dataframe tbody tr th:only-of-type {\n",
              "        vertical-align: middle;\n",
              "    }\n",
              "\n",
              "    .dataframe tbody tr th {\n",
              "        vertical-align: top;\n",
              "    }\n",
              "\n",
              "    .dataframe thead th {\n",
              "        text-align: right;\n",
              "    }\n",
              "</style>\n",
              "<table border=\"1\" class=\"dataframe\">\n",
              "  <thead>\n",
              "    <tr style=\"text-align: right;\">\n",
              "      <th></th>\n",
              "      <th>airline</th>\n",
              "      <th>load factor</th>\n",
              "      <th>cancellation rate</th>\n",
              "    </tr>\n",
              "  </thead>\n",
              "  <tbody>\n",
              "    <tr>\n",
              "      <th>0</th>\n",
              "      <td>9E</td>\n",
              "      <td>0.77307</td>\n",
              "      <td>0.0258421</td>\n",
              "    </tr>\n",
              "    <tr>\n",
              "      <th>1</th>\n",
              "      <td>AX</td>\n",
              "      <td>0.8035</td>\n",
              "      <td>NaN</td>\n",
              "    </tr>\n",
              "    <tr>\n",
              "      <th>2</th>\n",
              "      <td>I4</td>\n",
              "      <td>0.343833</td>\n",
              "      <td>NaN</td>\n",
              "    </tr>\n",
              "    <tr>\n",
              "      <th>3</th>\n",
              "      <td>KS</td>\n",
              "      <td>0.576638</td>\n",
              "      <td>NaN</td>\n",
              "    </tr>\n",
              "    <tr>\n",
              "      <th>4</th>\n",
              "      <td>AS</td>\n",
              "      <td>0.789575</td>\n",
              "      <td>0.00898027</td>\n",
              "    </tr>\n",
              "    <tr>\n",
              "      <th>...</th>\n",
              "      <td>...</td>\n",
              "      <td>...</td>\n",
              "      <td>...</td>\n",
              "    </tr>\n",
              "    <tr>\n",
              "      <th>84</th>\n",
              "      <td>2LQ</td>\n",
              "      <td>0.020597</td>\n",
              "      <td>NaN</td>\n",
              "    </tr>\n",
              "    <tr>\n",
              "      <th>85</th>\n",
              "      <td>1PQ</td>\n",
              "      <td>0.362628</td>\n",
              "      <td>NaN</td>\n",
              "    </tr>\n",
              "    <tr>\n",
              "      <th>86</th>\n",
              "      <td>GCH</td>\n",
              "      <td>1</td>\n",
              "      <td>NaN</td>\n",
              "    </tr>\n",
              "    <tr>\n",
              "      <th>87</th>\n",
              "      <td>1YQ</td>\n",
              "      <td>0.534584</td>\n",
              "      <td>NaN</td>\n",
              "    </tr>\n",
              "    <tr>\n",
              "      <th>88</th>\n",
              "      <td>1QQ</td>\n",
              "      <td>0.748657</td>\n",
              "      <td>NaN</td>\n",
              "    </tr>\n",
              "  </tbody>\n",
              "</table>\n",
              "<p>89 rows × 3 columns</p>\n",
              "</div>"
            ],
            "text/plain": [
              "   airline load factor cancellation rate\n",
              "0       9E     0.77307         0.0258421\n",
              "1       AX      0.8035               NaN\n",
              "2       I4    0.343833               NaN\n",
              "3       KS    0.576638               NaN\n",
              "4       AS    0.789575        0.00898027\n",
              "..     ...         ...               ...\n",
              "84     2LQ    0.020597               NaN\n",
              "85     1PQ    0.362628               NaN\n",
              "86     GCH           1               NaN\n",
              "87     1YQ    0.534584               NaN\n",
              "88     1QQ    0.748657               NaN\n",
              "\n",
              "[89 rows x 3 columns]"
            ]
          },
          "metadata": {
            "tags": []
          },
          "execution_count": 125
        }
      ]
    },
    {
      "cell_type": "code",
      "metadata": {
        "id": "bMCXiQJ4L1cI"
      },
      "source": [
        "for index, x in enumerate(F['load factor']):\n",
        "  F['load factor'].iloc[index]=loadF18[loadF18['UNIQUE_CARRIER']==F['airline'].iloc[index]]['load factor'].mean()"
      ],
      "execution_count": null,
      "outputs": []
    },
    {
      "cell_type": "code",
      "metadata": {
        "id": "n15XAbyTL1cI"
      },
      "source": [
        "for index, x in enumerate(F['cancellation rate']):\n",
        "  F['cancellation rate'].iloc[index]=flight18[flight18['OP_UNIQUE_CARRIER']==F['airline'].iloc[index]].CANCELLED.mean()"
      ],
      "execution_count": null,
      "outputs": []
    },
    {
      "cell_type": "code",
      "metadata": {
        "colab": {
          "base_uri": "https://localhost:8080/",
          "height": 279
        },
        "id": "gjxvd7ywL1cJ",
        "outputId": "8f8b54ae-fe58-4773-a23a-db39d6d88a05"
      },
      "source": [
        "F.plot(x='load factor', y='cancellation rate', kind='scatter')\n",
        "plt.xlabel('load factor')\n",
        "plt.ylabel('cancellation rate')\n",
        "plt.show()"
      ],
      "execution_count": null,
      "outputs": [
        {
          "output_type": "display_data",
          "data": {
            "image/png": "[encoded data removed]",
            "text/plain": [
              "<Figure size 432x288 with 1 Axes>"
            ]
          },
          "metadata": {
            "tags": [],
            "needs_background": "light"
          }
        }
      ]
    },
    {
      "cell_type": "markdown",
      "metadata": {
        "id": "3y3pTLPasNbI"
      },
      "source": [
        "###airport"
      ]
    },
    {
      "cell_type": "markdown",
      "metadata": {
        "id": "mvXls7mnyED9"
      },
      "source": [
        "####2019"
      ]
    },
    {
      "cell_type": "code",
      "metadata": {
        "id": "wfVjImSFsgAU"
      },
      "source": [
        "columns=['airport','load factor','cancellation rate']\n",
        "F=pd.DataFrame(columns=columns)\n",
        "airports=loadF19['ORIGIN'].unique()\n",
        "F['airport']=airports"
      ],
      "execution_count": null,
      "outputs": []
    },
    {
      "cell_type": "code",
      "metadata": {
        "colab": {
          "base_uri": "https://localhost:8080/",
          "height": 419
        },
        "id": "iUveENN7tMdZ",
        "outputId": "93373081-8c33-4461-911f-9bb6e506b0d9"
      },
      "source": [
        "F"
      ],
      "execution_count": null,
      "outputs": [
        {
          "output_type": "execute_result",
          "data": {
            "text/html": [
              "<div>\n",
              "<style scoped>\n",
              "    .dataframe tbody tr th:only-of-type {\n",
              "        vertical-align: middle;\n",
              "    }\n",
              "\n",
              "    .dataframe tbody tr th {\n",
              "        vertical-align: top;\n",
              "    }\n",
              "\n",
              "    .dataframe thead th {\n",
              "        text-align: right;\n",
              "    }\n",
              "</style>\n",
              "<table border=\"1\" class=\"dataframe\">\n",
              "  <thead>\n",
              "    <tr style=\"text-align: right;\">\n",
              "      <th></th>\n",
              "      <th>airport</th>\n",
              "      <th>load factor</th>\n",
              "      <th>cancellation rate</th>\n",
              "    </tr>\n",
              "  </thead>\n",
              "  <tbody>\n",
              "    <tr>\n",
              "      <th>0</th>\n",
              "      <td>ATL</td>\n",
              "      <td>0.836039</td>\n",
              "      <td>0.006091</td>\n",
              "    </tr>\n",
              "    <tr>\n",
              "      <th>1</th>\n",
              "      <td>AUS</td>\n",
              "      <td>0.827638</td>\n",
              "      <td>0.0138301</td>\n",
              "    </tr>\n",
              "    <tr>\n",
              "      <th>2</th>\n",
              "      <td>BNA</td>\n",
              "      <td>0.801719</td>\n",
              "      <td>0.0165146</td>\n",
              "    </tr>\n",
              "    <tr>\n",
              "      <th>3</th>\n",
              "      <td>BOS</td>\n",
              "      <td>0.786617</td>\n",
              "      <td>0.0205693</td>\n",
              "    </tr>\n",
              "    <tr>\n",
              "      <th>4</th>\n",
              "      <td>BUF</td>\n",
              "      <td>0.815752</td>\n",
              "      <td>0.0264746</td>\n",
              "    </tr>\n",
              "    <tr>\n",
              "      <th>...</th>\n",
              "      <td>...</td>\n",
              "      <td>...</td>\n",
              "      <td>...</td>\n",
              "    </tr>\n",
              "    <tr>\n",
              "      <th>706</th>\n",
              "      <td>AUG</td>\n",
              "      <td>0.495736</td>\n",
              "      <td>NaN</td>\n",
              "    </tr>\n",
              "    <tr>\n",
              "      <th>707</th>\n",
              "      <td>RKD</td>\n",
              "      <td>0.545763</td>\n",
              "      <td>NaN</td>\n",
              "    </tr>\n",
              "    <tr>\n",
              "      <th>708</th>\n",
              "      <td>SDY</td>\n",
              "      <td>0.611863</td>\n",
              "      <td>NaN</td>\n",
              "    </tr>\n",
              "    <tr>\n",
              "      <th>709</th>\n",
              "      <td>MAZ</td>\n",
              "      <td>0.587347</td>\n",
              "      <td>NaN</td>\n",
              "    </tr>\n",
              "    <tr>\n",
              "      <th>710</th>\n",
              "      <td>MWA</td>\n",
              "      <td>0.621029</td>\n",
              "      <td>NaN</td>\n",
              "    </tr>\n",
              "  </tbody>\n",
              "</table>\n",
              "<p>711 rows × 3 columns</p>\n",
              "</div>"
            ],
            "text/plain": [
              "    airport load factor cancellation rate\n",
              "0       ATL    0.836039          0.006091\n",
              "1       AUS    0.827638         0.0138301\n",
              "2       BNA    0.801719         0.0165146\n",
              "3       BOS    0.786617         0.0205693\n",
              "4       BUF    0.815752         0.0264746\n",
              "..      ...         ...               ...\n",
              "706     AUG    0.495736               NaN\n",
              "707     RKD    0.545763               NaN\n",
              "708     SDY    0.611863               NaN\n",
              "709     MAZ    0.587347               NaN\n",
              "710     MWA    0.621029               NaN\n",
              "\n",
              "[711 rows x 3 columns]"
            ]
          },
          "metadata": {
            "tags": []
          },
          "execution_count": 144
        }
      ]
    },
    {
      "cell_type": "code",
      "metadata": {
        "id": "oWEXZYY6tNVG"
      },
      "source": [
        "for index, x in enumerate(F['load factor']):\n",
        "  F['load factor'].iloc[index]=loadF19[loadF19['ORIGIN']==F['airport'].iloc[index]]['load factor'].mean()"
      ],
      "execution_count": null,
      "outputs": []
    },
    {
      "cell_type": "code",
      "metadata": {
        "colab": {
          "base_uri": "https://localhost:8080/",
          "height": 456
        },
        "id": "jfR5CKBZud93",
        "outputId": "008b8bfe-a87d-4b83-be29-31c21c6b2c5e"
      },
      "source": [
        "loadF19"
      ],
      "execution_count": null,
      "outputs": [
        {
          "output_type": "execute_result",
          "data": {
            "text/html": [
              "<div>\n",
              "<style scoped>\n",
              "    .dataframe tbody tr th:only-of-type {\n",
              "        vertical-align: middle;\n",
              "    }\n",
              "\n",
              "    .dataframe tbody tr th {\n",
              "        vertical-align: top;\n",
              "    }\n",
              "\n",
              "    .dataframe thead th {\n",
              "        text-align: right;\n",
              "    }\n",
              "</style>\n",
              "<table border=\"1\" class=\"dataframe\">\n",
              "  <thead>\n",
              "    <tr style=\"text-align: right;\">\n",
              "      <th></th>\n",
              "      <th>level_0</th>\n",
              "      <th>Unnamed: 0</th>\n",
              "      <th>DEPARTURES_SCHEDULED</th>\n",
              "      <th>DEPARTURES_PERFORMED</th>\n",
              "      <th>SEATS</th>\n",
              "      <th>PASSENGERS</th>\n",
              "      <th>FREIGHT</th>\n",
              "      <th>MAIL</th>\n",
              "      <th>DISTANCE</th>\n",
              "      <th>AIR_TIME</th>\n",
              "      <th>UNIQUE_CARRIER</th>\n",
              "      <th>UNIQUE_CARRIER_NAME</th>\n",
              "      <th>ORIGIN_AIRPORT_ID</th>\n",
              "      <th>ORIGIN</th>\n",
              "      <th>ORIGIN_CITY_NAME</th>\n",
              "      <th>ORIGIN_STATE_NM</th>\n",
              "      <th>DEST_AIRPORT_ID</th>\n",
              "      <th>DEST</th>\n",
              "      <th>DEST_CITY_NAME</th>\n",
              "      <th>DEST_STATE_NM</th>\n",
              "      <th>AIRCRAFT_TYPE</th>\n",
              "      <th>YEAR</th>\n",
              "      <th>MONTH</th>\n",
              "      <th>DISTANCE_GROUP</th>\n",
              "      <th>CLASS</th>\n",
              "      <th>Unnamed: 23</th>\n",
              "      <th>load factor</th>\n",
              "    </tr>\n",
              "  </thead>\n",
              "  <tbody>\n",
              "    <tr>\n",
              "      <th>0</th>\n",
              "      <td>1139541</td>\n",
              "      <td>1495582</td>\n",
              "      <td>0.0</td>\n",
              "      <td>1.0</td>\n",
              "      <td>69.0</td>\n",
              "      <td>7.0</td>\n",
              "      <td>0.0</td>\n",
              "      <td>0.0</td>\n",
              "      <td>214.0</td>\n",
              "      <td>109.0</td>\n",
              "      <td>YX</td>\n",
              "      <td>Republic Airline</td>\n",
              "      <td>10397</td>\n",
              "      <td>ATL</td>\n",
              "      <td>Atlanta, GA</td>\n",
              "      <td>Georgia</td>\n",
              "      <td>14685</td>\n",
              "      <td>SAV</td>\n",
              "      <td>Savannah, GA</td>\n",
              "      <td>Georgia</td>\n",
              "      <td>677</td>\n",
              "      <td>2019</td>\n",
              "      <td>7</td>\n",
              "      <td>1</td>\n",
              "      <td>F</td>\n",
              "      <td>NaN</td>\n",
              "      <td>0.101449</td>\n",
              "    </tr>\n",
              "    <tr>\n",
              "      <th>1</th>\n",
              "      <td>1139542</td>\n",
              "      <td>1495583</td>\n",
              "      <td>0.0</td>\n",
              "      <td>1.0</td>\n",
              "      <td>76.0</td>\n",
              "      <td>56.0</td>\n",
              "      <td>0.0</td>\n",
              "      <td>0.0</td>\n",
              "      <td>794.0</td>\n",
              "      <td>194.0</td>\n",
              "      <td>YX</td>\n",
              "      <td>Republic Airline</td>\n",
              "      <td>10397</td>\n",
              "      <td>ATL</td>\n",
              "      <td>Atlanta, GA</td>\n",
              "      <td>Georgia</td>\n",
              "      <td>15096</td>\n",
              "      <td>SYR</td>\n",
              "      <td>Syracuse, NY</td>\n",
              "      <td>New York</td>\n",
              "      <td>673</td>\n",
              "      <td>2019</td>\n",
              "      <td>7</td>\n",
              "      <td>2</td>\n",
              "      <td>F</td>\n",
              "      <td>NaN</td>\n",
              "      <td>0.736842</td>\n",
              "    </tr>\n",
              "    <tr>\n",
              "      <th>2</th>\n",
              "      <td>1139543</td>\n",
              "      <td>1495584</td>\n",
              "      <td>0.0</td>\n",
              "      <td>1.0</td>\n",
              "      <td>76.0</td>\n",
              "      <td>74.0</td>\n",
              "      <td>0.0</td>\n",
              "      <td>0.0</td>\n",
              "      <td>954.0</td>\n",
              "      <td>181.0</td>\n",
              "      <td>YX</td>\n",
              "      <td>Republic Airline</td>\n",
              "      <td>10423</td>\n",
              "      <td>AUS</td>\n",
              "      <td>Austin, TX</td>\n",
              "      <td>Texas</td>\n",
              "      <td>12451</td>\n",
              "      <td>JAX</td>\n",
              "      <td>Jacksonville, FL</td>\n",
              "      <td>Florida</td>\n",
              "      <td>673</td>\n",
              "      <td>2019</td>\n",
              "      <td>7</td>\n",
              "      <td>2</td>\n",
              "      <td>F</td>\n",
              "      <td>NaN</td>\n",
              "      <td>0.973684</td>\n",
              "    </tr>\n",
              "    <tr>\n",
              "      <th>3</th>\n",
              "      <td>1139544</td>\n",
              "      <td>1495585</td>\n",
              "      <td>0.0</td>\n",
              "      <td>1.0</td>\n",
              "      <td>76.0</td>\n",
              "      <td>40.0</td>\n",
              "      <td>0.0</td>\n",
              "      <td>0.0</td>\n",
              "      <td>462.0</td>\n",
              "      <td>135.0</td>\n",
              "      <td>YX</td>\n",
              "      <td>Republic Airline</td>\n",
              "      <td>10693</td>\n",
              "      <td>BNA</td>\n",
              "      <td>Nashville, TN</td>\n",
              "      <td>Tennessee</td>\n",
              "      <td>14122</td>\n",
              "      <td>PIT</td>\n",
              "      <td>Pittsburgh, PA</td>\n",
              "      <td>Pennsylvania</td>\n",
              "      <td>673</td>\n",
              "      <td>2019</td>\n",
              "      <td>7</td>\n",
              "      <td>1</td>\n",
              "      <td>F</td>\n",
              "      <td>NaN</td>\n",
              "      <td>0.526316</td>\n",
              "    </tr>\n",
              "    <tr>\n",
              "      <th>4</th>\n",
              "      <td>1139545</td>\n",
              "      <td>1495586</td>\n",
              "      <td>0.0</td>\n",
              "      <td>1.0</td>\n",
              "      <td>76.0</td>\n",
              "      <td>33.0</td>\n",
              "      <td>0.0</td>\n",
              "      <td>0.0</td>\n",
              "      <td>1005.0</td>\n",
              "      <td>168.0</td>\n",
              "      <td>YX</td>\n",
              "      <td>Republic Airline</td>\n",
              "      <td>10721</td>\n",
              "      <td>BOS</td>\n",
              "      <td>Boston, MA</td>\n",
              "      <td>Massachusetts</td>\n",
              "      <td>12217</td>\n",
              "      <td>HSV</td>\n",
              "      <td>Huntsville, AL</td>\n",
              "      <td>Alabama</td>\n",
              "      <td>673</td>\n",
              "      <td>2019</td>\n",
              "      <td>7</td>\n",
              "      <td>3</td>\n",
              "      <td>F</td>\n",
              "      <td>NaN</td>\n",
              "      <td>0.434211</td>\n",
              "    </tr>\n",
              "    <tr>\n",
              "      <th>...</th>\n",
              "      <td>...</td>\n",
              "      <td>...</td>\n",
              "      <td>...</td>\n",
              "      <td>...</td>\n",
              "      <td>...</td>\n",
              "      <td>...</td>\n",
              "      <td>...</td>\n",
              "      <td>...</td>\n",
              "      <td>...</td>\n",
              "      <td>...</td>\n",
              "      <td>...</td>\n",
              "      <td>...</td>\n",
              "      <td>...</td>\n",
              "      <td>...</td>\n",
              "      <td>...</td>\n",
              "      <td>...</td>\n",
              "      <td>...</td>\n",
              "      <td>...</td>\n",
              "      <td>...</td>\n",
              "      <td>...</td>\n",
              "      <td>...</td>\n",
              "      <td>...</td>\n",
              "      <td>...</td>\n",
              "      <td>...</td>\n",
              "      <td>...</td>\n",
              "      <td>...</td>\n",
              "      <td>...</td>\n",
              "    </tr>\n",
              "    <tr>\n",
              "      <th>291970</th>\n",
              "      <td>1440730</td>\n",
              "      <td>1886766</td>\n",
              "      <td>1188.0</td>\n",
              "      <td>594.0</td>\n",
              "      <td>5346.0</td>\n",
              "      <td>3272.0</td>\n",
              "      <td>0.0</td>\n",
              "      <td>0.0</td>\n",
              "      <td>91.0</td>\n",
              "      <td>21740.0</td>\n",
              "      <td>9K</td>\n",
              "      <td>Cape Air</td>\n",
              "      <td>10721</td>\n",
              "      <td>BOS</td>\n",
              "      <td>Boston, MA</td>\n",
              "      <td>Massachusetts</td>\n",
              "      <td>10154</td>\n",
              "      <td>ACK</td>\n",
              "      <td>Nantucket, MA</td>\n",
              "      <td>Massachusetts</td>\n",
              "      <td>125</td>\n",
              "      <td>2019</td>\n",
              "      <td>9</td>\n",
              "      <td>1</td>\n",
              "      <td>F</td>\n",
              "      <td>NaN</td>\n",
              "      <td>0.612046</td>\n",
              "    </tr>\n",
              "    <tr>\n",
              "      <th>291971</th>\n",
              "      <td>1440731</td>\n",
              "      <td>1886767</td>\n",
              "      <td>1192.0</td>\n",
              "      <td>596.0</td>\n",
              "      <td>5364.0</td>\n",
              "      <td>3557.0</td>\n",
              "      <td>0.0</td>\n",
              "      <td>0.0</td>\n",
              "      <td>91.0</td>\n",
              "      <td>21814.0</td>\n",
              "      <td>9K</td>\n",
              "      <td>Cape Air</td>\n",
              "      <td>10721</td>\n",
              "      <td>BOS</td>\n",
              "      <td>Boston, MA</td>\n",
              "      <td>Massachusetts</td>\n",
              "      <td>10154</td>\n",
              "      <td>ACK</td>\n",
              "      <td>Nantucket, MA</td>\n",
              "      <td>Massachusetts</td>\n",
              "      <td>125</td>\n",
              "      <td>2019</td>\n",
              "      <td>7</td>\n",
              "      <td>1</td>\n",
              "      <td>F</td>\n",
              "      <td>NaN</td>\n",
              "      <td>0.663125</td>\n",
              "    </tr>\n",
              "    <tr>\n",
              "      <th>291972</th>\n",
              "      <td>1440732</td>\n",
              "      <td>1886768</td>\n",
              "      <td>1192.0</td>\n",
              "      <td>596.0</td>\n",
              "      <td>5364.0</td>\n",
              "      <td>3200.0</td>\n",
              "      <td>0.0</td>\n",
              "      <td>0.0</td>\n",
              "      <td>91.0</td>\n",
              "      <td>21814.0</td>\n",
              "      <td>9K</td>\n",
              "      <td>Cape Air</td>\n",
              "      <td>10154</td>\n",
              "      <td>ACK</td>\n",
              "      <td>Nantucket, MA</td>\n",
              "      <td>Massachusetts</td>\n",
              "      <td>10721</td>\n",
              "      <td>BOS</td>\n",
              "      <td>Boston, MA</td>\n",
              "      <td>Massachusetts</td>\n",
              "      <td>125</td>\n",
              "      <td>2019</td>\n",
              "      <td>6</td>\n",
              "      <td>1</td>\n",
              "      <td>F</td>\n",
              "      <td>NaN</td>\n",
              "      <td>0.596570</td>\n",
              "    </tr>\n",
              "    <tr>\n",
              "      <th>291973</th>\n",
              "      <td>1440733</td>\n",
              "      <td>1886769</td>\n",
              "      <td>1234.0</td>\n",
              "      <td>617.0</td>\n",
              "      <td>5553.0</td>\n",
              "      <td>3704.0</td>\n",
              "      <td>0.0</td>\n",
              "      <td>0.0</td>\n",
              "      <td>91.0</td>\n",
              "      <td>22582.0</td>\n",
              "      <td>9K</td>\n",
              "      <td>Cape Air</td>\n",
              "      <td>10154</td>\n",
              "      <td>ACK</td>\n",
              "      <td>Nantucket, MA</td>\n",
              "      <td>Massachusetts</td>\n",
              "      <td>10721</td>\n",
              "      <td>BOS</td>\n",
              "      <td>Boston, MA</td>\n",
              "      <td>Massachusetts</td>\n",
              "      <td>125</td>\n",
              "      <td>2019</td>\n",
              "      <td>7</td>\n",
              "      <td>1</td>\n",
              "      <td>F</td>\n",
              "      <td>NaN</td>\n",
              "      <td>0.667027</td>\n",
              "    </tr>\n",
              "    <tr>\n",
              "      <th>291974</th>\n",
              "      <td>1440734</td>\n",
              "      <td>1886770</td>\n",
              "      <td>1234.0</td>\n",
              "      <td>617.0</td>\n",
              "      <td>5553.0</td>\n",
              "      <td>3660.0</td>\n",
              "      <td>0.0</td>\n",
              "      <td>0.0</td>\n",
              "      <td>91.0</td>\n",
              "      <td>22582.0</td>\n",
              "      <td>9K</td>\n",
              "      <td>Cape Air</td>\n",
              "      <td>10154</td>\n",
              "      <td>ACK</td>\n",
              "      <td>Nantucket, MA</td>\n",
              "      <td>Massachusetts</td>\n",
              "      <td>10721</td>\n",
              "      <td>BOS</td>\n",
              "      <td>Boston, MA</td>\n",
              "      <td>Massachusetts</td>\n",
              "      <td>125</td>\n",
              "      <td>2019</td>\n",
              "      <td>9</td>\n",
              "      <td>1</td>\n",
              "      <td>F</td>\n",
              "      <td>NaN</td>\n",
              "      <td>0.659103</td>\n",
              "    </tr>\n",
              "  </tbody>\n",
              "</table>\n",
              "<p>291975 rows × 27 columns</p>\n",
              "</div>"
            ],
            "text/plain": [
              "        level_0  Unnamed: 0  ...  Unnamed: 23  load factor\n",
              "0       1139541     1495582  ...          NaN     0.101449\n",
              "1       1139542     1495583  ...          NaN     0.736842\n",
              "2       1139543     1495584  ...          NaN     0.973684\n",
              "3       1139544     1495585  ...          NaN     0.526316\n",
              "4       1139545     1495586  ...          NaN     0.434211\n",
              "...         ...         ...  ...          ...          ...\n",
              "291970  1440730     1886766  ...          NaN     0.612046\n",
              "291971  1440731     1886767  ...          NaN     0.663125\n",
              "291972  1440732     1886768  ...          NaN     0.596570\n",
              "291973  1440733     1886769  ...          NaN     0.667027\n",
              "291974  1440734     1886770  ...          NaN     0.659103\n",
              "\n",
              "[291975 rows x 27 columns]"
            ]
          },
          "metadata": {
            "tags": []
          },
          "execution_count": 139
        }
      ]
    },
    {
      "cell_type": "code",
      "metadata": {
        "id": "K8I2DHMluepT"
      },
      "source": [
        "for index, x in enumerate(F['cancellation rate']):\n",
        "  F['cancellation rate'].iloc[index]=flight19[flight19['ORIGIN']==F['airport'].iloc[index]].CANCELLED.mean()"
      ],
      "execution_count": null,
      "outputs": []
    },
    {
      "cell_type": "code",
      "metadata": {
        "colab": {
          "base_uri": "https://localhost:8080/",
          "height": 279
        },
        "id": "qfrUAB4rxim8",
        "outputId": "1b3d1621-71f0-4d03-c448-cdb339f9c4ff"
      },
      "source": [
        "F.plot(x='load factor', y='cancellation rate', kind='scatter')\n",
        "plt.xlabel('load factor')\n",
        "plt.ylabel('cancellation rate')\n",
        "plt.show()"
      ],
      "execution_count": null,
      "outputs": [
        {
          "output_type": "display_data",
          "data": {
            "image/png": "[encoded data removed]",
            "text/plain": [
              "<Figure size 432x288 with 1 Axes>"
            ]
          },
          "metadata": {
            "tags": [],
            "needs_background": "light"
          }
        }
      ]
    },
    {
      "cell_type": "markdown",
      "metadata": {
        "id": "O7aUH-bAyHBD"
      },
      "source": [
        "####2017"
      ]
    },
    {
      "cell_type": "code",
      "metadata": {
        "id": "a9FWhhPXyPnJ"
      },
      "source": [
        "columns=['airport','load factor','cancellation rate']\n",
        "F=pd.DataFrame(columns=columns)\n",
        "airports=loadF17['ORIGIN'].unique()\n",
        "F['airport']=airports"
      ],
      "execution_count": null,
      "outputs": []
    },
    {
      "cell_type": "code",
      "metadata": {
        "colab": {
          "base_uri": "https://localhost:8080/",
          "height": 419
        },
        "id": "U_P7nGotyPnJ",
        "outputId": "bd1b2946-844d-4ce2-b7dd-69b69ce00307"
      },
      "source": [
        "F"
      ],
      "execution_count": null,
      "outputs": [
        {
          "output_type": "execute_result",
          "data": {
            "text/html": [
              "<div>\n",
              "<style scoped>\n",
              "    .dataframe tbody tr th:only-of-type {\n",
              "        vertical-align: middle;\n",
              "    }\n",
              "\n",
              "    .dataframe tbody tr th {\n",
              "        vertical-align: top;\n",
              "    }\n",
              "\n",
              "    .dataframe thead th {\n",
              "        text-align: right;\n",
              "    }\n",
              "</style>\n",
              "<table border=\"1\" class=\"dataframe\">\n",
              "  <thead>\n",
              "    <tr style=\"text-align: right;\">\n",
              "      <th></th>\n",
              "      <th>airport</th>\n",
              "      <th>load factor</th>\n",
              "      <th>cancellation rate</th>\n",
              "    </tr>\n",
              "  </thead>\n",
              "  <tbody>\n",
              "    <tr>\n",
              "      <th>0</th>\n",
              "      <td>SAV</td>\n",
              "      <td>0.793574</td>\n",
              "      <td>0.0283522</td>\n",
              "    </tr>\n",
              "    <tr>\n",
              "      <th>1</th>\n",
              "      <td>SFO</td>\n",
              "      <td>0.790488</td>\n",
              "      <td>0.0188913</td>\n",
              "    </tr>\n",
              "    <tr>\n",
              "      <th>2</th>\n",
              "      <td>SJU</td>\n",
              "      <td>0.840446</td>\n",
              "      <td>0.0433591</td>\n",
              "    </tr>\n",
              "    <tr>\n",
              "      <th>3</th>\n",
              "      <td>SLC</td>\n",
              "      <td>0.813986</td>\n",
              "      <td>0.00400315</td>\n",
              "    </tr>\n",
              "    <tr>\n",
              "      <th>4</th>\n",
              "      <td>SMF</td>\n",
              "      <td>0.806953</td>\n",
              "      <td>0.00796574</td>\n",
              "    </tr>\n",
              "    <tr>\n",
              "      <th>...</th>\n",
              "      <td>...</td>\n",
              "      <td>...</td>\n",
              "      <td>...</td>\n",
              "    </tr>\n",
              "    <tr>\n",
              "      <th>733</th>\n",
              "      <td>RUT</td>\n",
              "      <td>0.586388</td>\n",
              "      <td>NaN</td>\n",
              "    </tr>\n",
              "    <tr>\n",
              "      <th>734</th>\n",
              "      <td>SPB</td>\n",
              "      <td>0.583373</td>\n",
              "      <td>NaN</td>\n",
              "    </tr>\n",
              "    <tr>\n",
              "      <th>735</th>\n",
              "      <td>SSB</td>\n",
              "      <td>0.598303</td>\n",
              "      <td>NaN</td>\n",
              "    </tr>\n",
              "    <tr>\n",
              "      <th>736</th>\n",
              "      <td>TBN</td>\n",
              "      <td>0.674427</td>\n",
              "      <td>NaN</td>\n",
              "    </tr>\n",
              "    <tr>\n",
              "      <th>737</th>\n",
              "      <td>MWA</td>\n",
              "      <td>0.612062</td>\n",
              "      <td>NaN</td>\n",
              "    </tr>\n",
              "  </tbody>\n",
              "</table>\n",
              "<p>738 rows × 3 columns</p>\n",
              "</div>"
            ],
            "text/plain": [
              "    airport load factor cancellation rate\n",
              "0       SAV    0.793574         0.0283522\n",
              "1       SFO    0.790488         0.0188913\n",
              "2       SJU    0.840446         0.0433591\n",
              "3       SLC    0.813986        0.00400315\n",
              "4       SMF    0.806953        0.00796574\n",
              "..      ...         ...               ...\n",
              "733     RUT    0.586388               NaN\n",
              "734     SPB    0.583373               NaN\n",
              "735     SSB    0.598303               NaN\n",
              "736     TBN    0.674427               NaN\n",
              "737     MWA    0.612062               NaN\n",
              "\n",
              "[738 rows x 3 columns]"
            ]
          },
          "metadata": {
            "tags": []
          },
          "execution_count": 153
        }
      ]
    },
    {
      "cell_type": "code",
      "metadata": {
        "id": "7eCN70UkyPnK"
      },
      "source": [
        "for index, x in enumerate(F['load factor']):\n",
        "  F['load factor'].iloc[index]=loadF17[loadF17['ORIGIN']==F['airport'].iloc[index]]['load factor'].mean()"
      ],
      "execution_count": null,
      "outputs": []
    },
    {
      "cell_type": "code",
      "metadata": {
        "id": "Yhlg3SJEyPnK"
      },
      "source": [
        "for index, x in enumerate(F['cancellation rate']):\n",
        "  F['cancellation rate'].iloc[index]=flight17[flight17['ORIGIN']==F['airport'].iloc[index]].CANCELLED.mean()"
      ],
      "execution_count": null,
      "outputs": []
    },
    {
      "cell_type": "code",
      "metadata": {
        "colab": {
          "base_uri": "https://localhost:8080/",
          "height": 279
        },
        "id": "CSErzr5nyPnL",
        "outputId": "fadc9fd8-5ba4-4981-b0cb-659a127575f4"
      },
      "source": [
        "F.plot(x='load factor', y='cancellation rate', kind='scatter')\n",
        "plt.xlabel('load factor')\n",
        "plt.ylabel('cancellation rate')\n",
        "plt.show()"
      ],
      "execution_count": null,
      "outputs": [
        {
          "output_type": "display_data",
          "data": {
            "image/png": "[encoded data removed]",
            "text/plain": [
              "<Figure size 432x288 with 1 Axes>"
            ]
          },
          "metadata": {
            "tags": [],
            "needs_background": "light"
          }
        }
      ]
    },
    {
      "cell_type": "markdown",
      "metadata": {
        "id": "OqncRCY80Nxi"
      },
      "source": [
        "####Chicago O'hare"
      ]
    },
    {
      "cell_type": "markdown",
      "metadata": {
        "id": "-BCxuJkM1Aha"
      },
      "source": [
        "#####2019"
      ]
    },
    {
      "cell_type": "code",
      "metadata": {
        "id": "kQgCMI8K1KbV"
      },
      "source": [
        "columns=['month','load factor','cancellation rate']\n",
        "F=pd.DataFrame(columns=columns)\n",
        "month=np.array([1,2,3,4,5,6,7,8,9,10,11,12])"
      ],
      "execution_count": null,
      "outputs": []
    },
    {
      "cell_type": "code",
      "metadata": {
        "id": "CgAoNro61KbW"
      },
      "source": [
        "F['month']=month"
      ],
      "execution_count": null,
      "outputs": []
    },
    {
      "cell_type": "code",
      "metadata": {
        "colab": {
          "base_uri": "https://localhost:8080/",
          "height": 421
        },
        "id": "dKIlVHLr3PDt",
        "outputId": "c34e2194-aff8-4bb9-cd37-50b80395b9f7"
      },
      "source": [
        "F"
      ],
      "execution_count": null,
      "outputs": [
        {
          "output_type": "execute_result",
          "data": {
            "text/html": [
              "<div>\n",
              "<style scoped>\n",
              "    .dataframe tbody tr th:only-of-type {\n",
              "        vertical-align: middle;\n",
              "    }\n",
              "\n",
              "    .dataframe tbody tr th {\n",
              "        vertical-align: top;\n",
              "    }\n",
              "\n",
              "    .dataframe thead th {\n",
              "        text-align: right;\n",
              "    }\n",
              "</style>\n",
              "<table border=\"1\" class=\"dataframe\">\n",
              "  <thead>\n",
              "    <tr style=\"text-align: right;\">\n",
              "      <th></th>\n",
              "      <th>month</th>\n",
              "      <th>load factor</th>\n",
              "      <th>cancellation rate</th>\n",
              "    </tr>\n",
              "  </thead>\n",
              "  <tbody>\n",
              "    <tr>\n",
              "      <th>0</th>\n",
              "      <td>1</td>\n",
              "      <td>0.721191</td>\n",
              "      <td>0.107415</td>\n",
              "    </tr>\n",
              "    <tr>\n",
              "      <th>1</th>\n",
              "      <td>2</td>\n",
              "      <td>0.745376</td>\n",
              "      <td>0.0487897</td>\n",
              "    </tr>\n",
              "    <tr>\n",
              "      <th>2</th>\n",
              "      <td>3</td>\n",
              "      <td>0.806858</td>\n",
              "      <td>0.0167397</td>\n",
              "    </tr>\n",
              "    <tr>\n",
              "      <th>3</th>\n",
              "      <td>4</td>\n",
              "      <td>0.785919</td>\n",
              "      <td>0.0379067</td>\n",
              "    </tr>\n",
              "    <tr>\n",
              "      <th>4</th>\n",
              "      <td>5</td>\n",
              "      <td>0.803047</td>\n",
              "      <td>0.0176671</td>\n",
              "    </tr>\n",
              "    <tr>\n",
              "      <th>5</th>\n",
              "      <td>6</td>\n",
              "      <td>0.84564</td>\n",
              "      <td>0.0248313</td>\n",
              "    </tr>\n",
              "    <tr>\n",
              "      <th>6</th>\n",
              "      <td>7</td>\n",
              "      <td>0.846925</td>\n",
              "      <td>0.0372944</td>\n",
              "    </tr>\n",
              "    <tr>\n",
              "      <th>7</th>\n",
              "      <td>8</td>\n",
              "      <td>0.824095</td>\n",
              "      <td>0.0257769</td>\n",
              "    </tr>\n",
              "    <tr>\n",
              "      <th>8</th>\n",
              "      <td>9</td>\n",
              "      <td>0.775235</td>\n",
              "      <td>0.0303945</td>\n",
              "    </tr>\n",
              "    <tr>\n",
              "      <th>9</th>\n",
              "      <td>10</td>\n",
              "      <td>0.791069</td>\n",
              "      <td>0.00547718</td>\n",
              "    </tr>\n",
              "    <tr>\n",
              "      <th>10</th>\n",
              "      <td>11</td>\n",
              "      <td>0.771087</td>\n",
              "      <td>0.0211959</td>\n",
              "    </tr>\n",
              "    <tr>\n",
              "      <th>11</th>\n",
              "      <td>12</td>\n",
              "      <td>0.813385</td>\n",
              "      <td>0.00943637</td>\n",
              "    </tr>\n",
              "  </tbody>\n",
              "</table>\n",
              "</div>"
            ],
            "text/plain": [
              "    month load factor cancellation rate\n",
              "0       1    0.721191          0.107415\n",
              "1       2    0.745376         0.0487897\n",
              "2       3    0.806858         0.0167397\n",
              "3       4    0.785919         0.0379067\n",
              "4       5    0.803047         0.0176671\n",
              "5       6     0.84564         0.0248313\n",
              "6       7    0.846925         0.0372944\n",
              "7       8    0.824095         0.0257769\n",
              "8       9    0.775235         0.0303945\n",
              "9      10    0.791069        0.00547718\n",
              "10     11    0.771087         0.0211959\n",
              "11     12    0.813385        0.00943637"
            ]
          },
          "metadata": {
            "tags": []
          },
          "execution_count": 177
        }
      ]
    },
    {
      "cell_type": "code",
      "metadata": {
        "id": "-ZnvMiNi1KbX"
      },
      "source": [
        "for index, x in enumerate(F['load factor']):\n",
        "  F['load factor'].iloc[index]=loadF19[(loadF19['ORIGIN']=='ORD')&(loadF19['MONTH']==F['month'].iloc[index])]['load factor'].mean()"
      ],
      "execution_count": null,
      "outputs": []
    },
    {
      "cell_type": "code",
      "metadata": {
        "id": "iNDScHAx1KbY"
      },
      "source": [
        "for index, x in enumerate(F['cancellation rate']):\n",
        "  F['cancellation rate'].iloc[index]=flight19[(flight19['ORIGIN']=='ORD')&(flight19['MONTH']==F['month'].iloc[index])].CANCELLED.mean()"
      ],
      "execution_count": null,
      "outputs": []
    },
    {
      "cell_type": "code",
      "metadata": {
        "colab": {
          "base_uri": "https://localhost:8080/",
          "height": 279
        },
        "id": "pZbkzGKt1KbZ",
        "outputId": "c9fd6889-e097-40d8-86fa-c0f22a792063"
      },
      "source": [
        "F.plot(x='load factor', y='cancellation rate', kind='scatter')\n",
        "plt.xlabel('load factor')\n",
        "plt.ylabel('cancellation rate')\n",
        "plt.show()"
      ],
      "execution_count": null,
      "outputs": [
        {
          "output_type": "display_data",
          "data": {
            "image/png": "[encoded data removed]",
            "text/plain": [
              "<Figure size 432x288 with 1 Axes>"
            ]
          },
          "metadata": {
            "tags": [],
            "needs_background": "light"
          }
        }
      ]
    },
    {
      "cell_type": "markdown",
      "metadata": {
        "id": "ul4Ro_m76Iq6"
      },
      "source": [
        "#####2017-2019"
      ]
    },
    {
      "cell_type": "code",
      "metadata": {
        "id": "hDXQJuUA6KOu"
      },
      "source": [
        "columns=['month','year','load factor','cancellation rate']\n",
        "F=pd.DataFrame(columns=columns)\n",
        "month=np.array([1,2,3,4,5,6,7,8,9,10,11,12,1,2,3,4,5,6,7,8,9,10,11,12,1,2,3,4,5,6,7,8,9,10,11,12])"
      ],
      "execution_count": null,
      "outputs": []
    },
    {
      "cell_type": "code",
      "metadata": {
        "id": "hIADgcSw7RgY"
      },
      "source": [
        "F['year']=range(36)"
      ],
      "execution_count": null,
      "outputs": []
    },
    {
      "cell_type": "code",
      "metadata": {
        "id": "hwTnpgWW6Tfw"
      },
      "source": [
        "for i in range(12):\n",
        "  F['year'].iloc[i]=2017"
      ],
      "execution_count": null,
      "outputs": []
    },
    {
      "cell_type": "code",
      "metadata": {
        "id": "xNUQTs8F7i3P"
      },
      "source": [
        "for i in range(12,24):\n",
        "  F['year'].iloc[i]=2018"
      ],
      "execution_count": null,
      "outputs": []
    },
    {
      "cell_type": "code",
      "metadata": {
        "id": "Xx0yV-N07vo-"
      },
      "source": [
        "for i in range(24,36):\n",
        "  F['year'].iloc[i]=2019"
      ],
      "execution_count": null,
      "outputs": []
    },
    {
      "cell_type": "code",
      "metadata": {
        "id": "-3zu8huH76W0"
      },
      "source": [
        "F['month']=month"
      ],
      "execution_count": null,
      "outputs": []
    },
    {
      "cell_type": "code",
      "metadata": {
        "id": "EWxVPn9t7fOM"
      },
      "source": [
        "for index in range(12):\n",
        "  F['load factor'].iloc[index]=loadF17[(loadF17['ORIGIN']=='ORD')&(loadF17['MONTH']==F['month'].iloc[index])]['load factor'].mean()"
      ],
      "execution_count": null,
      "outputs": []
    },
    {
      "cell_type": "code",
      "metadata": {
        "id": "Igx4dWjy9L83"
      },
      "source": [
        "for index in range(12,24):\n",
        "  F['load factor'].iloc[index]=loadF18[(loadF18['ORIGIN']=='ORD')&(loadF18['MONTH']==F['month'].iloc[index])]['load factor'].mean()"
      ],
      "execution_count": null,
      "outputs": []
    },
    {
      "cell_type": "code",
      "metadata": {
        "id": "LBhcI62Q9U_j"
      },
      "source": [
        "for index in range(24,36):\n",
        "  F['load factor'].iloc[index]=loadF19[(loadF19['ORIGIN']=='ORD')&(loadF19['MONTH']==F['month'].iloc[index])]['load factor'].mean()"
      ],
      "execution_count": null,
      "outputs": []
    },
    {
      "cell_type": "code",
      "metadata": {
        "id": "apsikibM9sgd"
      },
      "source": [
        "for index in range(12):\n",
        "  F['cancellation rate'].iloc[index]=flight17[(flight17['ORIGIN']=='ORD')&(flight17['MONTH']==F['month'].iloc[index])].CANCELLED.mean()"
      ],
      "execution_count": null,
      "outputs": []
    },
    {
      "cell_type": "code",
      "metadata": {
        "id": "d5TdGG9i96yj"
      },
      "source": [
        "for index in range(12,24):\n",
        "  F['cancellation rate'].iloc[index]=flight18[(flight18['ORIGIN']=='ORD')&(flight18['MONTH']==F['month'].iloc[index])].CANCELLED.mean()\n"
      ],
      "execution_count": null,
      "outputs": []
    },
    {
      "cell_type": "code",
      "metadata": {
        "id": "YdlDaWgR-Jyi"
      },
      "source": [
        "for index in range(24,36):\n",
        "  F['cancellation rate'].iloc[index]=flight19[(flight19['ORIGIN']=='ORD')&(flight19['MONTH']==F['month'].iloc[index])].CANCELLED.mean()"
      ],
      "execution_count": null,
      "outputs": []
    },
    {
      "cell_type": "code",
      "metadata": {
        "colab": {
          "base_uri": "https://localhost:8080/",
          "height": 279
        },
        "id": "5bG1gKyk-ZLR",
        "outputId": "81768178-8d34-41b3-bdfe-b607fc389d35"
      },
      "source": [
        "F.plot(x='load factor', y='cancellation rate', kind='scatter')\n",
        "plt.xlabel('load factor')\n",
        "plt.ylabel('cancellation rate')\n",
        "plt.show()"
      ],
      "execution_count": null,
      "outputs": [
        {
          "output_type": "display_data",
          "data": {
            "image/png": "[encoded data removed]",
            "text/plain": [
              "<Figure size 432x288 with 1 Axes>"
            ]
          },
          "metadata": {
            "tags": [],
            "needs_background": "light"
          }
        }
      ]
    },
    {
      "cell_type": "markdown",
      "metadata": {
        "id": "JYxOvIj1-lhi"
      },
      "source": [
        "#####2018"
      ]
    },
    {
      "cell_type": "code",
      "metadata": {
        "id": "4CZ0LNFh-rYD"
      },
      "source": [
        "columns=['month','load factor','cancellation rate']\n",
        "F=pd.DataFrame(columns=columns)\n",
        "month=np.array([1,2,3,4,5,6,7,8,9,10,11,12])"
      ],
      "execution_count": null,
      "outputs": []
    },
    {
      "cell_type": "code",
      "metadata": {
        "id": "D7wLEfV5-rYL"
      },
      "source": [
        "F['month']=month"
      ],
      "execution_count": null,
      "outputs": []
    },
    {
      "cell_type": "code",
      "metadata": {
        "colab": {
          "base_uri": "https://localhost:8080/",
          "height": 421
        },
        "id": "WGaVFMI2-rYM",
        "outputId": "ee33f76b-a308-4fe9-d9c8-253faa16d780"
      },
      "source": [
        "F"
      ],
      "execution_count": null,
      "outputs": [
        {
          "output_type": "execute_result",
          "data": {
            "text/html": [
              "<div>\n",
              "<style scoped>\n",
              "    .dataframe tbody tr th:only-of-type {\n",
              "        vertical-align: middle;\n",
              "    }\n",
              "\n",
              "    .dataframe tbody tr th {\n",
              "        vertical-align: top;\n",
              "    }\n",
              "\n",
              "    .dataframe thead th {\n",
              "        text-align: right;\n",
              "    }\n",
              "</style>\n",
              "<table border=\"1\" class=\"dataframe\">\n",
              "  <thead>\n",
              "    <tr style=\"text-align: right;\">\n",
              "      <th></th>\n",
              "      <th>month</th>\n",
              "      <th>load factor</th>\n",
              "      <th>cancellation rate</th>\n",
              "    </tr>\n",
              "  </thead>\n",
              "  <tbody>\n",
              "    <tr>\n",
              "      <th>0</th>\n",
              "      <td>1</td>\n",
              "      <td>0.736935</td>\n",
              "      <td>0.0225078</td>\n",
              "    </tr>\n",
              "    <tr>\n",
              "      <th>1</th>\n",
              "      <td>2</td>\n",
              "      <td>0.766123</td>\n",
              "      <td>0.0452619</td>\n",
              "    </tr>\n",
              "    <tr>\n",
              "      <th>2</th>\n",
              "      <td>3</td>\n",
              "      <td>0.820808</td>\n",
              "      <td>0.0188552</td>\n",
              "    </tr>\n",
              "    <tr>\n",
              "      <th>3</th>\n",
              "      <td>4</td>\n",
              "      <td>0.775727</td>\n",
              "      <td>0.00756573</td>\n",
              "    </tr>\n",
              "    <tr>\n",
              "      <th>4</th>\n",
              "      <td>5</td>\n",
              "      <td>0.802955</td>\n",
              "      <td>0.0261486</td>\n",
              "    </tr>\n",
              "    <tr>\n",
              "      <th>5</th>\n",
              "      <td>6</td>\n",
              "      <td>0.837759</td>\n",
              "      <td>0.0368466</td>\n",
              "    </tr>\n",
              "    <tr>\n",
              "      <th>6</th>\n",
              "      <td>7</td>\n",
              "      <td>0.844316</td>\n",
              "      <td>0.0141033</td>\n",
              "    </tr>\n",
              "    <tr>\n",
              "      <th>7</th>\n",
              "      <td>8</td>\n",
              "      <td>0.821791</td>\n",
              "      <td>0.0250617</td>\n",
              "    </tr>\n",
              "    <tr>\n",
              "      <th>8</th>\n",
              "      <td>9</td>\n",
              "      <td>0.770282</td>\n",
              "      <td>0.0162084</td>\n",
              "    </tr>\n",
              "    <tr>\n",
              "      <th>9</th>\n",
              "      <td>10</td>\n",
              "      <td>0.804491</td>\n",
              "      <td>0.00509687</td>\n",
              "    </tr>\n",
              "    <tr>\n",
              "      <th>10</th>\n",
              "      <td>11</td>\n",
              "      <td>0.789185</td>\n",
              "      <td>0.0351217</td>\n",
              "    </tr>\n",
              "    <tr>\n",
              "      <th>11</th>\n",
              "      <td>12</td>\n",
              "      <td>0.78261</td>\n",
              "      <td>0.00821303</td>\n",
              "    </tr>\n",
              "  </tbody>\n",
              "</table>\n",
              "</div>"
            ],
            "text/plain": [
              "    month load factor cancellation rate\n",
              "0       1    0.736935         0.0225078\n",
              "1       2    0.766123         0.0452619\n",
              "2       3    0.820808         0.0188552\n",
              "3       4    0.775727        0.00756573\n",
              "4       5    0.802955         0.0261486\n",
              "5       6    0.837759         0.0368466\n",
              "6       7    0.844316         0.0141033\n",
              "7       8    0.821791         0.0250617\n",
              "8       9    0.770282         0.0162084\n",
              "9      10    0.804491        0.00509687\n",
              "10     11    0.789185         0.0351217\n",
              "11     12     0.78261        0.00821303"
            ]
          },
          "metadata": {
            "tags": []
          },
          "execution_count": 214
        }
      ]
    },
    {
      "cell_type": "code",
      "metadata": {
        "id": "DXWl_hZm-rYN"
      },
      "source": [
        "for index, x in enumerate(F['load factor']):\n",
        "  F['load factor'].iloc[index]=loadF18[(loadF18['ORIGIN']=='ORD')&(loadF18['MONTH']==F['month'].iloc[index])]['load factor'].mean()"
      ],
      "execution_count": null,
      "outputs": []
    },
    {
      "cell_type": "code",
      "metadata": {
        "id": "kMGnY1wa-rYN"
      },
      "source": [
        "for index, x in enumerate(F['cancellation rate']):\n",
        "  F['cancellation rate'].iloc[index]=flight18[(flight18['ORIGIN']=='ORD')&(flight18['MONTH']==F['month'].iloc[index])].CANCELLED.mean()"
      ],
      "execution_count": null,
      "outputs": []
    },
    {
      "cell_type": "code",
      "metadata": {
        "colab": {
          "base_uri": "https://localhost:8080/",
          "height": 279
        },
        "id": "zoxT5f7j-rYN",
        "outputId": "665c17e5-72a8-486d-face-4117ba7368a8"
      },
      "source": [
        "F.plot(x='load factor', y='cancellation rate', kind='scatter')\n",
        "plt.xlabel('load factor')\n",
        "plt.ylabel('cancellation rate')\n",
        "plt.show()"
      ],
      "execution_count": null,
      "outputs": [
        {
          "output_type": "display_data",
          "data": {
            "image/png": "[encoded data removed]",
            "text/plain": [
              "<Figure size 432x288 with 1 Axes>"
            ]
          },
          "metadata": {
            "tags": [],
            "needs_background": "light"
          }
        }
      ]
    },
    {
      "cell_type": "markdown",
      "metadata": {
        "id": "DQJEmHvEFOLq"
      },
      "source": [
        "####JFK"
      ]
    },
    {
      "cell_type": "markdown",
      "metadata": {
        "id": "52Oxi015FveH"
      },
      "source": [
        "#####2019"
      ]
    },
    {
      "cell_type": "code",
      "metadata": {
        "id": "mFeD4WirFVhw"
      },
      "source": [
        "columns=['month','load factor','cancellation rate']\n",
        "F=pd.DataFrame(columns=columns)\n",
        "month=np.array([1,2,3,4,5,6,7,8,9,10,11,12])"
      ],
      "execution_count": null,
      "outputs": []
    },
    {
      "cell_type": "code",
      "metadata": {
        "id": "Iz9IIiviFVh4"
      },
      "source": [
        "F['month']=month"
      ],
      "execution_count": null,
      "outputs": []
    },
    {
      "cell_type": "code",
      "metadata": {
        "colab": {
          "base_uri": "https://localhost:8080/",
          "height": 421
        },
        "id": "UeDG2PobFVh5",
        "outputId": "1ccad0d4-76ee-49ac-aace-f0ac52b34cde"
      },
      "source": [
        "F"
      ],
      "execution_count": null,
      "outputs": [
        {
          "output_type": "execute_result",
          "data": {
            "text/html": [
              "<div>\n",
              "<style scoped>\n",
              "    .dataframe tbody tr th:only-of-type {\n",
              "        vertical-align: middle;\n",
              "    }\n",
              "\n",
              "    .dataframe tbody tr th {\n",
              "        vertical-align: top;\n",
              "    }\n",
              "\n",
              "    .dataframe thead th {\n",
              "        text-align: right;\n",
              "    }\n",
              "</style>\n",
              "<table border=\"1\" class=\"dataframe\">\n",
              "  <thead>\n",
              "    <tr style=\"text-align: right;\">\n",
              "      <th></th>\n",
              "      <th>month</th>\n",
              "      <th>load factor</th>\n",
              "      <th>cancellation rate</th>\n",
              "    </tr>\n",
              "  </thead>\n",
              "  <tbody>\n",
              "    <tr>\n",
              "      <th>0</th>\n",
              "      <td>1</td>\n",
              "      <td>0.735652</td>\n",
              "      <td>0.0197425</td>\n",
              "    </tr>\n",
              "    <tr>\n",
              "      <th>1</th>\n",
              "      <td>2</td>\n",
              "      <td>0.738929</td>\n",
              "      <td>0.026087</td>\n",
              "    </tr>\n",
              "    <tr>\n",
              "      <th>2</th>\n",
              "      <td>3</td>\n",
              "      <td>0.783815</td>\n",
              "      <td>0.00892061</td>\n",
              "    </tr>\n",
              "    <tr>\n",
              "      <th>3</th>\n",
              "      <td>4</td>\n",
              "      <td>0.807418</td>\n",
              "      <td>0.024913</td>\n",
              "    </tr>\n",
              "    <tr>\n",
              "      <th>4</th>\n",
              "      <td>5</td>\n",
              "      <td>0.820341</td>\n",
              "      <td>0.00961538</td>\n",
              "    </tr>\n",
              "    <tr>\n",
              "      <th>5</th>\n",
              "      <td>6</td>\n",
              "      <td>0.854933</td>\n",
              "      <td>0.0152275</td>\n",
              "    </tr>\n",
              "    <tr>\n",
              "      <th>6</th>\n",
              "      <td>7</td>\n",
              "      <td>0.868156</td>\n",
              "      <td>0.032363</td>\n",
              "    </tr>\n",
              "    <tr>\n",
              "      <th>7</th>\n",
              "      <td>8</td>\n",
              "      <td>0.81483</td>\n",
              "      <td>0.0286353</td>\n",
              "    </tr>\n",
              "    <tr>\n",
              "      <th>8</th>\n",
              "      <td>9</td>\n",
              "      <td>0.761928</td>\n",
              "      <td>0.00944591</td>\n",
              "    </tr>\n",
              "    <tr>\n",
              "      <th>9</th>\n",
              "      <td>10</td>\n",
              "      <td>0.78964</td>\n",
              "      <td>0.00919606</td>\n",
              "    </tr>\n",
              "    <tr>\n",
              "      <th>10</th>\n",
              "      <td>11</td>\n",
              "      <td>0.785793</td>\n",
              "      <td>0.00160659</td>\n",
              "    </tr>\n",
              "    <tr>\n",
              "      <th>11</th>\n",
              "      <td>12</td>\n",
              "      <td>0.811013</td>\n",
              "      <td>0.00526316</td>\n",
              "    </tr>\n",
              "  </tbody>\n",
              "</table>\n",
              "</div>"
            ],
            "text/plain": [
              "    month load factor cancellation rate\n",
              "0       1    0.735652         0.0197425\n",
              "1       2    0.738929          0.026087\n",
              "2       3    0.783815        0.00892061\n",
              "3       4    0.807418          0.024913\n",
              "4       5    0.820341        0.00961538\n",
              "5       6    0.854933         0.0152275\n",
              "6       7    0.868156          0.032363\n",
              "7       8     0.81483         0.0286353\n",
              "8       9    0.761928        0.00944591\n",
              "9      10     0.78964        0.00919606\n",
              "10     11    0.785793        0.00160659\n",
              "11     12    0.811013        0.00526316"
            ]
          },
          "metadata": {
            "tags": []
          },
          "execution_count": 222
        }
      ]
    },
    {
      "cell_type": "code",
      "metadata": {
        "id": "whIbB7joFVh6"
      },
      "source": [
        "for index, x in enumerate(F['load factor']):\n",
        "  F['load factor'].iloc[index]=loadF19[(loadF19['ORIGIN']=='JFK')&(loadF19['MONTH']==F['month'].iloc[index])]['load factor'].mean()"
      ],
      "execution_count": null,
      "outputs": []
    },
    {
      "cell_type": "code",
      "metadata": {
        "id": "P8VPM7HxFVh6"
      },
      "source": [
        "for index, x in enumerate(F['cancellation rate']):\n",
        "  F['cancellation rate'].iloc[index]=flight19[(flight19['ORIGIN']=='JFK')&(flight19['MONTH']==F['month'].iloc[index])].CANCELLED.mean()"
      ],
      "execution_count": null,
      "outputs": []
    },
    {
      "cell_type": "code",
      "metadata": {
        "colab": {
          "base_uri": "https://localhost:8080/",
          "height": 279
        },
        "id": "ynZqNDzJFVh7",
        "outputId": "a419a879-3875-46b4-ba9d-6eebe37fe921"
      },
      "source": [
        "F.plot(x='load factor', y='cancellation rate', kind='scatter')\n",
        "plt.xlabel('load factor')\n",
        "plt.ylabel('cancellation rate')\n",
        "plt.show()"
      ],
      "execution_count": null,
      "outputs": [
        {
          "output_type": "display_data",
          "data": {
            "image/png": "[encoded data removed]",
            "text/plain": [
              "<Figure size 432x288 with 1 Axes>"
            ]
          },
          "metadata": {
            "tags": [],
            "needs_background": "light"
          }
        }
      ]
    },
    {
      "cell_type": "markdown",
      "metadata": {
        "id": "464tb4AyFyJo"
      },
      "source": [
        "#####2017-2019"
      ]
    },
    {
      "cell_type": "code",
      "metadata": {
        "id": "U3rx_n0UF5yf"
      },
      "source": [
        "columns=['month','year','load factor','cancellation rate']\n",
        "F=pd.DataFrame(columns=columns)\n",
        "month=np.array([1,2,3,4,5,6,7,8,9,10,11,12,1,2,3,4,5,6,7,8,9,10,11,12,1,2,3,4,5,6,7,8,9,10,11,12])"
      ],
      "execution_count": null,
      "outputs": []
    },
    {
      "cell_type": "code",
      "metadata": {
        "id": "WJkeIhLYF5yf"
      },
      "source": [
        "F['year']=range(36)"
      ],
      "execution_count": null,
      "outputs": []
    },
    {
      "cell_type": "code",
      "metadata": {
        "id": "yWxFlT6lF5yg"
      },
      "source": [
        "for i in range(12):\n",
        "  F['year'].iloc[i]=2017"
      ],
      "execution_count": null,
      "outputs": []
    },
    {
      "cell_type": "code",
      "metadata": {
        "id": "eNoAg9awF5yg"
      },
      "source": [
        "for i in range(12,24):\n",
        "  F['year'].iloc[i]=2018"
      ],
      "execution_count": null,
      "outputs": []
    },
    {
      "cell_type": "code",
      "metadata": {
        "id": "EwkHn4QiF5yg"
      },
      "source": [
        "for i in range(24,36):\n",
        "  F['year'].iloc[i]=2019"
      ],
      "execution_count": null,
      "outputs": []
    },
    {
      "cell_type": "code",
      "metadata": {
        "id": "nnJyzSIDF5yh"
      },
      "source": [
        "F['month']=month"
      ],
      "execution_count": null,
      "outputs": []
    },
    {
      "cell_type": "code",
      "metadata": {
        "id": "xJOKuHKZF5yh"
      },
      "source": [
        "for index in range(12):\n",
        "  F['load factor'].iloc[index]=loadF17[(loadF17['ORIGIN']=='JFK')&(loadF17['MONTH']==F['month'].iloc[index])]['load factor'].mean()"
      ],
      "execution_count": null,
      "outputs": []
    },
    {
      "cell_type": "code",
      "metadata": {
        "id": "gSHZhCElF5yh"
      },
      "source": [
        "for index in range(12,24):\n",
        "  F['load factor'].iloc[index]=loadF18[(loadF18['ORIGIN']=='JFK')&(loadF18['MONTH']==F['month'].iloc[index])]['load factor'].mean()"
      ],
      "execution_count": null,
      "outputs": []
    },
    {
      "cell_type": "code",
      "metadata": {
        "id": "4s0t2UA_F5yi"
      },
      "source": [
        "for index in range(24,36):\n",
        "  F['load factor'].iloc[index]=loadF19[(loadF19['ORIGIN']=='JFK')&(loadF19['MONTH']==F['month'].iloc[index])]['load factor'].mean()"
      ],
      "execution_count": null,
      "outputs": []
    },
    {
      "cell_type": "code",
      "metadata": {
        "id": "EdvUPYokF5yi"
      },
      "source": [
        "for index in range(12):\n",
        "  F['cancellation rate'].iloc[index]=flight17[(flight17['ORIGIN']=='JFK')&(flight17['MONTH']==F['month'].iloc[index])].CANCELLED.mean()"
      ],
      "execution_count": null,
      "outputs": []
    },
    {
      "cell_type": "code",
      "metadata": {
        "id": "P30vHO67F5yj"
      },
      "source": [
        "for index in range(12,24):\n",
        "  F['cancellation rate'].iloc[index]=flight18[(flight18['ORIGIN']=='JFK')&(flight18['MONTH']==F['month'].iloc[index])].CANCELLED.mean()\n"
      ],
      "execution_count": null,
      "outputs": []
    },
    {
      "cell_type": "code",
      "metadata": {
        "id": "bawQBYtGF5yj"
      },
      "source": [
        "for index in range(24,36):\n",
        "  F['cancellation rate'].iloc[index]=flight19[(flight19['ORIGIN']=='JFK')&(flight19['MONTH']==F['month'].iloc[index])].CANCELLED.mean()"
      ],
      "execution_count": null,
      "outputs": []
    },
    {
      "cell_type": "code",
      "metadata": {
        "colab": {
          "base_uri": "https://localhost:8080/",
          "height": 279
        },
        "id": "t96JiiBpF5yk",
        "outputId": "0a668b0c-3554-4a52-d7fd-7101ef5b9357"
      },
      "source": [
        "F.plot(x='load factor', y='cancellation rate', kind='scatter')\n",
        "plt.xlabel('load factor')\n",
        "plt.ylabel('cancellation rate')\n",
        "plt.show()"
      ],
      "execution_count": null,
      "outputs": [
        {
          "output_type": "display_data",
          "data": {
            "image/png": "[encoded data removed]",
            "text/plain": [
              "<Figure size 432x288 with 1 Axes>"
            ]
          },
          "metadata": {
            "tags": [],
            "needs_background": "light"
          }
        }
      ]
    },
    {
      "cell_type": "markdown",
      "metadata": {
        "id": "x_TMF_caHBHQ"
      },
      "source": [
        "####ORD to JFK"
      ]
    },
    {
      "cell_type": "markdown",
      "metadata": {
        "id": "p8POOALWHG4d"
      },
      "source": [
        "#####2019"
      ]
    },
    {
      "cell_type": "code",
      "metadata": {
        "id": "3OrdSgCpHL6c"
      },
      "source": [
        "columns=['month','load factor','cancellation rate']\n",
        "F=pd.DataFrame(columns=columns)\n",
        "month=np.array([1,2,3,4,5,6,7,8,9,10,11,12])"
      ],
      "execution_count": null,
      "outputs": []
    },
    {
      "cell_type": "code",
      "metadata": {
        "id": "3d97rJRVHL6d"
      },
      "source": [
        "F['month']=month"
      ],
      "execution_count": null,
      "outputs": []
    },
    {
      "cell_type": "code",
      "metadata": {
        "id": "GGMi-AWXHL6e"
      },
      "source": [
        "for index, x in enumerate(F['load factor']):\n",
        "  F['load factor'].iloc[index]=loadF19[(loadF19['ORIGIN']=='ORD')&(loadF19['DEST']=='JFK')&(loadF19['MONTH']==F['month'].iloc[index])]['load factor'].mean()"
      ],
      "execution_count": null,
      "outputs": []
    },
    {
      "cell_type": "code",
      "metadata": {
        "id": "na1zUlQuHL6e"
      },
      "source": [
        "for index, x in enumerate(F['cancellation rate']):\n",
        "  F['cancellation rate'].iloc[index]=flight19[(flight19['ORIGIN']=='ORD')&(flight19['DEST']=='JFK')&(flight19['MONTH']==F['month'].iloc[index])].CANCELLED.mean()"
      ],
      "execution_count": null,
      "outputs": []
    },
    {
      "cell_type": "code",
      "metadata": {
        "colab": {
          "base_uri": "https://localhost:8080/",
          "height": 279
        },
        "id": "3S0KR9GLHL6f",
        "outputId": "a1381307-0e5d-407c-c091-a93fc64ecc88"
      },
      "source": [
        "F.plot(x='load factor', y='cancellation rate', kind='scatter')\n",
        "plt.xlabel('load factor')\n",
        "plt.ylabel('cancellation rate')\n",
        "plt.show()"
      ],
      "execution_count": null,
      "outputs": [
        {
          "output_type": "display_data",
          "data": {
            "image/png": "[encoded data removed]",
            "text/plain": [
              "<Figure size 432x288 with 1 Axes>"
            ]
          },
          "metadata": {
            "tags": [],
            "needs_background": "light"
          }
        }
      ]
    },
    {
      "cell_type": "markdown",
      "metadata": {
        "id": "jG-NWNM9KOT6"
      },
      "source": [
        "#####2018"
      ]
    },
    {
      "cell_type": "code",
      "metadata": {
        "id": "DYCVxCOWKTjG"
      },
      "source": [
        "columns=['month','load factor','cancellation rate']\n",
        "F=pd.DataFrame(columns=columns)\n",
        "month=np.array([1,2,3,4,5,6,7,8,9,10,11,12])"
      ],
      "execution_count": null,
      "outputs": []
    },
    {
      "cell_type": "code",
      "metadata": {
        "id": "AwU0eRnLKTjG"
      },
      "source": [
        "F['month']=month"
      ],
      "execution_count": null,
      "outputs": []
    },
    {
      "cell_type": "code",
      "metadata": {
        "colab": {
          "base_uri": "https://localhost:8080/",
          "height": 421
        },
        "id": "tPLLgA1MKTjH",
        "outputId": "18c53a05-149e-431c-a5bb-019c711836d4"
      },
      "source": [
        "F"
      ],
      "execution_count": null,
      "outputs": [
        {
          "output_type": "execute_result",
          "data": {
            "text/html": [
              "<div>\n",
              "<style scoped>\n",
              "    .dataframe tbody tr th:only-of-type {\n",
              "        vertical-align: middle;\n",
              "    }\n",
              "\n",
              "    .dataframe tbody tr th {\n",
              "        vertical-align: top;\n",
              "    }\n",
              "\n",
              "    .dataframe thead th {\n",
              "        text-align: right;\n",
              "    }\n",
              "</style>\n",
              "<table border=\"1\" class=\"dataframe\">\n",
              "  <thead>\n",
              "    <tr style=\"text-align: right;\">\n",
              "      <th></th>\n",
              "      <th>month</th>\n",
              "      <th>load factor</th>\n",
              "      <th>cancellation rate</th>\n",
              "    </tr>\n",
              "  </thead>\n",
              "  <tbody>\n",
              "    <tr>\n",
              "      <th>0</th>\n",
              "      <td>1</td>\n",
              "      <td>0.764942</td>\n",
              "      <td>0.0798319</td>\n",
              "    </tr>\n",
              "    <tr>\n",
              "      <th>1</th>\n",
              "      <td>2</td>\n",
              "      <td>0.72614</td>\n",
              "      <td>0.0560748</td>\n",
              "    </tr>\n",
              "    <tr>\n",
              "      <th>2</th>\n",
              "      <td>3</td>\n",
              "      <td>0.785601</td>\n",
              "      <td>0.00869565</td>\n",
              "    </tr>\n",
              "    <tr>\n",
              "      <th>3</th>\n",
              "      <td>4</td>\n",
              "      <td>0.705226</td>\n",
              "      <td>0.0686695</td>\n",
              "    </tr>\n",
              "    <tr>\n",
              "      <th>4</th>\n",
              "      <td>5</td>\n",
              "      <td>0.868845</td>\n",
              "      <td>0.0193798</td>\n",
              "    </tr>\n",
              "    <tr>\n",
              "      <th>5</th>\n",
              "      <td>6</td>\n",
              "      <td>0.810752</td>\n",
              "      <td>0.026616</td>\n",
              "    </tr>\n",
              "    <tr>\n",
              "      <th>6</th>\n",
              "      <td>7</td>\n",
              "      <td>0.843666</td>\n",
              "      <td>0.0729927</td>\n",
              "    </tr>\n",
              "    <tr>\n",
              "      <th>7</th>\n",
              "      <td>8</td>\n",
              "      <td>0.773922</td>\n",
              "      <td>0.0577617</td>\n",
              "    </tr>\n",
              "    <tr>\n",
              "      <th>8</th>\n",
              "      <td>9</td>\n",
              "      <td>0.871233</td>\n",
              "      <td>0.0106383</td>\n",
              "    </tr>\n",
              "    <tr>\n",
              "      <th>9</th>\n",
              "      <td>10</td>\n",
              "      <td>0.87204</td>\n",
              "      <td>0.013468</td>\n",
              "    </tr>\n",
              "    <tr>\n",
              "      <th>10</th>\n",
              "      <td>11</td>\n",
              "      <td>0.813157</td>\n",
              "      <td>0.0245902</td>\n",
              "    </tr>\n",
              "    <tr>\n",
              "      <th>11</th>\n",
              "      <td>12</td>\n",
              "      <td>0.826708</td>\n",
              "      <td>0.00995025</td>\n",
              "    </tr>\n",
              "  </tbody>\n",
              "</table>\n",
              "</div>"
            ],
            "text/plain": [
              "    month load factor cancellation rate\n",
              "0       1    0.764942         0.0798319\n",
              "1       2     0.72614         0.0560748\n",
              "2       3    0.785601        0.00869565\n",
              "3       4    0.705226         0.0686695\n",
              "4       5    0.868845         0.0193798\n",
              "5       6    0.810752          0.026616\n",
              "6       7    0.843666         0.0729927\n",
              "7       8    0.773922         0.0577617\n",
              "8       9    0.871233         0.0106383\n",
              "9      10     0.87204          0.013468\n",
              "10     11    0.813157         0.0245902\n",
              "11     12    0.826708        0.00995025"
            ]
          },
          "metadata": {
            "tags": []
          },
          "execution_count": 254
        }
      ]
    },
    {
      "cell_type": "code",
      "metadata": {
        "id": "RbejiF8_KTjH"
      },
      "source": [
        "for index, x in enumerate(F['load factor']):\n",
        "  F['load factor'].iloc[index]=loadF18[(loadF18['ORIGIN']=='ORD')&(loadF18['DEST']=='JFK')&(loadF18['MONTH']==F['month'].iloc[index])]['load factor'].mean()"
      ],
      "execution_count": null,
      "outputs": []
    },
    {
      "cell_type": "code",
      "metadata": {
        "id": "ACXTnkkWKTjI"
      },
      "source": [
        "for index, x in enumerate(F['cancellation rate']):\n",
        "  F['cancellation rate'].iloc[index]=flight18[(flight18['ORIGIN']=='ORD')&(flight18['DEST']=='JFK')&(flight18['MONTH']==F['month'].iloc[index])].CANCELLED.mean()"
      ],
      "execution_count": null,
      "outputs": []
    },
    {
      "cell_type": "code",
      "metadata": {
        "colab": {
          "base_uri": "https://localhost:8080/",
          "height": 280
        },
        "id": "SpgzYRoJKTjI",
        "outputId": "54352609-b1d2-437f-d4f6-6d17e65b06af"
      },
      "source": [
        "F.plot(x='load factor', y='cancellation rate', kind='scatter')\n",
        "plt.xlabel('load factor')\n",
        "plt.ylabel('cancellation rate')\n",
        "plt.show()"
      ],
      "execution_count": null,
      "outputs": [
        {
          "output_type": "display_data",
          "data": {
            "image/png": "[encoded data removed]",
            "text/plain": [
              "<Figure size 432x288 with 1 Axes>"
            ]
          },
          "metadata": {
            "tags": [],
            "needs_background": "light"
          }
        }
      ]
    },
    {
      "cell_type": "markdown",
      "metadata": {
        "id": "xOXtKSIfLlSR"
      },
      "source": [
        "#####2017"
      ]
    },
    {
      "cell_type": "code",
      "metadata": {
        "id": "A_podakDLq2l"
      },
      "source": [
        "columns=['month','load factor','cancellation rate']\n",
        "F=pd.DataFrame(columns=columns)\n",
        "month=np.array([1,2,3,4,5,6,7,8,9,10,11,12])"
      ],
      "execution_count": null,
      "outputs": []
    },
    {
      "cell_type": "code",
      "metadata": {
        "id": "eNnvTosCLq2t"
      },
      "source": [
        "F['month']=month"
      ],
      "execution_count": null,
      "outputs": []
    },
    {
      "cell_type": "code",
      "metadata": {
        "colab": {
          "base_uri": "https://localhost:8080/",
          "height": 421
        },
        "id": "S_7cw3VELq2u",
        "outputId": "3e447ac3-3c4e-412e-e307-a8b251966e72"
      },
      "source": [
        "F"
      ],
      "execution_count": null,
      "outputs": [
        {
          "output_type": "execute_result",
          "data": {
            "text/html": [
              "<div>\n",
              "<style scoped>\n",
              "    .dataframe tbody tr th:only-of-type {\n",
              "        vertical-align: middle;\n",
              "    }\n",
              "\n",
              "    .dataframe tbody tr th {\n",
              "        vertical-align: top;\n",
              "    }\n",
              "\n",
              "    .dataframe thead th {\n",
              "        text-align: right;\n",
              "    }\n",
              "</style>\n",
              "<table border=\"1\" class=\"dataframe\">\n",
              "  <thead>\n",
              "    <tr style=\"text-align: right;\">\n",
              "      <th></th>\n",
              "      <th>month</th>\n",
              "      <th>load factor</th>\n",
              "      <th>cancellation rate</th>\n",
              "    </tr>\n",
              "  </thead>\n",
              "  <tbody>\n",
              "    <tr>\n",
              "      <th>0</th>\n",
              "      <td>1</td>\n",
              "      <td>NaN</td>\n",
              "      <td>NaN</td>\n",
              "    </tr>\n",
              "    <tr>\n",
              "      <th>1</th>\n",
              "      <td>2</td>\n",
              "      <td>NaN</td>\n",
              "      <td>NaN</td>\n",
              "    </tr>\n",
              "    <tr>\n",
              "      <th>2</th>\n",
              "      <td>3</td>\n",
              "      <td>NaN</td>\n",
              "      <td>NaN</td>\n",
              "    </tr>\n",
              "    <tr>\n",
              "      <th>3</th>\n",
              "      <td>4</td>\n",
              "      <td>NaN</td>\n",
              "      <td>NaN</td>\n",
              "    </tr>\n",
              "    <tr>\n",
              "      <th>4</th>\n",
              "      <td>5</td>\n",
              "      <td>NaN</td>\n",
              "      <td>NaN</td>\n",
              "    </tr>\n",
              "    <tr>\n",
              "      <th>5</th>\n",
              "      <td>6</td>\n",
              "      <td>NaN</td>\n",
              "      <td>NaN</td>\n",
              "    </tr>\n",
              "    <tr>\n",
              "      <th>6</th>\n",
              "      <td>7</td>\n",
              "      <td>NaN</td>\n",
              "      <td>NaN</td>\n",
              "    </tr>\n",
              "    <tr>\n",
              "      <th>7</th>\n",
              "      <td>8</td>\n",
              "      <td>NaN</td>\n",
              "      <td>NaN</td>\n",
              "    </tr>\n",
              "    <tr>\n",
              "      <th>8</th>\n",
              "      <td>9</td>\n",
              "      <td>NaN</td>\n",
              "      <td>NaN</td>\n",
              "    </tr>\n",
              "    <tr>\n",
              "      <th>9</th>\n",
              "      <td>10</td>\n",
              "      <td>NaN</td>\n",
              "      <td>NaN</td>\n",
              "    </tr>\n",
              "    <tr>\n",
              "      <th>10</th>\n",
              "      <td>11</td>\n",
              "      <td>NaN</td>\n",
              "      <td>NaN</td>\n",
              "    </tr>\n",
              "    <tr>\n",
              "      <th>11</th>\n",
              "      <td>12</td>\n",
              "      <td>NaN</td>\n",
              "      <td>NaN</td>\n",
              "    </tr>\n",
              "  </tbody>\n",
              "</table>\n",
              "</div>"
            ],
            "text/plain": [
              "    month load factor cancellation rate\n",
              "0       1         NaN               NaN\n",
              "1       2         NaN               NaN\n",
              "2       3         NaN               NaN\n",
              "3       4         NaN               NaN\n",
              "4       5         NaN               NaN\n",
              "5       6         NaN               NaN\n",
              "6       7         NaN               NaN\n",
              "7       8         NaN               NaN\n",
              "8       9         NaN               NaN\n",
              "9      10         NaN               NaN\n",
              "10     11         NaN               NaN\n",
              "11     12         NaN               NaN"
            ]
          },
          "metadata": {
            "tags": []
          },
          "execution_count": 294
        }
      ]
    },
    {
      "cell_type": "code",
      "metadata": {
        "id": "musxCy_lLq2v"
      },
      "source": [
        "for index, x in enumerate(F['load factor']):\n",
        "  F['load factor'].iloc[index]=loadF17[(loadF17['ORIGIN']=='ORD')&(loadF17['DEST']=='JFK')&(loadF17['MONTH']==F['month'].iloc[index])]['load factor'].mean()"
      ],
      "execution_count": null,
      "outputs": []
    },
    {
      "cell_type": "code",
      "metadata": {
        "id": "c_gpozQNLq2v"
      },
      "source": [
        "for index, x in enumerate(F['cancellation rate']):\n",
        "  F['cancellation rate'].iloc[index]=flight17[(flight17['ORIGIN']=='ORD')&(flight17['DEST']=='JFK')&(flight17['MONTH']==F['month'].iloc[index])].CANCELLED.mean()"
      ],
      "execution_count": null,
      "outputs": []
    },
    {
      "cell_type": "code",
      "metadata": {
        "colab": {
          "base_uri": "https://localhost:8080/",
          "height": 279
        },
        "id": "YU1AibjOLq2v",
        "outputId": "996894bb-d0c9-4996-eed6-5bdf6aa626a4"
      },
      "source": [
        "F.plot(x='load factor', y='cancellation rate', kind='scatter')\n",
        "plt.xlabel('load factor')\n",
        "plt.ylabel('cancellation rate')\n",
        "plt.show()"
      ],
      "execution_count": null,
      "outputs": [
        {
          "output_type": "display_data",
          "data": {
            "image/png": "[encoded data removed]",
            "text/plain": [
              "<Figure size 432x288 with 1 Axes>"
            ]
          },
          "metadata": {
            "tags": [],
            "needs_background": "light"
          }
        }
      ]
    },
    {
      "cell_type": "markdown",
      "metadata": {
        "id": "Do52jHtiIZyZ"
      },
      "source": [
        "#####2017-2019"
      ]
    },
    {
      "cell_type": "code",
      "metadata": {
        "id": "LW5qeLLCIgas"
      },
      "source": [
        "columns=['month','year','load factor','cancellation rate']\n",
        "F=pd.DataFrame(columns=columns)\n",
        "month=np.array([1,2,3,4,5,6,7,8,9,10,11,12,1,2,3,4,5,6,7,8,9,10,11,12,1,2,3,4,5,6,7,8,9,10,11,12])"
      ],
      "execution_count": null,
      "outputs": []
    },
    {
      "cell_type": "code",
      "metadata": {
        "id": "twRC_m8BIga0"
      },
      "source": [
        "F['year']=range(36)"
      ],
      "execution_count": null,
      "outputs": []
    },
    {
      "cell_type": "code",
      "metadata": {
        "id": "CMbr-7qpIga1"
      },
      "source": [
        "for i in range(12):\n",
        "  F['year'].iloc[i]=2017"
      ],
      "execution_count": null,
      "outputs": []
    },
    {
      "cell_type": "code",
      "metadata": {
        "id": "XevPOOUDIga1"
      },
      "source": [
        "for i in range(12,24):\n",
        "  F['year'].iloc[i]=2018"
      ],
      "execution_count": null,
      "outputs": []
    },
    {
      "cell_type": "code",
      "metadata": {
        "id": "Ld77EjvlIga2"
      },
      "source": [
        "for i in range(24,36):\n",
        "  F['year'].iloc[i]=2019"
      ],
      "execution_count": null,
      "outputs": []
    },
    {
      "cell_type": "code",
      "metadata": {
        "id": "Ytec2fXqIga2"
      },
      "source": [
        "F['month']=month"
      ],
      "execution_count": null,
      "outputs": []
    },
    {
      "cell_type": "code",
      "metadata": {
        "id": "LtEzJhEmIga2"
      },
      "source": [
        "for index in range(12):\n",
        "  F['load factor'].iloc[index]=loadF17[(loadF17['ORIGIN']=='ORD')&(loadF17['DEST']=='JFK')&(loadF17['MONTH']==F['month'].iloc[index])]['load factor'].mean()"
      ],
      "execution_count": null,
      "outputs": []
    },
    {
      "cell_type": "code",
      "metadata": {
        "id": "1a2dCX7-Iga2"
      },
      "source": [
        "for index in range(12,24):\n",
        "  F['load factor'].iloc[index]=loadF18[(loadF18['ORIGIN']=='ORD')&(loadF18['DEST']=='JFK')&(loadF18['MONTH']==F['month'].iloc[index])]['load factor'].mean()"
      ],
      "execution_count": null,
      "outputs": []
    },
    {
      "cell_type": "code",
      "metadata": {
        "id": "ShNXzzu1Iga3"
      },
      "source": [
        "for index in range(24,36):\n",
        "  F['load factor'].iloc[index]=loadF19[(loadF19['ORIGIN']=='ORD')&(loadF19['DEST']=='JFK')&(loadF19['MONTH']==F['month'].iloc[index])]['load factor'].mean()"
      ],
      "execution_count": null,
      "outputs": []
    },
    {
      "cell_type": "code",
      "metadata": {
        "id": "TJ5RtiPPIga3"
      },
      "source": [
        "for index in range(12):\n",
        "  F['cancellation rate'].iloc[index]=flight17[(flight17['ORIGIN']=='ORD')&(flight17['DEST']=='JFK')&(flight17['MONTH']==F['month'].iloc[index])].CANCELLED.mean()"
      ],
      "execution_count": null,
      "outputs": []
    },
    {
      "cell_type": "code",
      "metadata": {
        "id": "NsUqT_5qIga3"
      },
      "source": [
        "for index in range(12,24):\n",
        "  F['cancellation rate'].iloc[index]=flight18[(flight18['ORIGIN']=='ORD')&(flight18['DEST']=='JFK')&(flight18['MONTH']==F['month'].iloc[index])].CANCELLED.mean()\n"
      ],
      "execution_count": null,
      "outputs": []
    },
    {
      "cell_type": "code",
      "metadata": {
        "id": "XYlR-A80Iga4"
      },
      "source": [
        "for index in range(24,36):\n",
        "  F['cancellation rate'].iloc[index]=flight19[(flight19['ORIGIN']=='ORD')&(flight19['DEST']=='JFK')&(flight19['MONTH']==F['month'].iloc[index])].CANCELLED.mean()"
      ],
      "execution_count": null,
      "outputs": []
    },
    {
      "cell_type": "code",
      "metadata": {
        "colab": {
          "base_uri": "https://localhost:8080/",
          "height": 280
        },
        "id": "9XNj9l-3Iga4",
        "outputId": "b19d4bbe-e8ab-4d01-905b-5c9a104e5004"
      },
      "source": [
        "F.plot(x='load factor', y='cancellation rate', kind='scatter')\n",
        "plt.xlabel('load factor')\n",
        "plt.ylabel('cancellation rate')\n",
        "plt.show()"
      ],
      "execution_count": null,
      "outputs": [
        {
          "output_type": "display_data",
          "data": {
            "image/png": "[encoded data removed]",
            "text/plain": [
              "<Figure size 432x288 with 1 Axes>"
            ]
          },
          "metadata": {
            "tags": [],
            "needs_background": "light"
          }
        }
      ]
    },
    {
      "cell_type": "markdown",
      "metadata": {
        "id": "9n2wFffvPRnp"
      },
      "source": [
        "####DFW(dallas) to SAT(san antonio)"
      ]
    },
    {
      "cell_type": "markdown",
      "metadata": {
        "id": "pRQA0rFHPoAc"
      },
      "source": [
        "#####2019"
      ]
    },
    {
      "cell_type": "code",
      "metadata": {
        "id": "HDPoOf1oPpb2"
      },
      "source": [
        "columns=['month','load factor','cancellation rate']\n",
        "F=pd.DataFrame(columns=columns)\n",
        "month=np.array([1,2,3,4,5,6,7,8,9,10,11,12])"
      ],
      "execution_count": null,
      "outputs": []
    },
    {
      "cell_type": "code",
      "metadata": {
        "id": "x4MtdFiqPpb2"
      },
      "source": [
        "F['month']=month"
      ],
      "execution_count": null,
      "outputs": []
    },
    {
      "cell_type": "code",
      "metadata": {
        "colab": {
          "base_uri": "https://localhost:8080/",
          "height": 421
        },
        "id": "u_FI-yNzPpb3",
        "outputId": "0eddfe15-819f-41e0-ef03-34734f51df15"
      },
      "source": [
        "F"
      ],
      "execution_count": null,
      "outputs": [
        {
          "output_type": "execute_result",
          "data": {
            "text/html": [
              "<div>\n",
              "<style scoped>\n",
              "    .dataframe tbody tr th:only-of-type {\n",
              "        vertical-align: middle;\n",
              "    }\n",
              "\n",
              "    .dataframe tbody tr th {\n",
              "        vertical-align: top;\n",
              "    }\n",
              "\n",
              "    .dataframe thead th {\n",
              "        text-align: right;\n",
              "    }\n",
              "</style>\n",
              "<table border=\"1\" class=\"dataframe\">\n",
              "  <thead>\n",
              "    <tr style=\"text-align: right;\">\n",
              "      <th></th>\n",
              "      <th>month</th>\n",
              "      <th>load factor</th>\n",
              "      <th>cancellation rate</th>\n",
              "    </tr>\n",
              "  </thead>\n",
              "  <tbody>\n",
              "    <tr>\n",
              "      <th>0</th>\n",
              "      <td>1</td>\n",
              "      <td>NaN</td>\n",
              "      <td>NaN</td>\n",
              "    </tr>\n",
              "    <tr>\n",
              "      <th>1</th>\n",
              "      <td>2</td>\n",
              "      <td>NaN</td>\n",
              "      <td>NaN</td>\n",
              "    </tr>\n",
              "    <tr>\n",
              "      <th>2</th>\n",
              "      <td>3</td>\n",
              "      <td>NaN</td>\n",
              "      <td>NaN</td>\n",
              "    </tr>\n",
              "    <tr>\n",
              "      <th>3</th>\n",
              "      <td>4</td>\n",
              "      <td>NaN</td>\n",
              "      <td>NaN</td>\n",
              "    </tr>\n",
              "    <tr>\n",
              "      <th>4</th>\n",
              "      <td>5</td>\n",
              "      <td>NaN</td>\n",
              "      <td>NaN</td>\n",
              "    </tr>\n",
              "    <tr>\n",
              "      <th>5</th>\n",
              "      <td>6</td>\n",
              "      <td>NaN</td>\n",
              "      <td>NaN</td>\n",
              "    </tr>\n",
              "    <tr>\n",
              "      <th>6</th>\n",
              "      <td>7</td>\n",
              "      <td>NaN</td>\n",
              "      <td>NaN</td>\n",
              "    </tr>\n",
              "    <tr>\n",
              "      <th>7</th>\n",
              "      <td>8</td>\n",
              "      <td>NaN</td>\n",
              "      <td>NaN</td>\n",
              "    </tr>\n",
              "    <tr>\n",
              "      <th>8</th>\n",
              "      <td>9</td>\n",
              "      <td>NaN</td>\n",
              "      <td>NaN</td>\n",
              "    </tr>\n",
              "    <tr>\n",
              "      <th>9</th>\n",
              "      <td>10</td>\n",
              "      <td>NaN</td>\n",
              "      <td>NaN</td>\n",
              "    </tr>\n",
              "    <tr>\n",
              "      <th>10</th>\n",
              "      <td>11</td>\n",
              "      <td>NaN</td>\n",
              "      <td>NaN</td>\n",
              "    </tr>\n",
              "    <tr>\n",
              "      <th>11</th>\n",
              "      <td>12</td>\n",
              "      <td>NaN</td>\n",
              "      <td>NaN</td>\n",
              "    </tr>\n",
              "  </tbody>\n",
              "</table>\n",
              "</div>"
            ],
            "text/plain": [
              "    month load factor cancellation rate\n",
              "0       1         NaN               NaN\n",
              "1       2         NaN               NaN\n",
              "2       3         NaN               NaN\n",
              "3       4         NaN               NaN\n",
              "4       5         NaN               NaN\n",
              "5       6         NaN               NaN\n",
              "6       7         NaN               NaN\n",
              "7       8         NaN               NaN\n",
              "8       9         NaN               NaN\n",
              "9      10         NaN               NaN\n",
              "10     11         NaN               NaN\n",
              "11     12         NaN               NaN"
            ]
          },
          "metadata": {
            "tags": []
          },
          "execution_count": 315
        }
      ]
    },
    {
      "cell_type": "code",
      "metadata": {
        "id": "dBDzwW3WPpb4"
      },
      "source": [
        "for index, x in enumerate(F['load factor']):\n",
        "  F['load factor'].iloc[index]=loadF19[(loadF19['ORIGIN']=='DFW')&(loadF19['DEST']=='SAT')&(loadF19['MONTH']==F['month'].iloc[index])]['load factor'].mean()"
      ],
      "execution_count": null,
      "outputs": []
    },
    {
      "cell_type": "code",
      "metadata": {
        "id": "ZHzZzG4WPpb4"
      },
      "source": [
        "for index, x in enumerate(F['cancellation rate']):\n",
        "  F['cancellation rate'].iloc[index]=flight19[(flight19['ORIGIN']=='DFW')&(flight19['DEST']=='SAT')&(flight19['MONTH']==F['month'].iloc[index])].CANCELLED.mean()"
      ],
      "execution_count": null,
      "outputs": []
    },
    {
      "cell_type": "code",
      "metadata": {
        "colab": {
          "base_uri": "https://localhost:8080/",
          "height": 279
        },
        "id": "MTxkh4WyPpb4",
        "outputId": "2a5b2ddf-bed1-461a-ae09-6709e7d874d4"
      },
      "source": [
        "F.plot(x='load factor', y='cancellation rate', kind='scatter')\n",
        "plt.xlabel('load factor')\n",
        "plt.ylabel('cancellation rate')\n",
        "plt.show()"
      ],
      "execution_count": null,
      "outputs": [
        {
          "output_type": "display_data",
          "data": {
            "image/png": "[encoded data removed]",
            "text/plain": [
              "<Figure size 432x288 with 1 Axes>"
            ]
          },
          "metadata": {
            "tags": [],
            "needs_background": "light"
          }
        }
      ]
    },
    {
      "cell_type": "markdown",
      "metadata": {
        "id": "92VO_wE9QCl6"
      },
      "source": [
        "#####2017-2019"
      ]
    },
    {
      "cell_type": "code",
      "metadata": {
        "id": "sF7mRFFmQEm3"
      },
      "source": [
        "columns=['month','year','load factor','cancellation rate']\n",
        "F=pd.DataFrame(columns=columns)\n",
        "month=np.array([1,2,3,4,5,6,7,8,9,10,11,12,1,2,3,4,5,6,7,8,9,10,11,12,1,2,3,4,5,6,7,8,9,10,11,12])"
      ],
      "execution_count": null,
      "outputs": []
    },
    {
      "cell_type": "code",
      "metadata": {
        "id": "ImTiRrS0QEm4"
      },
      "source": [
        "F['year']=range(36)"
      ],
      "execution_count": null,
      "outputs": []
    },
    {
      "cell_type": "code",
      "metadata": {
        "id": "1mSpniaVHEEN"
      },
      "source": [
        "for i in range(12):\n",
        "  F['year'].iloc[i]=2017"
      ],
      "execution_count": null,
      "outputs": []
    },
    {
      "cell_type": "code",
      "metadata": {
        "id": "ZAIUMSkvHPvM"
      },
      "source": [
        "for i in range(12,24):\n",
        "  F['year'].iloc[i]=2018"
      ],
      "execution_count": null,
      "outputs": []
    },
    {
      "cell_type": "code",
      "metadata": {
        "id": "MNnGQGR_HScQ"
      },
      "source": [
        "for i in range(24,36):\n",
        "  F['year'].iloc[i]=2019"
      ],
      "execution_count": null,
      "outputs": []
    },
    {
      "cell_type": "code",
      "metadata": {
        "id": "yKuu6ojIQEm6"
      },
      "source": [
        "F['month']=month"
      ],
      "execution_count": null,
      "outputs": []
    },
    {
      "cell_type": "code",
      "metadata": {
        "id": "GztYTxq5QEm6"
      },
      "source": [
        "for index in range(12):\n",
        "  F['load factor'].iloc[index]=loadF17[(loadF17['ORIGIN']=='DFW')&(loadF17['DEST']=='SAT')&(loadF17['MONTH']==F['month'].iloc[index])]['load factor'].mean()"
      ],
      "execution_count": null,
      "outputs": []
    },
    {
      "cell_type": "code",
      "metadata": {
        "id": "lILwCKKJQEm7"
      },
      "source": [
        "for index in range(12,24):\n",
        "  F['load factor'].iloc[index]=loadF18[(loadF18['ORIGIN']=='DFW')&(loadF18['DEST']=='SAT')&(loadF18['MONTH']==F['month'].iloc[index])]['load factor'].mean()"
      ],
      "execution_count": null,
      "outputs": []
    },
    {
      "cell_type": "code",
      "metadata": {
        "id": "1qFusmtdQEm7"
      },
      "source": [
        "for index in range(24,36):\n",
        "  F['load factor'].iloc[index]=loadF19[(loadF19['ORIGIN']=='DFW')&(loadF19['DEST']=='SAT')&(loadF19['MONTH']==F['month'].iloc[index])]['load factor'].mean()"
      ],
      "execution_count": null,
      "outputs": []
    },
    {
      "cell_type": "code",
      "metadata": {
        "id": "cRqZjs20QEm7"
      },
      "source": [
        "for index in range(12):\n",
        "  F['cancellation rate'].iloc[index]=flight17[(flight17['ORIGIN']=='DFW')&(flight17['DEST']=='SAT')&(flight17['MONTH']==F['month'].iloc[index])].CANCELLED.mean()"
      ],
      "execution_count": null,
      "outputs": []
    },
    {
      "cell_type": "code",
      "metadata": {
        "id": "47LEDW7aQEm7"
      },
      "source": [
        "for index in range(12,24):\n",
        "  F['cancellation rate'].iloc[index]=flight18[(flight18['ORIGIN']=='DFW')&(flight18['DEST']=='SAT')&(flight18['MONTH']==F['month'].iloc[index])].CANCELLED.mean()\n"
      ],
      "execution_count": null,
      "outputs": []
    },
    {
      "cell_type": "code",
      "metadata": {
        "id": "tzVAvbOQQEm8"
      },
      "source": [
        "for index in range(24,36):\n",
        "  F['cancellation rate'].iloc[index]=flight19[(flight19['ORIGIN']=='DFW')&(flight19['DEST']=='SAT')&(flight19['MONTH']==F['month'].iloc[index])].CANCELLED.mean()"
      ],
      "execution_count": null,
      "outputs": []
    },
    {
      "cell_type": "code",
      "metadata": {
        "colab": {
          "base_uri": "https://localhost:8080/",
          "height": 279
        },
        "id": "pDsre3sEQEm9",
        "outputId": "55738aaf-7920-4645-8f01-0684aecbafcc"
      },
      "source": [
        "F.plot(x='load factor', y='cancellation rate', kind='scatter')\n",
        "plt.xlabel('load factor')\n",
        "plt.ylabel('cancellation rate')\n",
        "plt.show()"
      ],
      "execution_count": null,
      "outputs": [
        {
          "output_type": "display_data",
          "data": {
            "image/png": "[encoded data removed]",
            "text/plain": [
              "<Figure size 432x288 with 1 Axes>"
            ]
          },
          "metadata": {
            "tags": [],
            "needs_background": "light"
          }
        }
      ]
    },
    {
      "cell_type": "markdown",
      "metadata": {
        "id": "ughhZKM7RBnn"
      },
      "source": [
        "#####2018"
      ]
    },
    {
      "cell_type": "code",
      "metadata": {
        "id": "eYKNq1IrRI2O"
      },
      "source": [
        "columns=['month','load factor','cancellation rate']\n",
        "F=pd.DataFrame(columns=columns)\n",
        "month=np.array([1,2,3,4,5,6,7,8,9,10,11,12])"
      ],
      "execution_count": null,
      "outputs": []
    },
    {
      "cell_type": "code",
      "metadata": {
        "id": "MLoGoQ7NRI2P"
      },
      "source": [
        "F['month']=month"
      ],
      "execution_count": null,
      "outputs": []
    },
    {
      "cell_type": "code",
      "metadata": {
        "colab": {
          "base_uri": "https://localhost:8080/",
          "height": 421
        },
        "id": "QfPsvA7yRI2P",
        "outputId": "a9c9008e-592e-4096-c5f7-e5a7a201ecd4"
      },
      "source": [
        "F"
      ],
      "execution_count": null,
      "outputs": [
        {
          "output_type": "execute_result",
          "data": {
            "text/html": [
              "<div>\n",
              "<style scoped>\n",
              "    .dataframe tbody tr th:only-of-type {\n",
              "        vertical-align: middle;\n",
              "    }\n",
              "\n",
              "    .dataframe tbody tr th {\n",
              "        vertical-align: top;\n",
              "    }\n",
              "\n",
              "    .dataframe thead th {\n",
              "        text-align: right;\n",
              "    }\n",
              "</style>\n",
              "<table border=\"1\" class=\"dataframe\">\n",
              "  <thead>\n",
              "    <tr style=\"text-align: right;\">\n",
              "      <th></th>\n",
              "      <th>month</th>\n",
              "      <th>load factor</th>\n",
              "      <th>cancellation rate</th>\n",
              "    </tr>\n",
              "  </thead>\n",
              "  <tbody>\n",
              "    <tr>\n",
              "      <th>0</th>\n",
              "      <td>1</td>\n",
              "      <td>NaN</td>\n",
              "      <td>NaN</td>\n",
              "    </tr>\n",
              "    <tr>\n",
              "      <th>1</th>\n",
              "      <td>2</td>\n",
              "      <td>NaN</td>\n",
              "      <td>NaN</td>\n",
              "    </tr>\n",
              "    <tr>\n",
              "      <th>2</th>\n",
              "      <td>3</td>\n",
              "      <td>NaN</td>\n",
              "      <td>NaN</td>\n",
              "    </tr>\n",
              "    <tr>\n",
              "      <th>3</th>\n",
              "      <td>4</td>\n",
              "      <td>NaN</td>\n",
              "      <td>NaN</td>\n",
              "    </tr>\n",
              "    <tr>\n",
              "      <th>4</th>\n",
              "      <td>5</td>\n",
              "      <td>NaN</td>\n",
              "      <td>NaN</td>\n",
              "    </tr>\n",
              "    <tr>\n",
              "      <th>5</th>\n",
              "      <td>6</td>\n",
              "      <td>NaN</td>\n",
              "      <td>NaN</td>\n",
              "    </tr>\n",
              "    <tr>\n",
              "      <th>6</th>\n",
              "      <td>7</td>\n",
              "      <td>NaN</td>\n",
              "      <td>NaN</td>\n",
              "    </tr>\n",
              "    <tr>\n",
              "      <th>7</th>\n",
              "      <td>8</td>\n",
              "      <td>NaN</td>\n",
              "      <td>NaN</td>\n",
              "    </tr>\n",
              "    <tr>\n",
              "      <th>8</th>\n",
              "      <td>9</td>\n",
              "      <td>NaN</td>\n",
              "      <td>NaN</td>\n",
              "    </tr>\n",
              "    <tr>\n",
              "      <th>9</th>\n",
              "      <td>10</td>\n",
              "      <td>NaN</td>\n",
              "      <td>NaN</td>\n",
              "    </tr>\n",
              "    <tr>\n",
              "      <th>10</th>\n",
              "      <td>11</td>\n",
              "      <td>NaN</td>\n",
              "      <td>NaN</td>\n",
              "    </tr>\n",
              "    <tr>\n",
              "      <th>11</th>\n",
              "      <td>12</td>\n",
              "      <td>NaN</td>\n",
              "      <td>NaN</td>\n",
              "    </tr>\n",
              "  </tbody>\n",
              "</table>\n",
              "</div>"
            ],
            "text/plain": [
              "    month load factor cancellation rate\n",
              "0       1         NaN               NaN\n",
              "1       2         NaN               NaN\n",
              "2       3         NaN               NaN\n",
              "3       4         NaN               NaN\n",
              "4       5         NaN               NaN\n",
              "5       6         NaN               NaN\n",
              "6       7         NaN               NaN\n",
              "7       8         NaN               NaN\n",
              "8       9         NaN               NaN\n",
              "9      10         NaN               NaN\n",
              "10     11         NaN               NaN\n",
              "11     12         NaN               NaN"
            ]
          },
          "metadata": {
            "tags": []
          },
          "execution_count": 342
        }
      ]
    },
    {
      "cell_type": "code",
      "metadata": {
        "id": "nNt014g0RI2R"
      },
      "source": [
        "for index, x in enumerate(F['load factor']):\n",
        "  F['load factor'].iloc[index]=loadF18[(loadF18['ORIGIN']=='DFW')&(loadF18['DEST']=='SAT')&(loadF18['MONTH']==F['month'].iloc[index])]['load factor'].mean()"
      ],
      "execution_count": null,
      "outputs": []
    },
    {
      "cell_type": "code",
      "metadata": {
        "id": "AzZ4Bf83RI2R"
      },
      "source": [
        "for index, x in enumerate(F['cancellation rate']):\n",
        "  F['cancellation rate'].iloc[index]=flight18[(flight18['ORIGIN']=='DFW')&(flight18['DEST']=='SAT')&(flight18['MONTH']==F['month'].iloc[index])].CANCELLED.mean()"
      ],
      "execution_count": null,
      "outputs": []
    },
    {
      "cell_type": "code",
      "metadata": {
        "colab": {
          "base_uri": "https://localhost:8080/",
          "height": 279
        },
        "id": "Bfjy2JHhRI2R",
        "outputId": "5630f90d-5cd5-4336-eab6-5347c75864c1"
      },
      "source": [
        "F.plot(x='load factor', y='cancellation rate', kind='scatter')\n",
        "plt.xlabel('load factor')\n",
        "plt.ylabel('cancellation rate')\n",
        "plt.show()"
      ],
      "execution_count": null,
      "outputs": [
        {
          "output_type": "display_data",
          "data": {
            "image/png": "[encoded data removed]",
            "text/plain": [
              "<Figure size 432x288 with 1 Axes>"
            ]
          },
          "metadata": {
            "tags": [],
            "needs_background": "light"
          }
        }
      ]
    },
    {
      "cell_type": "markdown",
      "metadata": {
        "id": "f50hnoPoRfGk"
      },
      "source": [
        "#####2017"
      ]
    },
    {
      "cell_type": "code",
      "metadata": {
        "id": "SjtvR1Y0Rkcr"
      },
      "source": [
        "columns=['month','load factor','cancellation rate']\n",
        "F=pd.DataFrame(columns=columns)\n",
        "month=np.array([1,2,3,4,5,6,7,8,9,10,11,12])"
      ],
      "execution_count": null,
      "outputs": []
    },
    {
      "cell_type": "code",
      "metadata": {
        "id": "bTQilOH3Rkcr"
      },
      "source": [
        "F['month']=month"
      ],
      "execution_count": null,
      "outputs": []
    },
    {
      "cell_type": "code",
      "metadata": {
        "colab": {
          "base_uri": "https://localhost:8080/",
          "height": 421
        },
        "id": "2IHMGpLFRkcs",
        "outputId": "5428cfd2-18f1-46c7-df4b-6fd0ca428479"
      },
      "source": [
        "F"
      ],
      "execution_count": null,
      "outputs": [
        {
          "output_type": "execute_result",
          "data": {
            "text/html": [
              "<div>\n",
              "<style scoped>\n",
              "    .dataframe tbody tr th:only-of-type {\n",
              "        vertical-align: middle;\n",
              "    }\n",
              "\n",
              "    .dataframe tbody tr th {\n",
              "        vertical-align: top;\n",
              "    }\n",
              "\n",
              "    .dataframe thead th {\n",
              "        text-align: right;\n",
              "    }\n",
              "</style>\n",
              "<table border=\"1\" class=\"dataframe\">\n",
              "  <thead>\n",
              "    <tr style=\"text-align: right;\">\n",
              "      <th></th>\n",
              "      <th>month</th>\n",
              "      <th>load factor</th>\n",
              "      <th>cancellation rate</th>\n",
              "    </tr>\n",
              "  </thead>\n",
              "  <tbody>\n",
              "    <tr>\n",
              "      <th>0</th>\n",
              "      <td>1</td>\n",
              "      <td>NaN</td>\n",
              "      <td>NaN</td>\n",
              "    </tr>\n",
              "    <tr>\n",
              "      <th>1</th>\n",
              "      <td>2</td>\n",
              "      <td>NaN</td>\n",
              "      <td>NaN</td>\n",
              "    </tr>\n",
              "    <tr>\n",
              "      <th>2</th>\n",
              "      <td>3</td>\n",
              "      <td>NaN</td>\n",
              "      <td>NaN</td>\n",
              "    </tr>\n",
              "    <tr>\n",
              "      <th>3</th>\n",
              "      <td>4</td>\n",
              "      <td>NaN</td>\n",
              "      <td>NaN</td>\n",
              "    </tr>\n",
              "    <tr>\n",
              "      <th>4</th>\n",
              "      <td>5</td>\n",
              "      <td>NaN</td>\n",
              "      <td>NaN</td>\n",
              "    </tr>\n",
              "    <tr>\n",
              "      <th>5</th>\n",
              "      <td>6</td>\n",
              "      <td>NaN</td>\n",
              "      <td>NaN</td>\n",
              "    </tr>\n",
              "    <tr>\n",
              "      <th>6</th>\n",
              "      <td>7</td>\n",
              "      <td>NaN</td>\n",
              "      <td>NaN</td>\n",
              "    </tr>\n",
              "    <tr>\n",
              "      <th>7</th>\n",
              "      <td>8</td>\n",
              "      <td>NaN</td>\n",
              "      <td>NaN</td>\n",
              "    </tr>\n",
              "    <tr>\n",
              "      <th>8</th>\n",
              "      <td>9</td>\n",
              "      <td>NaN</td>\n",
              "      <td>NaN</td>\n",
              "    </tr>\n",
              "    <tr>\n",
              "      <th>9</th>\n",
              "      <td>10</td>\n",
              "      <td>NaN</td>\n",
              "      <td>NaN</td>\n",
              "    </tr>\n",
              "    <tr>\n",
              "      <th>10</th>\n",
              "      <td>11</td>\n",
              "      <td>NaN</td>\n",
              "      <td>NaN</td>\n",
              "    </tr>\n",
              "    <tr>\n",
              "      <th>11</th>\n",
              "      <td>12</td>\n",
              "      <td>NaN</td>\n",
              "      <td>NaN</td>\n",
              "    </tr>\n",
              "  </tbody>\n",
              "</table>\n",
              "</div>"
            ],
            "text/plain": [
              "    month load factor cancellation rate\n",
              "0       1         NaN               NaN\n",
              "1       2         NaN               NaN\n",
              "2       3         NaN               NaN\n",
              "3       4         NaN               NaN\n",
              "4       5         NaN               NaN\n",
              "5       6         NaN               NaN\n",
              "6       7         NaN               NaN\n",
              "7       8         NaN               NaN\n",
              "8       9         NaN               NaN\n",
              "9      10         NaN               NaN\n",
              "10     11         NaN               NaN\n",
              "11     12         NaN               NaN"
            ]
          },
          "metadata": {
            "tags": []
          },
          "execution_count": 351
        }
      ]
    },
    {
      "cell_type": "code",
      "metadata": {
        "id": "H9IwfnhARkct"
      },
      "source": [
        "for index, x in enumerate(F['load factor']):\n",
        "  F['load factor'].iloc[index]=loadF17[(loadF17['ORIGIN']=='DFW')&(loadF17['DEST']=='SAT')&(loadF17['MONTH']==F['month'].iloc[index])]['load factor'].mean()"
      ],
      "execution_count": null,
      "outputs": []
    },
    {
      "cell_type": "code",
      "metadata": {
        "id": "jOqKY130Rkcu"
      },
      "source": [
        "for index, x in enumerate(F['cancellation rate']):\n",
        "  F['cancellation rate'].iloc[index]=flight17[(flight17['ORIGIN']=='DFW')&(flight17['DEST']=='SAT')&(flight17['MONTH']==F['month'].iloc[index])].CANCELLED.mean()"
      ],
      "execution_count": null,
      "outputs": []
    },
    {
      "cell_type": "code",
      "metadata": {
        "colab": {
          "base_uri": "https://localhost:8080/",
          "height": 279
        },
        "id": "JmJDCRvtRkcu",
        "outputId": "4bf0a437-17f5-4ee8-b8dc-536218641260"
      },
      "source": [
        "F.plot(x='load factor', y='cancellation rate', kind='scatter')\n",
        "plt.xlabel('load factor')\n",
        "plt.ylabel('cancellation rate')\n",
        "plt.show()"
      ],
      "execution_count": null,
      "outputs": [
        {
          "output_type": "display_data",
          "data": {
            "image/png": "[encoded data removed]",
            "text/plain": [
              "<Figure size 432x288 with 1 Axes>"
            ]
          },
          "metadata": {
            "tags": [],
            "needs_background": "light"
          }
        }
      ]
    },
    {
      "cell_type": "markdown",
      "metadata": {
        "id": "b8HAhJKlYrJb"
      },
      "source": [
        "####ATL(Atlanta) to BNA (NAshville)"
      ]
    },
    {
      "cell_type": "code",
      "metadata": {
        "id": "SnTiR3j2Y5Ep"
      },
      "source": [
        "columns=['month','year','load factor','cancellation rate']\n",
        "F=pd.DataFrame(columns=columns)\n",
        "month=np.array([1,2,3,4,5,6,7,8,9,10,11,12,1,2,3,4,5,6,7,8,9,10,11,12,1,2,3,4,5,6,7,8,9,10,11,12])"
      ],
      "execution_count": null,
      "outputs": []
    },
    {
      "cell_type": "code",
      "metadata": {
        "id": "bYOWTAdHY5Ez"
      },
      "source": [
        "F['year']=range(36)"
      ],
      "execution_count": null,
      "outputs": []
    },
    {
      "cell_type": "code",
      "metadata": {
        "id": "5AS1NReAY5Ez"
      },
      "source": [
        "for i in range(12):\n",
        "  F['year'].iloc[i]=2017"
      ],
      "execution_count": null,
      "outputs": []
    },
    {
      "cell_type": "code",
      "metadata": {
        "id": "aMPGk2q6Y5Ez"
      },
      "source": [
        "for i in range(12,24):\n",
        "  F['year'].iloc[i]=2018"
      ],
      "execution_count": null,
      "outputs": []
    },
    {
      "cell_type": "code",
      "metadata": {
        "id": "Ds_vGm6RY5E0"
      },
      "source": [
        "for i in range(24,36):\n",
        "  F['year'].iloc[i]=2019"
      ],
      "execution_count": null,
      "outputs": []
    },
    {
      "cell_type": "code",
      "metadata": {
        "id": "0wmooqpCY5E0"
      },
      "source": [
        "F['month']=month"
      ],
      "execution_count": null,
      "outputs": []
    },
    {
      "cell_type": "code",
      "metadata": {
        "id": "3trm4WFwY5E0"
      },
      "source": [
        "for index in range(12):\n",
        "  F['load factor'].iloc[index]=loadF17[(loadF17['ORIGIN']=='ATL')&(loadF17['DEST']=='BNA')&(loadF17['MONTH']==F['month'].iloc[index])]['load factor'].mean()"
      ],
      "execution_count": null,
      "outputs": []
    },
    {
      "cell_type": "code",
      "metadata": {
        "id": "HzhQGy2OY5E1"
      },
      "source": [
        "for index in range(12,24):\n",
        "  F['load factor'].iloc[index]=loadF18[(loadF18['ORIGIN']=='ATL')&(loadF18['DEST']=='BNA')&(loadF18['MONTH']==F['month'].iloc[index])]['load factor'].mean()"
      ],
      "execution_count": null,
      "outputs": []
    },
    {
      "cell_type": "code",
      "metadata": {
        "id": "blJrep01Y5E1"
      },
      "source": [
        "for index in range(24,36):\n",
        "  F['load factor'].iloc[index]=loadF19[(loadF19['ORIGIN']=='ATL')&(loadF19['DEST']=='BNA')&(loadF19['MONTH']==F['month'].iloc[index])]['load factor'].mean()"
      ],
      "execution_count": null,
      "outputs": []
    },
    {
      "cell_type": "code",
      "metadata": {
        "id": "1OdgRhUZY5E1"
      },
      "source": [
        "for index in range(12):\n",
        "  F['cancellation rate'].iloc[index]=flight17[(flight17['ORIGIN']=='ATL')&(flight17['DEST']=='BNA')&(flight17['MONTH']==F['month'].iloc[index])].CANCELLED.mean()"
      ],
      "execution_count": null,
      "outputs": []
    },
    {
      "cell_type": "code",
      "metadata": {
        "id": "DZIy8BfZY5E1"
      },
      "source": [
        "for index in range(12,24):\n",
        "  F['cancellation rate'].iloc[index]=flight18[(flight18['ORIGIN']=='ATL')&(flight18['DEST']=='BNA')&(flight18['MONTH']==F['month'].iloc[index])].CANCELLED.mean()\n"
      ],
      "execution_count": null,
      "outputs": []
    },
    {
      "cell_type": "code",
      "metadata": {
        "id": "rnsoOMFrY5E2"
      },
      "source": [
        "for index in range(24,36):\n",
        "  F['cancellation rate'].iloc[index]=flight19[(flight19['ORIGIN']=='ATL')&(flight19['DEST']=='BNA')&(flight19['MONTH']==F['month'].iloc[index])].CANCELLED.mean()"
      ],
      "execution_count": null,
      "outputs": []
    },
    {
      "cell_type": "code",
      "metadata": {
        "colab": {
          "base_uri": "https://localhost:8080/",
          "height": 281
        },
        "id": "q20A9mFjY5E2",
        "outputId": "67ca6d4a-feb8-40c8-fea5-8881cd599ff3"
      },
      "source": [
        "F.plot(x='load factor', y='cancellation rate', kind='scatter')\n",
        "plt.xlabel('load factor')\n",
        "plt.ylabel('cancellation rate')\n",
        "plt.show()"
      ],
      "execution_count": null,
      "outputs": [
        {
          "output_type": "display_data",
          "data": {
            "image/png": "[encoded data removed]",
            "text/plain": [
              "<Figure size 432x288 with 1 Axes>"
            ]
          },
          "metadata": {
            "tags": [],
            "needs_background": "light"
          }
        }
      ]
    },
    {
      "cell_type": "markdown",
      "metadata": {
        "id": "SbwKS-khlZhu"
      },
      "source": [
        "####SFO(San francisco) to LAX(los angeles)"
      ]
    },
    {
      "cell_type": "code",
      "metadata": {
        "id": "ysLHXf6ZltsQ"
      },
      "source": [
        "columns=['month','year','load factor','cancellation rate']\n",
        "F=pd.DataFrame(columns=columns)\n",
        "month=np.array([1,2,3,4,5,6,7,8,9,10,11,12,1,2,3,4,5,6,7,8,9,10,11,12,1,2,3,4,5,6,7,8,9,10,11,12])"
      ],
      "execution_count": null,
      "outputs": []
    },
    {
      "cell_type": "code",
      "metadata": {
        "id": "ifqAztzKltsR"
      },
      "source": [
        "F['year']=range(36)"
      ],
      "execution_count": null,
      "outputs": []
    },
    {
      "cell_type": "code",
      "metadata": {
        "id": "_-IyfzxYltsR"
      },
      "source": [
        "for i in range(12):\n",
        "  F['year'].iloc[i]=2017"
      ],
      "execution_count": null,
      "outputs": []
    },
    {
      "cell_type": "code",
      "metadata": {
        "id": "5rawH3LjltsR"
      },
      "source": [
        "for i in range(12,24):\n",
        "  F['year'].iloc[i]=2018"
      ],
      "execution_count": null,
      "outputs": []
    },
    {
      "cell_type": "code",
      "metadata": {
        "id": "7TA8E0K_ltsS"
      },
      "source": [
        "for i in range(24,36):\n",
        "  F['year'].iloc[i]=2019"
      ],
      "execution_count": null,
      "outputs": []
    },
    {
      "cell_type": "code",
      "metadata": {
        "id": "QbrQVJagltsS"
      },
      "source": [
        "F['month']=month"
      ],
      "execution_count": null,
      "outputs": []
    },
    {
      "cell_type": "code",
      "metadata": {
        "id": "a8cnLpAzltsS"
      },
      "source": [
        "for index in range(12):\n",
        "  F['load factor'].iloc[index]=loadF17[(loadF17['ORIGIN']=='SFO')&(loadF17['DEST']=='LAX')&(loadF17['MONTH']==F['month'].iloc[index])]['load factor'].mean()"
      ],
      "execution_count": null,
      "outputs": []
    },
    {
      "cell_type": "code",
      "metadata": {
        "id": "62J3EmK9ltsT"
      },
      "source": [
        "for index in range(12,24):\n",
        "  F['load factor'].iloc[index]=loadF18[(loadF18['ORIGIN']=='SFO')&(loadF18['DEST']=='LAX')&(loadF18['MONTH']==F['month'].iloc[index])]['load factor'].mean()"
      ],
      "execution_count": null,
      "outputs": []
    },
    {
      "cell_type": "code",
      "metadata": {
        "id": "VZu__vuXltsT"
      },
      "source": [
        "for index in range(24,36):\n",
        "  F['load factor'].iloc[index]=loadF19[(loadF19['ORIGIN']=='SFO')&(loadF19['DEST']=='LAX')&(loadF19['MONTH']==F['month'].iloc[index])]['load factor'].mean()"
      ],
      "execution_count": null,
      "outputs": []
    },
    {
      "cell_type": "code",
      "metadata": {
        "id": "7-1WCd7BltsT"
      },
      "source": [
        "for index in range(12):\n",
        "  F['cancellation rate'].iloc[index]=flight17[(flight17['ORIGIN']=='SFO')&(flight17['DEST']=='LAX')&(flight17['MONTH']==F['month'].iloc[index])].CANCELLED.mean()"
      ],
      "execution_count": null,
      "outputs": []
    },
    {
      "cell_type": "code",
      "metadata": {
        "id": "HPEBlWMMltsU"
      },
      "source": [
        "for index in range(12,24):\n",
        "  F['cancellation rate'].iloc[index]=flight18[(flight18['ORIGIN']=='SFO')&(flight18['DEST']=='LAX')&(flight18['MONTH']==F['month'].iloc[index])].CANCELLED.mean()\n"
      ],
      "execution_count": null,
      "outputs": []
    },
    {
      "cell_type": "code",
      "metadata": {
        "id": "LTv7yBOKltsU"
      },
      "source": [
        "for index in range(24,36):\n",
        "  F['cancellation rate'].iloc[index]=flight19[(flight19['ORIGIN']=='SFO')&(flight19['DEST']=='LAX')&(flight19['MONTH']==F['month'].iloc[index])].CANCELLED.mean()"
      ],
      "execution_count": null,
      "outputs": []
    },
    {
      "cell_type": "code",
      "metadata": {
        "colab": {
          "base_uri": "https://localhost:8080/",
          "height": 279
        },
        "id": "-PZ0OXRhltsU",
        "outputId": "1063d7f2-00df-49be-ad7b-999ea4b37097"
      },
      "source": [
        "F.plot(x='load factor', y='cancellation rate', kind='scatter')\n",
        "plt.xlabel('load factor')\n",
        "plt.ylabel('cancellation rate')\n",
        "plt.show()"
      ],
      "execution_count": null,
      "outputs": [
        {
          "output_type": "display_data",
          "data": {
            "image/png": "[encoded data removed]",
            "text/plain": [
              "<Figure size 432x288 with 1 Axes>"
            ]
          },
          "metadata": {
            "tags": [],
            "needs_background": "light"
          }
        }
      ]
    }
  ]
}